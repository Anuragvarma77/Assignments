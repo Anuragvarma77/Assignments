{
 "cells": [
  {
   "cell_type": "code",
   "execution_count": 4,
   "id": "a3371701-f335-42f0-98d3-c1c8cde998b3",
   "metadata": {},
   "outputs": [
    {
     "name": "stdout",
     "output_type": "stream",
     "text": [
      "15\n",
      "Sample Mean: 1.239\n",
      "Sample Standard Deviation: 0.193\n"
     ]
    }
   ],
   "source": [
    "import numpy as np\n",
    "import scipy.stats as stats\n",
    "\n",
    "# Given data (durability in millions of characters)\n",
    "data = np.array([1.13, 1.55, 1.43, 0.92, 1.25, 1.36, 1.32, 0.85, \n",
    "                 1.07, 1.48, 1.20, 1.33, 1.18, 1.22, 1.29])\n",
    "n = len(data)  # Sample size\n",
    "print(n)\n",
    "# Sample Mean and Standard Deviation\n",
    "x_bar = np.mean(data)\n",
    "s = np.std(data, ddof=1)  # Sample standard deviation (ddof=1 for unbiased estimate)\n",
    "\n",
    "# Confidence level and alpha\n",
    "confidence_level = 0.99\n",
    "alpha = 1 - confidence_level\n",
    "\n",
    "# Print Results\n",
    "print(f\"Sample Mean: {x_bar:.3f}\")\n",
    "print(f\"Sample Standard Deviation: {s:.3f}\")"
   ]
  },
  {
   "cell_type": "code",
   "execution_count": 9,
   "id": "5d6bb6df-1a37-4621-b77b-bad2b7ae6311",
   "metadata": {},
   "outputs": [
    {
     "name": "stdout",
     "output_type": "stream",
     "text": [
      "\n",
      "99% Confidence Interval using Sample Std Dev (t-distribution):\n",
      "t-critical: 2.977\n",
      "Margin of Error: 0.148\n",
      "Confidence Interval: (1.0901973384384906, 1.3871359948948425)\n"
     ]
    },
    {
     "data": {
      "text/plain": [
       "'When we do statistical inference using a sample, we estimate the population mean (𝜇) with a confidence interval. \\nSince the population standard deviation (σ) is unknown, \\nwe must use the t-distribution instead of the normal (z) distribution.'"
      ]
     },
     "execution_count": 9,
     "metadata": {},
     "output_type": "execute_result"
    }
   ],
   "source": [
    "# Part (a) - Confidence Interval Using t-distribution\n",
    "t_critical = stats.t.ppf(1 - alpha/2, df=n-1)\n",
    "ME_t = t_critical * (s / np.sqrt(n))\n",
    "CI_t = (x_bar - ME_t, x_bar + ME_t)\n",
    "\n",
    "print(\"\\n99% Confidence Interval using Sample Std Dev (t-distribution):\")\n",
    "print(f\"t-critical: {t_critical:.3f}\")\n",
    "print(f\"Margin of Error: {ME_t:.3f}\")\n",
    "print(f\"Confidence Interval: {CI_t}\")\n",
    "\n",
    "\n",
    "'''When we do statistical inference using a sample, we estimate the population mean (𝜇) with a confidence interval. \n",
    "Since the population standard deviation (σ) is unknown, \n",
    "we must use the t-distribution instead of the normal (z) distribution.'''"
   ]
  },
  {
   "cell_type": "code",
   "execution_count": 6,
   "id": "727014f2-9fe0-4711-8346-a86c4e221aa9",
   "metadata": {},
   "outputs": [
    {
     "name": "stdout",
     "output_type": "stream",
     "text": [
      "\n",
      "99% Confidence Interval using Known Population Std Dev (z-distribution):\n",
      "z-critical: 2.576\n",
      "Margin of Error: 0.133\n",
      "Confidence Interval: (1.1056514133957607, 1.3716819199375725)\n"
     ]
    }
   ],
   "source": [
    "# Part (b) - Confidence Interval Using z-distribution (known population std dev)\n",
    "sigma = 0.2  # Given population standard deviation\n",
    "z_critical = stats.norm.ppf(1 - alpha/2)\n",
    "ME_z = z_critical * (sigma / np.sqrt(n))\n",
    "CI_z = (x_bar - ME_z, x_bar + ME_z)\n",
    "\n",
    "print(\"\\n99% Confidence Interval using Known Population Std Dev (z-distribution):\")\n",
    "print(f\"z-critical: {z_critical:.3f}\")\n",
    "print(f\"Margin of Error: {ME_z:.3f}\")\n",
    "print(f\"Confidence Interval: {CI_z}\")"
   ]
  },
  {
   "cell_type": "code",
   "execution_count": null,
   "id": "422a6292-b56f-4332-a2ee-3a55c46b5d5e",
   "metadata": {},
   "outputs": [],
   "source": []
  }
 ],
 "metadata": {
  "kernelspec": {
   "display_name": "Python 3 (ipykernel)",
   "language": "python",
   "name": "python3"
  },
  "language_info": {
   "codemirror_mode": {
    "name": "ipython",
    "version": 3
   },
   "file_extension": ".py",
   "mimetype": "text/x-python",
   "name": "python",
   "nbconvert_exporter": "python",
   "pygments_lexer": "ipython3",
   "version": "3.12.7"
  }
 },
 "nbformat": 4,
 "nbformat_minor": 5
}
