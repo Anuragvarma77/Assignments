{
 "cells": [
  {
   "cell_type": "markdown",
   "id": "64f2a7c0-3728-4344-aacc-195a70cb8076",
   "metadata": {},
   "source": [
    "### Exercise 1: Prime Numbers"
   ]
  },
  {
   "cell_type": "code",
   "execution_count": 5,
   "id": "89c13327-91e1-4d44-a8d3-460cd9a437dc",
   "metadata": {},
   "outputs": [
    {
     "name": "stdin",
     "output_type": "stream",
     "text": [
      "Enter a number:  10\n"
     ]
    },
    {
     "name": "stdout",
     "output_type": "stream",
     "text": [
      "The number is not a prime number.\n"
     ]
    }
   ],
   "source": [
    "n = int(input(\"Enter a number: \"))\n",
    "if n < 2:\n",
    "    print(\"The given number is not a prime number.\")\n",
    "else:\n",
    "    for i in range(2, int(n ** 0.5) + 1):  # Check up to sqrt(n)\n",
    "        if n % i == 0:\n",
    "            print(\"The number is not a prime number.\")\n",
    "            break\n",
    "    else:\n",
    "        print(\"The number is a prime number.\")\n"
   ]
  },
  {
   "cell_type": "markdown",
   "id": "3c617540-3257-422d-8339-ef0519098714",
   "metadata": {},
   "source": [
    "### Exercise 2: Product of Random Numbers"
   ]
  },
  {
   "cell_type": "code",
   "execution_count": 9,
   "id": "00cc0927-f11d-4d8d-aeea-fdd001fe8ecd",
   "metadata": {},
   "outputs": [
    {
     "name": "stdin",
     "output_type": "stream",
     "text": [
      "What is 3 x 5?  15\n"
     ]
    },
    {
     "name": "stdout",
     "output_type": "stream",
     "text": [
      "Correct! Well done.\n"
     ]
    }
   ],
   "source": [
    "import random\n",
    "\n",
    "# Generate two random numbers\n",
    "num1 = random.randint(1, 10)\n",
    "num2 = random.randint(1, 10)\n",
    "\n",
    "# Calculate the correct answer\n",
    "correct_answer = num1 * num2\n",
    "\n",
    "# Ask the user for their answer\n",
    "user_answer = int(input(f\"What is {num1} x {num2}? \"))\n",
    "\n",
    "# Check if the answer is correct\n",
    "if user_answer == correct_answer:\n",
    "    print(\"Correct! Well done.\")\n",
    "else:\n",
    "    print(f\"Incorrect. The correct answer is {correct_answer}.\")\n"
   ]
  },
  {
   "cell_type": "markdown",
   "id": "b848ef3a-e049-4fde-8c5f-ed25944c2108",
   "metadata": {},
   "source": [
    "### Exercise 3: Squares of Even/Odd Numbers"
   ]
  },
  {
   "cell_type": "code",
   "execution_count": 10,
   "id": "adbc6309-7662-4525-8c4b-0f1901be2996",
   "metadata": {},
   "outputs": [
    {
     "name": "stdout",
     "output_type": "stream",
     "text": [
      "Square of 100 is 10000\n",
      "Square of 102 is 10404\n",
      "Square of 104 is 10816\n",
      "Square of 106 is 11236\n",
      "Square of 108 is 11664\n",
      "Square of 110 is 12100\n",
      "Square of 112 is 12544\n",
      "Square of 114 is 12996\n",
      "Square of 116 is 13456\n",
      "Square of 118 is 13924\n",
      "Square of 120 is 14400\n",
      "Square of 122 is 14884\n",
      "Square of 124 is 15376\n",
      "Square of 126 is 15876\n",
      "Square of 128 is 16384\n",
      "Square of 130 is 16900\n",
      "Square of 132 is 17424\n",
      "Square of 134 is 17956\n",
      "Square of 136 is 18496\n",
      "Square of 138 is 19044\n",
      "Square of 140 is 19600\n",
      "Square of 142 is 20164\n",
      "Square of 144 is 20736\n",
      "Square of 146 is 21316\n",
      "Square of 148 is 21904\n",
      "Square of 150 is 22500\n",
      "Square of 152 is 23104\n",
      "Square of 154 is 23716\n",
      "Square of 156 is 24336\n",
      "Square of 158 is 24964\n",
      "Square of 160 is 25600\n",
      "Square of 162 is 26244\n",
      "Square of 164 is 26896\n",
      "Square of 166 is 27556\n",
      "Square of 168 is 28224\n",
      "Square of 170 is 28900\n",
      "Square of 172 is 29584\n",
      "Square of 174 is 30276\n",
      "Square of 176 is 30976\n",
      "Square of 178 is 31684\n",
      "Square of 180 is 32400\n",
      "Square of 182 is 33124\n",
      "Square of 184 is 33856\n",
      "Square of 186 is 34596\n",
      "Square of 188 is 35344\n",
      "Square of 190 is 36100\n",
      "Square of 192 is 36864\n",
      "Square of 194 is 37636\n",
      "Square of 196 is 38416\n",
      "Square of 198 is 39204\n",
      "Square of 200 is 40000\n"
     ]
    }
   ],
   "source": [
    "# This script prints the squares of all even numbers within the range of 100 to 200.\n",
    "\n",
    "# Loop through the range and select even numbers\n",
    "for num in range(100, 201):\n",
    "    if num % 2 == 0:  # Check if the number is even\n",
    "        print(f\"Square of {num} is {num ** 2}\")\n"
   ]
  },
  {
   "cell_type": "markdown",
   "id": "9d5e902e-1cad-4624-9496-bdb3d84aea7b",
   "metadata": {},
   "source": [
    "### Exercise 4: Word counter"
   ]
  },
  {
   "cell_type": "code",
   "execution_count": 11,
   "id": "1d5361ae-25c5-4989-9f68-82c6dd9b6192",
   "metadata": {},
   "outputs": [
    {
     "name": "stdin",
     "output_type": "stream",
     "text": [
      "Enter the text This is a nice car\n"
     ]
    },
    {
     "name": "stdout",
     "output_type": "stream",
     "text": [
      "'This': 1\n",
      "'is': 1\n",
      "'a': 1\n",
      "'nice': 1\n",
      "'car': 1\n"
     ]
    }
   ],
   "source": [
    "# This script counts the number of occurrences of each word in a given text.\n",
    "\n",
    "from collections import Counter\n",
    "\n",
    "# Input text\n",
    "input_text =input(\"Enter the text\")\n",
    "\n",
    "# Split text into words\n",
    "words = input_text.split()\n",
    "\n",
    "# Count occurrences of each word\n",
    "word_counts = Counter(words)\n",
    "\n",
    "# Print word counts\n",
    "for word, count in word_counts.items():\n",
    "    print(f\"'{word}': {count}\")"
   ]
  },
  {
   "cell_type": "markdown",
   "id": "3f90b1ff-b063-4678-8bf8-0d0508d47e46",
   "metadata": {},
   "source": [
    "### Exercise 5: Check for Palindrome"
   ]
  },
  {
   "cell_type": "code",
   "execution_count": 14,
   "id": "2cf22222-c94a-4b9a-a579-7baf5e34ae16",
   "metadata": {},
   "outputs": [
    {
     "name": "stdin",
     "output_type": "stream",
     "text": [
      "Enter the string:  racecar\n"
     ]
    },
    {
     "name": "stdout",
     "output_type": "stream",
     "text": [
      "The given string is a palindrome.\n"
     ]
    }
   ],
   "source": [
    "def is_palindrome(n):\n",
    "    return n == n[::-1]\n",
    "\n",
    "n = input(\"Enter the string: \")\n",
    "if is_palindrome(n):\n",
    "    print(\"The given string is a palindrome.\")\n",
    "else:\n",
    "    print(\"The given string is not a palindrome.\")\n"
   ]
  },
  {
   "cell_type": "code",
   "execution_count": null,
   "id": "337c9bbe-a224-4783-9e29-7e9d2e7035c2",
   "metadata": {},
   "outputs": [],
   "source": []
  }
 ],
 "metadata": {
  "kernelspec": {
   "display_name": "Python 3 (ipykernel)",
   "language": "python",
   "name": "python3"
  },
  "language_info": {
   "codemirror_mode": {
    "name": "ipython",
    "version": 3
   },
   "file_extension": ".py",
   "mimetype": "text/x-python",
   "name": "python",
   "nbconvert_exporter": "python",
   "pygments_lexer": "ipython3",
   "version": "3.12.7"
  }
 },
 "nbformat": 4,
 "nbformat_minor": 5
}
