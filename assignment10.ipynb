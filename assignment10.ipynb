{
 "cells": [
  {
   "cell_type": "code",
   "execution_count": 1,
   "id": "50783df4-7b52-4617-81ac-14028cf6c347",
   "metadata": {},
   "outputs": [],
   "source": [
    "#pip install apyori"
   ]
  },
  {
   "cell_type": "code",
   "execution_count": 14,
   "id": "e3bc3685-5259-467a-b524-08309d0fb677",
   "metadata": {},
   "outputs": [
    {
     "data": {
      "text/html": [
       "<div>\n",
       "<style scoped>\n",
       "    .dataframe tbody tr th:only-of-type {\n",
       "        vertical-align: middle;\n",
       "    }\n",
       "\n",
       "    .dataframe tbody tr th {\n",
       "        vertical-align: top;\n",
       "    }\n",
       "\n",
       "    .dataframe thead th {\n",
       "        text-align: right;\n",
       "    }\n",
       "</style>\n",
       "<table border=\"1\" class=\"dataframe\">\n",
       "  <thead>\n",
       "    <tr style=\"text-align: right;\">\n",
       "      <th></th>\n",
       "      <th>0</th>\n",
       "      <th>1</th>\n",
       "      <th>2</th>\n",
       "      <th>3</th>\n",
       "      <th>4</th>\n",
       "      <th>5</th>\n",
       "      <th>6</th>\n",
       "      <th>7</th>\n",
       "      <th>8</th>\n",
       "      <th>9</th>\n",
       "      <th>10</th>\n",
       "      <th>11</th>\n",
       "      <th>12</th>\n",
       "      <th>13</th>\n",
       "      <th>14</th>\n",
       "      <th>15</th>\n",
       "      <th>16</th>\n",
       "      <th>17</th>\n",
       "      <th>18</th>\n",
       "      <th>19</th>\n",
       "    </tr>\n",
       "  </thead>\n",
       "  <tbody>\n",
       "    <tr>\n",
       "      <th>0</th>\n",
       "      <td>shrimp</td>\n",
       "      <td>almonds</td>\n",
       "      <td>avocado</td>\n",
       "      <td>vegetables mix</td>\n",
       "      <td>green grapes</td>\n",
       "      <td>whole weat flour</td>\n",
       "      <td>yams</td>\n",
       "      <td>cottage cheese</td>\n",
       "      <td>energy drink</td>\n",
       "      <td>tomato juice</td>\n",
       "      <td>low fat yogurt</td>\n",
       "      <td>green tea</td>\n",
       "      <td>honey</td>\n",
       "      <td>salad</td>\n",
       "      <td>mineral water</td>\n",
       "      <td>salmon</td>\n",
       "      <td>antioxydant juice</td>\n",
       "      <td>frozen smoothie</td>\n",
       "      <td>spinach</td>\n",
       "      <td>olive oil</td>\n",
       "    </tr>\n",
       "    <tr>\n",
       "      <th>1</th>\n",
       "      <td>burgers</td>\n",
       "      <td>meatballs</td>\n",
       "      <td>eggs</td>\n",
       "      <td>NaN</td>\n",
       "      <td>NaN</td>\n",
       "      <td>NaN</td>\n",
       "      <td>NaN</td>\n",
       "      <td>NaN</td>\n",
       "      <td>NaN</td>\n",
       "      <td>NaN</td>\n",
       "      <td>NaN</td>\n",
       "      <td>NaN</td>\n",
       "      <td>NaN</td>\n",
       "      <td>NaN</td>\n",
       "      <td>NaN</td>\n",
       "      <td>NaN</td>\n",
       "      <td>NaN</td>\n",
       "      <td>NaN</td>\n",
       "      <td>NaN</td>\n",
       "      <td>NaN</td>\n",
       "    </tr>\n",
       "    <tr>\n",
       "      <th>2</th>\n",
       "      <td>chutney</td>\n",
       "      <td>NaN</td>\n",
       "      <td>NaN</td>\n",
       "      <td>NaN</td>\n",
       "      <td>NaN</td>\n",
       "      <td>NaN</td>\n",
       "      <td>NaN</td>\n",
       "      <td>NaN</td>\n",
       "      <td>NaN</td>\n",
       "      <td>NaN</td>\n",
       "      <td>NaN</td>\n",
       "      <td>NaN</td>\n",
       "      <td>NaN</td>\n",
       "      <td>NaN</td>\n",
       "      <td>NaN</td>\n",
       "      <td>NaN</td>\n",
       "      <td>NaN</td>\n",
       "      <td>NaN</td>\n",
       "      <td>NaN</td>\n",
       "      <td>NaN</td>\n",
       "    </tr>\n",
       "    <tr>\n",
       "      <th>3</th>\n",
       "      <td>turkey</td>\n",
       "      <td>avocado</td>\n",
       "      <td>NaN</td>\n",
       "      <td>NaN</td>\n",
       "      <td>NaN</td>\n",
       "      <td>NaN</td>\n",
       "      <td>NaN</td>\n",
       "      <td>NaN</td>\n",
       "      <td>NaN</td>\n",
       "      <td>NaN</td>\n",
       "      <td>NaN</td>\n",
       "      <td>NaN</td>\n",
       "      <td>NaN</td>\n",
       "      <td>NaN</td>\n",
       "      <td>NaN</td>\n",
       "      <td>NaN</td>\n",
       "      <td>NaN</td>\n",
       "      <td>NaN</td>\n",
       "      <td>NaN</td>\n",
       "      <td>NaN</td>\n",
       "    </tr>\n",
       "    <tr>\n",
       "      <th>4</th>\n",
       "      <td>mineral water</td>\n",
       "      <td>milk</td>\n",
       "      <td>energy bar</td>\n",
       "      <td>whole wheat rice</td>\n",
       "      <td>green tea</td>\n",
       "      <td>NaN</td>\n",
       "      <td>NaN</td>\n",
       "      <td>NaN</td>\n",
       "      <td>NaN</td>\n",
       "      <td>NaN</td>\n",
       "      <td>NaN</td>\n",
       "      <td>NaN</td>\n",
       "      <td>NaN</td>\n",
       "      <td>NaN</td>\n",
       "      <td>NaN</td>\n",
       "      <td>NaN</td>\n",
       "      <td>NaN</td>\n",
       "      <td>NaN</td>\n",
       "      <td>NaN</td>\n",
       "      <td>NaN</td>\n",
       "    </tr>\n",
       "    <tr>\n",
       "      <th>...</th>\n",
       "      <td>...</td>\n",
       "      <td>...</td>\n",
       "      <td>...</td>\n",
       "      <td>...</td>\n",
       "      <td>...</td>\n",
       "      <td>...</td>\n",
       "      <td>...</td>\n",
       "      <td>...</td>\n",
       "      <td>...</td>\n",
       "      <td>...</td>\n",
       "      <td>...</td>\n",
       "      <td>...</td>\n",
       "      <td>...</td>\n",
       "      <td>...</td>\n",
       "      <td>...</td>\n",
       "      <td>...</td>\n",
       "      <td>...</td>\n",
       "      <td>...</td>\n",
       "      <td>...</td>\n",
       "      <td>...</td>\n",
       "    </tr>\n",
       "    <tr>\n",
       "      <th>7496</th>\n",
       "      <td>butter</td>\n",
       "      <td>light mayo</td>\n",
       "      <td>fresh bread</td>\n",
       "      <td>NaN</td>\n",
       "      <td>NaN</td>\n",
       "      <td>NaN</td>\n",
       "      <td>NaN</td>\n",
       "      <td>NaN</td>\n",
       "      <td>NaN</td>\n",
       "      <td>NaN</td>\n",
       "      <td>NaN</td>\n",
       "      <td>NaN</td>\n",
       "      <td>NaN</td>\n",
       "      <td>NaN</td>\n",
       "      <td>NaN</td>\n",
       "      <td>NaN</td>\n",
       "      <td>NaN</td>\n",
       "      <td>NaN</td>\n",
       "      <td>NaN</td>\n",
       "      <td>NaN</td>\n",
       "    </tr>\n",
       "    <tr>\n",
       "      <th>7497</th>\n",
       "      <td>burgers</td>\n",
       "      <td>frozen vegetables</td>\n",
       "      <td>eggs</td>\n",
       "      <td>french fries</td>\n",
       "      <td>magazines</td>\n",
       "      <td>green tea</td>\n",
       "      <td>NaN</td>\n",
       "      <td>NaN</td>\n",
       "      <td>NaN</td>\n",
       "      <td>NaN</td>\n",
       "      <td>NaN</td>\n",
       "      <td>NaN</td>\n",
       "      <td>NaN</td>\n",
       "      <td>NaN</td>\n",
       "      <td>NaN</td>\n",
       "      <td>NaN</td>\n",
       "      <td>NaN</td>\n",
       "      <td>NaN</td>\n",
       "      <td>NaN</td>\n",
       "      <td>NaN</td>\n",
       "    </tr>\n",
       "    <tr>\n",
       "      <th>7498</th>\n",
       "      <td>chicken</td>\n",
       "      <td>NaN</td>\n",
       "      <td>NaN</td>\n",
       "      <td>NaN</td>\n",
       "      <td>NaN</td>\n",
       "      <td>NaN</td>\n",
       "      <td>NaN</td>\n",
       "      <td>NaN</td>\n",
       "      <td>NaN</td>\n",
       "      <td>NaN</td>\n",
       "      <td>NaN</td>\n",
       "      <td>NaN</td>\n",
       "      <td>NaN</td>\n",
       "      <td>NaN</td>\n",
       "      <td>NaN</td>\n",
       "      <td>NaN</td>\n",
       "      <td>NaN</td>\n",
       "      <td>NaN</td>\n",
       "      <td>NaN</td>\n",
       "      <td>NaN</td>\n",
       "    </tr>\n",
       "    <tr>\n",
       "      <th>7499</th>\n",
       "      <td>escalope</td>\n",
       "      <td>green tea</td>\n",
       "      <td>NaN</td>\n",
       "      <td>NaN</td>\n",
       "      <td>NaN</td>\n",
       "      <td>NaN</td>\n",
       "      <td>NaN</td>\n",
       "      <td>NaN</td>\n",
       "      <td>NaN</td>\n",
       "      <td>NaN</td>\n",
       "      <td>NaN</td>\n",
       "      <td>NaN</td>\n",
       "      <td>NaN</td>\n",
       "      <td>NaN</td>\n",
       "      <td>NaN</td>\n",
       "      <td>NaN</td>\n",
       "      <td>NaN</td>\n",
       "      <td>NaN</td>\n",
       "      <td>NaN</td>\n",
       "      <td>NaN</td>\n",
       "    </tr>\n",
       "    <tr>\n",
       "      <th>7500</th>\n",
       "      <td>eggs</td>\n",
       "      <td>frozen smoothie</td>\n",
       "      <td>yogurt cake</td>\n",
       "      <td>low fat yogurt</td>\n",
       "      <td>NaN</td>\n",
       "      <td>NaN</td>\n",
       "      <td>NaN</td>\n",
       "      <td>NaN</td>\n",
       "      <td>NaN</td>\n",
       "      <td>NaN</td>\n",
       "      <td>NaN</td>\n",
       "      <td>NaN</td>\n",
       "      <td>NaN</td>\n",
       "      <td>NaN</td>\n",
       "      <td>NaN</td>\n",
       "      <td>NaN</td>\n",
       "      <td>NaN</td>\n",
       "      <td>NaN</td>\n",
       "      <td>NaN</td>\n",
       "      <td>NaN</td>\n",
       "    </tr>\n",
       "  </tbody>\n",
       "</table>\n",
       "<p>7501 rows × 20 columns</p>\n",
       "</div>"
      ],
      "text/plain": [
       "                 0                  1            2                 3   \\\n",
       "0            shrimp            almonds      avocado    vegetables mix   \n",
       "1           burgers          meatballs         eggs               NaN   \n",
       "2           chutney                NaN          NaN               NaN   \n",
       "3            turkey            avocado          NaN               NaN   \n",
       "4     mineral water               milk   energy bar  whole wheat rice   \n",
       "...             ...                ...          ...               ...   \n",
       "7496         butter         light mayo  fresh bread               NaN   \n",
       "7497        burgers  frozen vegetables         eggs      french fries   \n",
       "7498        chicken                NaN          NaN               NaN   \n",
       "7499       escalope          green tea          NaN               NaN   \n",
       "7500           eggs    frozen smoothie  yogurt cake    low fat yogurt   \n",
       "\n",
       "                4                 5     6               7             8   \\\n",
       "0     green grapes  whole weat flour  yams  cottage cheese  energy drink   \n",
       "1              NaN               NaN   NaN             NaN           NaN   \n",
       "2              NaN               NaN   NaN             NaN           NaN   \n",
       "3              NaN               NaN   NaN             NaN           NaN   \n",
       "4        green tea               NaN   NaN             NaN           NaN   \n",
       "...            ...               ...   ...             ...           ...   \n",
       "7496           NaN               NaN   NaN             NaN           NaN   \n",
       "7497     magazines         green tea   NaN             NaN           NaN   \n",
       "7498           NaN               NaN   NaN             NaN           NaN   \n",
       "7499           NaN               NaN   NaN             NaN           NaN   \n",
       "7500           NaN               NaN   NaN             NaN           NaN   \n",
       "\n",
       "                9               10         11     12     13             14  \\\n",
       "0     tomato juice  low fat yogurt  green tea  honey  salad  mineral water   \n",
       "1              NaN             NaN        NaN    NaN    NaN            NaN   \n",
       "2              NaN             NaN        NaN    NaN    NaN            NaN   \n",
       "3              NaN             NaN        NaN    NaN    NaN            NaN   \n",
       "4              NaN             NaN        NaN    NaN    NaN            NaN   \n",
       "...            ...             ...        ...    ...    ...            ...   \n",
       "7496           NaN             NaN        NaN    NaN    NaN            NaN   \n",
       "7497           NaN             NaN        NaN    NaN    NaN            NaN   \n",
       "7498           NaN             NaN        NaN    NaN    NaN            NaN   \n",
       "7499           NaN             NaN        NaN    NaN    NaN            NaN   \n",
       "7500           NaN             NaN        NaN    NaN    NaN            NaN   \n",
       "\n",
       "          15                 16               17       18         19  \n",
       "0     salmon  antioxydant juice  frozen smoothie  spinach  olive oil  \n",
       "1        NaN                NaN              NaN      NaN        NaN  \n",
       "2        NaN                NaN              NaN      NaN        NaN  \n",
       "3        NaN                NaN              NaN      NaN        NaN  \n",
       "4        NaN                NaN              NaN      NaN        NaN  \n",
       "...      ...                ...              ...      ...        ...  \n",
       "7496     NaN                NaN              NaN      NaN        NaN  \n",
       "7497     NaN                NaN              NaN      NaN        NaN  \n",
       "7498     NaN                NaN              NaN      NaN        NaN  \n",
       "7499     NaN                NaN              NaN      NaN        NaN  \n",
       "7500     NaN                NaN              NaN      NaN        NaN  \n",
       "\n",
       "[7501 rows x 20 columns]"
      ]
     },
     "execution_count": 14,
     "metadata": {},
     "output_type": "execute_result"
    }
   ],
   "source": [
    "from apyori import apriori\n",
    "import pandas as pd\n",
    "import numpy as np\n",
    "df=pd.read_csv(r\"C:\\Users\\anura\\Desktop\\d\\Market_Basket_Optimisation.csv\",header=None)\n",
    "df"
   ]
  },
  {
   "cell_type": "code",
   "execution_count": 15,
   "id": "089c238a-eb45-463a-8f4d-382bd1bb0f3a",
   "metadata": {},
   "outputs": [
    {
     "name": "stdout",
     "output_type": "stream",
     "text": [
      "0        0\n",
      "1     1754\n",
      "2     3112\n",
      "3     4156\n",
      "4     4972\n",
      "5     5637\n",
      "6     6132\n",
      "7     6520\n",
      "8     6847\n",
      "9     7106\n",
      "10    7245\n",
      "11    7347\n",
      "12    7414\n",
      "13    7454\n",
      "14    7476\n",
      "15    7493\n",
      "16    7497\n",
      "17    7497\n",
      "18    7498\n",
      "19    7500\n",
      "dtype: int64\n"
     ]
    }
   ],
   "source": [
    "#missing values \n",
    "print(df.isnull().sum())"
   ]
  },
  {
   "cell_type": "code",
   "execution_count": 16,
   "id": "27da403a-2f33-4506-a374-f3107cfc9389",
   "metadata": {},
   "outputs": [
    {
     "data": {
      "text/plain": [
       "pandas.core.frame.DataFrame"
      ]
     },
     "execution_count": 16,
     "metadata": {},
     "output_type": "execute_result"
    }
   ],
   "source": [
    "type(df)"
   ]
  },
  {
   "cell_type": "code",
   "execution_count": 17,
   "id": "3fd1afa7-cf2d-498b-b3c0-77b0efae1a44",
   "metadata": {},
   "outputs": [],
   "source": [
    "# Remove duplicate transactions\n",
    "#df.drop_duplicates(inplace=True)"
   ]
  },
  {
   "cell_type": "code",
   "execution_count": 19,
   "id": "c8115149-59c6-4ba1-aef9-529c38bc178c",
   "metadata": {},
   "outputs": [
    {
     "data": {
      "text/plain": [
       "list"
      ]
     },
     "execution_count": 19,
     "metadata": {},
     "output_type": "execute_result"
    }
   ],
   "source": [
    "trans =[]\n",
    "for i in range(0, 7501):\n",
    "    trans.append([str(df.values[i, j]) for j in range(0,20)])\n",
    "trans\n",
    "type(trans)"
   ]
  },
  {
   "cell_type": "code",
   "execution_count": 20,
   "id": "050a36db-7236-474d-bcdc-e6c56020f5dc",
   "metadata": {},
   "outputs": [
    {
     "data": {
      "text/plain": [
       "['shrimp',\n",
       " 'almonds',\n",
       " 'avocado',\n",
       " 'vegetables mix',\n",
       " 'green grapes',\n",
       " 'whole weat flour',\n",
       " 'yams',\n",
       " 'cottage cheese',\n",
       " 'energy drink',\n",
       " 'tomato juice',\n",
       " 'low fat yogurt',\n",
       " 'green tea',\n",
       " 'honey',\n",
       " 'salad',\n",
       " 'mineral water',\n",
       " 'salmon',\n",
       " 'antioxydant juice',\n",
       " 'frozen smoothie',\n",
       " 'spinach',\n",
       " 'olive oil']"
      ]
     },
     "execution_count": 20,
     "metadata": {},
     "output_type": "execute_result"
    }
   ],
   "source": [
    "trans[0]"
   ]
  },
  {
   "cell_type": "code",
   "execution_count": 21,
   "id": "40823106-afb4-4a2c-ba78-36cfe0a9a875",
   "metadata": {},
   "outputs": [
    {
     "data": {
      "text/plain": [
       "['eggs',\n",
       " 'frozen smoothie',\n",
       " 'yogurt cake',\n",
       " 'low fat yogurt',\n",
       " 'nan',\n",
       " 'nan',\n",
       " 'nan',\n",
       " 'nan',\n",
       " 'nan',\n",
       " 'nan',\n",
       " 'nan',\n",
       " 'nan',\n",
       " 'nan',\n",
       " 'nan',\n",
       " 'nan',\n",
       " 'nan',\n",
       " 'nan',\n",
       " 'nan',\n",
       " 'nan',\n",
       " 'nan']"
      ]
     },
     "execution_count": 21,
     "metadata": {},
     "output_type": "execute_result"
    }
   ],
   "source": [
    "trans[7500]"
   ]
  },
  {
   "cell_type": "code",
   "execution_count": 22,
   "id": "00a3785e-6eca-4568-aefe-a09cacae9857",
   "metadata": {},
   "outputs": [
    {
     "data": {
      "text/plain": [
       "<generator object apriori at 0x00000216DD776F80>"
      ]
     },
     "execution_count": 22,
     "metadata": {},
     "output_type": "execute_result"
    }
   ],
   "source": [
    "#Training the apriori model on the dataset \n",
    "from apyori import apriori\n",
    "\n",
    "rules =apriori(transactions =trans,\n",
    "               min_support     =0.003,\n",
    "               min_confidence  =0.2,\n",
    "               min_lift        =3,\n",
    "               min_length      =2,\n",
    "               max_length      =2)\n",
    "rules"
   ]
  },
  {
   "cell_type": "code",
   "execution_count": 23,
   "id": "b1ce8a18-b2aa-40d5-8b23-97b45d05e291",
   "metadata": {},
   "outputs": [
    {
     "data": {
      "text/plain": [
       "[RelationRecord(items=frozenset({'light cream', 'chicken'}), support=0.004532728969470737, ordered_statistics=[OrderedStatistic(items_base=frozenset({'light cream'}), items_add=frozenset({'chicken'}), confidence=0.29059829059829057, lift=4.84395061728395)]),\n",
       " RelationRecord(items=frozenset({'escalope', 'mushroom cream sauce'}), support=0.005732568990801226, ordered_statistics=[OrderedStatistic(items_base=frozenset({'mushroom cream sauce'}), items_add=frozenset({'escalope'}), confidence=0.3006993006993007, lift=3.790832696715049)]),\n",
       " RelationRecord(items=frozenset({'escalope', 'pasta'}), support=0.005865884548726837, ordered_statistics=[OrderedStatistic(items_base=frozenset({'pasta'}), items_add=frozenset({'escalope'}), confidence=0.3728813559322034, lift=4.700811850163794)]),\n",
       " RelationRecord(items=frozenset({'honey', 'fromage blanc'}), support=0.003332888948140248, ordered_statistics=[OrderedStatistic(items_base=frozenset({'fromage blanc'}), items_add=frozenset({'honey'}), confidence=0.2450980392156863, lift=5.164270764485569)]),\n",
       " RelationRecord(items=frozenset({'ground beef', 'herb & pepper'}), support=0.015997866951073192, ordered_statistics=[OrderedStatistic(items_base=frozenset({'herb & pepper'}), items_add=frozenset({'ground beef'}), confidence=0.3234501347708895, lift=3.2919938411349285)]),\n",
       " RelationRecord(items=frozenset({'ground beef', 'tomato sauce'}), support=0.005332622317024397, ordered_statistics=[OrderedStatistic(items_base=frozenset({'tomato sauce'}), items_add=frozenset({'ground beef'}), confidence=0.3773584905660377, lift=3.840659481324083)]),\n",
       " RelationRecord(items=frozenset({'olive oil', 'light cream'}), support=0.003199573390214638, ordered_statistics=[OrderedStatistic(items_base=frozenset({'light cream'}), items_add=frozenset({'olive oil'}), confidence=0.20512820512820515, lift=3.1147098515519573)]),\n",
       " RelationRecord(items=frozenset({'whole wheat pasta', 'olive oil'}), support=0.007998933475536596, ordered_statistics=[OrderedStatistic(items_base=frozenset({'whole wheat pasta'}), items_add=frozenset({'olive oil'}), confidence=0.2714932126696833, lift=4.122410097642296)]),\n",
       " RelationRecord(items=frozenset({'shrimp', 'pasta'}), support=0.005065991201173177, ordered_statistics=[OrderedStatistic(items_base=frozenset({'pasta'}), items_add=frozenset({'shrimp'}), confidence=0.3220338983050847, lift=4.506672147735896)])]"
      ]
     },
     "execution_count": 23,
     "metadata": {},
     "output_type": "execute_result"
    }
   ],
   "source": [
    "reports =list(rules)\n",
    "reports"
   ]
  },
  {
   "cell_type": "code",
   "execution_count": 24,
   "id": "15c6ed00-d962-47d9-9595-00c8149fcf67",
   "metadata": {},
   "outputs": [
    {
     "data": {
      "text/plain": [
       "9"
      ]
     },
     "execution_count": 24,
     "metadata": {},
     "output_type": "execute_result"
    }
   ],
   "source": [
    "len(reports)"
   ]
  },
  {
   "cell_type": "code",
   "execution_count": 25,
   "id": "3f99f3e0-20e4-4bee-8661-5f112f938cde",
   "metadata": {},
   "outputs": [
    {
     "data": {
      "text/plain": [
       "RelationRecord(items=frozenset({'light cream', 'chicken'}), support=0.004532728969470737, ordered_statistics=[OrderedStatistic(items_base=frozenset({'light cream'}), items_add=frozenset({'chicken'}), confidence=0.29059829059829057, lift=4.84395061728395)])"
      ]
     },
     "execution_count": 25,
     "metadata": {},
     "output_type": "execute_result"
    }
   ],
   "source": [
    "reports[0]"
   ]
  },
  {
   "cell_type": "code",
   "execution_count": 26,
   "id": "e0f6a989-abea-47d4-a926-e006503d25da",
   "metadata": {},
   "outputs": [
    {
     "data": {
      "text/plain": [
       "0.004532728969470737"
      ]
     },
     "execution_count": 26,
     "metadata": {},
     "output_type": "execute_result"
    }
   ],
   "source": [
    "reports[0][1]  #support"
   ]
  },
  {
   "cell_type": "code",
   "execution_count": 27,
   "id": "a6c51ffb-da06-4c57-bafb-9a4011f04ec8",
   "metadata": {},
   "outputs": [
    {
     "data": {
      "text/plain": [
       "frozenset({'light cream'})"
      ]
     },
     "execution_count": 27,
     "metadata": {},
     "output_type": "execute_result"
    }
   ],
   "source": [
    "reports[0][2][0][0]  #Base item"
   ]
  },
  {
   "cell_type": "code",
   "execution_count": 28,
   "id": "d7a95838-8ff7-4378-a907-9f882ceda0ff",
   "metadata": {},
   "outputs": [
    {
     "data": {
      "text/plain": [
       "frozenset({'chicken'})"
      ]
     },
     "execution_count": 28,
     "metadata": {},
     "output_type": "execute_result"
    }
   ],
   "source": [
    "reports[0][2][0][1]  #add items"
   ]
  },
  {
   "cell_type": "code",
   "execution_count": 29,
   "id": "a9b41beb-e391-4475-bb2e-14fb072b0b93",
   "metadata": {},
   "outputs": [
    {
     "data": {
      "text/plain": [
       "0.29059829059829057"
      ]
     },
     "execution_count": 29,
     "metadata": {},
     "output_type": "execute_result"
    }
   ],
   "source": [
    "reports[0][2][0][2]   #confidence"
   ]
  },
  {
   "cell_type": "code",
   "execution_count": 30,
   "id": "54a11bd4-4cb0-4ede-b1ca-974a689c8506",
   "metadata": {},
   "outputs": [
    {
     "data": {
      "text/plain": [
       "4.84395061728395"
      ]
     },
     "execution_count": 30,
     "metadata": {},
     "output_type": "execute_result"
    }
   ],
   "source": [
    "reports[0][2][0][3]   #lift"
   ]
  },
  {
   "cell_type": "code",
   "execution_count": 31,
   "id": "8429e0d1-3683-4070-80ac-3c0f6c4cb9eb",
   "metadata": {},
   "outputs": [
    {
     "name": "stdout",
     "output_type": "stream",
     "text": [
      "Collecting mlxtend\n",
      "  Downloading mlxtend-0.23.4-py3-none-any.whl.metadata (7.3 kB)\n",
      "Requirement already satisfied: scipy>=1.2.1 in c:\\users\\anura\\anaconda5-3-25\\lib\\site-packages (from mlxtend) (1.13.1)\n",
      "Requirement already satisfied: numpy>=1.16.2 in c:\\users\\anura\\anaconda5-3-25\\lib\\site-packages (from mlxtend) (1.26.4)\n",
      "Requirement already satisfied: pandas>=0.24.2 in c:\\users\\anura\\anaconda5-3-25\\lib\\site-packages (from mlxtend) (2.2.2)\n",
      "Requirement already satisfied: scikit-learn>=1.3.1 in c:\\users\\anura\\anaconda5-3-25\\lib\\site-packages (from mlxtend) (1.5.1)\n",
      "Requirement already satisfied: matplotlib>=3.0.0 in c:\\users\\anura\\anaconda5-3-25\\lib\\site-packages (from mlxtend) (3.9.2)\n",
      "Requirement already satisfied: joblib>=0.13.2 in c:\\users\\anura\\anaconda5-3-25\\lib\\site-packages (from mlxtend) (1.4.2)\n",
      "Requirement already satisfied: contourpy>=1.0.1 in c:\\users\\anura\\anaconda5-3-25\\lib\\site-packages (from matplotlib>=3.0.0->mlxtend) (1.2.0)\n",
      "Requirement already satisfied: cycler>=0.10 in c:\\users\\anura\\anaconda5-3-25\\lib\\site-packages (from matplotlib>=3.0.0->mlxtend) (0.11.0)\n",
      "Requirement already satisfied: fonttools>=4.22.0 in c:\\users\\anura\\anaconda5-3-25\\lib\\site-packages (from matplotlib>=3.0.0->mlxtend) (4.51.0)\n",
      "Requirement already satisfied: kiwisolver>=1.3.1 in c:\\users\\anura\\anaconda5-3-25\\lib\\site-packages (from matplotlib>=3.0.0->mlxtend) (1.4.4)\n",
      "Requirement already satisfied: packaging>=20.0 in c:\\users\\anura\\anaconda5-3-25\\lib\\site-packages (from matplotlib>=3.0.0->mlxtend) (24.1)\n",
      "Requirement already satisfied: pillow>=8 in c:\\users\\anura\\anaconda5-3-25\\lib\\site-packages (from matplotlib>=3.0.0->mlxtend) (10.4.0)\n",
      "Requirement already satisfied: pyparsing>=2.3.1 in c:\\users\\anura\\anaconda5-3-25\\lib\\site-packages (from matplotlib>=3.0.0->mlxtend) (3.1.2)\n",
      "Requirement already satisfied: python-dateutil>=2.7 in c:\\users\\anura\\anaconda5-3-25\\lib\\site-packages (from matplotlib>=3.0.0->mlxtend) (2.9.0.post0)\n",
      "Requirement already satisfied: pytz>=2020.1 in c:\\users\\anura\\anaconda5-3-25\\lib\\site-packages (from pandas>=0.24.2->mlxtend) (2024.1)\n",
      "Requirement already satisfied: tzdata>=2022.7 in c:\\users\\anura\\anaconda5-3-25\\lib\\site-packages (from pandas>=0.24.2->mlxtend) (2023.3)\n",
      "Requirement already satisfied: threadpoolctl>=3.1.0 in c:\\users\\anura\\anaconda5-3-25\\lib\\site-packages (from scikit-learn>=1.3.1->mlxtend) (3.5.0)\n",
      "Requirement already satisfied: six>=1.5 in c:\\users\\anura\\anaconda5-3-25\\lib\\site-packages (from python-dateutil>=2.7->matplotlib>=3.0.0->mlxtend) (1.16.0)\n",
      "Downloading mlxtend-0.23.4-py3-none-any.whl (1.4 MB)\n",
      "   ---------------------------------------- 0.0/1.4 MB ? eta -:--:--\n",
      "   ------- -------------------------------- 0.3/1.4 MB ? eta -:--:--\n",
      "   ----------------------- ---------------- 0.8/1.4 MB 3.3 MB/s eta 0:00:01\n",
      "   ---------------------------------------- 1.4/1.4 MB 2.5 MB/s eta 0:00:00\n",
      "Installing collected packages: mlxtend\n",
      "Successfully installed mlxtend-0.23.4\n",
      "Note: you may need to restart the kernel to use updated packages.\n"
     ]
    }
   ],
   "source": [
    "pip install mlxtend"
   ]
  },
  {
   "cell_type": "code",
   "execution_count": 32,
   "id": "696f3dfd-4e42-41ff-96a2-86003aff997d",
   "metadata": {},
   "outputs": [
    {
     "data": {
      "image/png": "[encoded data removed]",
      "text/plain": [
       "<Figure size 1000x600 with 1 Axes>"
      ]
     },
     "metadata": {},
     "output_type": "display_data"
    },
    {
     "data": {
      "text/html": [
       "<div>\n",
       "<style scoped>\n",
       "    .dataframe tbody tr th:only-of-type {\n",
       "        vertical-align: middle;\n",
       "    }\n",
       "\n",
       "    .dataframe tbody tr th {\n",
       "        vertical-align: top;\n",
       "    }\n",
       "\n",
       "    .dataframe thead th {\n",
       "        text-align: right;\n",
       "    }\n",
       "</style>\n",
       "<table border=\"1\" class=\"dataframe\">\n",
       "  <thead>\n",
       "    <tr style=\"text-align: right;\">\n",
       "      <th></th>\n",
       "      <th>support</th>\n",
       "      <th>confidence</th>\n",
       "      <th>num_rules</th>\n",
       "    </tr>\n",
       "  </thead>\n",
       "  <tbody>\n",
       "    <tr>\n",
       "      <th>0</th>\n",
       "      <td>0.01</td>\n",
       "      <td>0.3</td>\n",
       "      <td>63</td>\n",
       "    </tr>\n",
       "    <tr>\n",
       "      <th>1</th>\n",
       "      <td>0.01</td>\n",
       "      <td>0.4</td>\n",
       "      <td>18</td>\n",
       "    </tr>\n",
       "    <tr>\n",
       "      <th>2</th>\n",
       "      <td>0.01</td>\n",
       "      <td>0.5</td>\n",
       "      <td>2</td>\n",
       "    </tr>\n",
       "    <tr>\n",
       "      <th>3</th>\n",
       "      <td>0.02</td>\n",
       "      <td>0.3</td>\n",
       "      <td>20</td>\n",
       "    </tr>\n",
       "    <tr>\n",
       "      <th>4</th>\n",
       "      <td>0.02</td>\n",
       "      <td>0.4</td>\n",
       "      <td>3</td>\n",
       "    </tr>\n",
       "    <tr>\n",
       "      <th>5</th>\n",
       "      <td>0.02</td>\n",
       "      <td>0.5</td>\n",
       "      <td>0</td>\n",
       "    </tr>\n",
       "    <tr>\n",
       "      <th>6</th>\n",
       "      <td>0.03</td>\n",
       "      <td>0.3</td>\n",
       "      <td>7</td>\n",
       "    </tr>\n",
       "    <tr>\n",
       "      <th>7</th>\n",
       "      <td>0.03</td>\n",
       "      <td>0.4</td>\n",
       "      <td>1</td>\n",
       "    </tr>\n",
       "    <tr>\n",
       "      <th>8</th>\n",
       "      <td>0.03</td>\n",
       "      <td>0.5</td>\n",
       "      <td>0</td>\n",
       "    </tr>\n",
       "  </tbody>\n",
       "</table>\n",
       "</div>"
      ],
      "text/plain": [
       "   support  confidence  num_rules\n",
       "0     0.01         0.3         63\n",
       "1     0.01         0.4         18\n",
       "2     0.01         0.5          2\n",
       "3     0.02         0.3         20\n",
       "4     0.02         0.4          3\n",
       "5     0.02         0.5          0\n",
       "6     0.03         0.3          7\n",
       "7     0.03         0.4          1\n",
       "8     0.03         0.5          0"
      ]
     },
     "execution_count": 32,
     "metadata": {},
     "output_type": "execute_result"
    }
   ],
   "source": [
    "from mlxtend.frequent_patterns import apriori, association_rules\n",
    "from mlxtend.preprocessing import TransactionEncoder\n",
    "import matplotlib.pyplot as plt\n",
    "import seaborn as sns\n",
    "\n",
    "# Prepare transaction data\n",
    "transactions = []\n",
    "for i in range(0, 7501):\n",
    "    transactions.append([str(df.values[i, j]) for j in range(0, 20) if str(df.values[i, j]) != 'nan'])\n",
    "\n",
    "# Encode transactions into one-hot format\n",
    "te = TransactionEncoder()\n",
    "te_ary = te.fit(transactions).transform(transactions)\n",
    "df_encoded = pd.DataFrame(te_ary, columns=te.columns_)\n",
    "\n",
    "# Define different values for support and confidence\n",
    "support_values = [0.01, 0.02, 0.03]\n",
    "confidence_values = [0.3, 0.4, 0.5]\n",
    "\n",
    "# Store results for visualization\n",
    "results = []\n",
    "\n",
    "# Loop over support and confidence combinations\n",
    "for support in support_values:\n",
    "    frequent_itemsets = apriori(df_encoded, min_support=support, use_colnames=True)\n",
    "    for confidence in confidence_values:\n",
    "        rules = association_rules(frequent_itemsets, metric=\"confidence\", min_threshold=confidence)\n",
    "        results.append({\n",
    "            'support': support,\n",
    "            'confidence': confidence,\n",
    "            'num_rules': len(rules)\n",
    "        })\n",
    "\n",
    "# Convert results to DataFrame for visualization\n",
    "results_df = pd.DataFrame(results)\n",
    "\n",
    "# Plot the results\n",
    "plt.figure(figsize=(10, 6))\n",
    "sns.barplot(x='support', y='num_rules', hue='confidence', data=results_df)\n",
    "plt.title('Number of Association Rules vs Support & Confidence Levels')\n",
    "plt.ylabel('Number of Rules')\n",
    "plt.xlabel('Minimum Support')\n",
    "plt.legend(title='Confidence')\n",
    "plt.tight_layout()\n",
    "plt.show()\n",
    "\n",
    "results_df\n"
   ]
  },
  {
   "cell_type": "markdown",
   "id": "8d9a73d2-e679-49bd-898f-9f15e1bf1e6e",
   "metadata": {},
   "source": [
    "### Analysis and Interpretation:"
   ]
  },
  {
   "cell_type": "code",
   "execution_count": 33,
   "id": "429848aa-8105-42bc-bc88-748be34385f6",
   "metadata": {},
   "outputs": [],
   "source": [
    "a =[]\n",
    "b =[]\n",
    "c =[]\n",
    "d =[]\n",
    "e =[]"
   ]
  },
  {
   "cell_type": "code",
   "execution_count": 34,
   "id": "35958c96-b25c-4268-a498-271534b4ade1",
   "metadata": {},
   "outputs": [],
   "source": [
    "for i in range(0, 9):\n",
    "    a.append(reports[i][2][0][0])    #Base items\n",
    "    b.append(reports[i][2][0][1])    #add items\n",
    "    c.append(reports[i][1])          #supports\n",
    "    d.append(reports[i][2][0][2])    #confidence \n",
    "    e.append(reports[i][2][0][3])    #lift"
   ]
  },
  {
   "cell_type": "code",
   "execution_count": 35,
   "id": "899da9a7-f823-41af-a196-d1c683da8a36",
   "metadata": {},
   "outputs": [],
   "source": [
    "Base     =pd.DataFrame(a)\n",
    "add      =pd.DataFrame(b)\n",
    "support  =pd.DataFrame(c)\n",
    "conf     =pd.DataFrame(d)\n",
    "lift     =pd.DataFrame(e)"
   ]
  },
  {
   "cell_type": "code",
   "execution_count": 36,
   "id": "443276c5-fb05-44cf-b975-8e294209a12d",
   "metadata": {},
   "outputs": [
    {
     "data": {
      "text/html": [
       "<div>\n",
       "<style scoped>\n",
       "    .dataframe tbody tr th:only-of-type {\n",
       "        vertical-align: middle;\n",
       "    }\n",
       "\n",
       "    .dataframe tbody tr th {\n",
       "        vertical-align: top;\n",
       "    }\n",
       "\n",
       "    .dataframe thead th {\n",
       "        text-align: right;\n",
       "    }\n",
       "</style>\n",
       "<table border=\"1\" class=\"dataframe\">\n",
       "  <thead>\n",
       "    <tr style=\"text-align: right;\">\n",
       "      <th></th>\n",
       "      <th>Base</th>\n",
       "      <th>add</th>\n",
       "      <th>support</th>\n",
       "      <th>conf</th>\n",
       "      <th>lift</th>\n",
       "    </tr>\n",
       "  </thead>\n",
       "  <tbody>\n",
       "    <tr>\n",
       "      <th>0</th>\n",
       "      <td>light cream</td>\n",
       "      <td>chicken</td>\n",
       "      <td>0.004533</td>\n",
       "      <td>0.290598</td>\n",
       "      <td>4.843951</td>\n",
       "    </tr>\n",
       "    <tr>\n",
       "      <th>1</th>\n",
       "      <td>mushroom cream sauce</td>\n",
       "      <td>escalope</td>\n",
       "      <td>0.005733</td>\n",
       "      <td>0.300699</td>\n",
       "      <td>3.790833</td>\n",
       "    </tr>\n",
       "    <tr>\n",
       "      <th>2</th>\n",
       "      <td>pasta</td>\n",
       "      <td>escalope</td>\n",
       "      <td>0.005866</td>\n",
       "      <td>0.372881</td>\n",
       "      <td>4.700812</td>\n",
       "    </tr>\n",
       "    <tr>\n",
       "      <th>3</th>\n",
       "      <td>fromage blanc</td>\n",
       "      <td>honey</td>\n",
       "      <td>0.003333</td>\n",
       "      <td>0.245098</td>\n",
       "      <td>5.164271</td>\n",
       "    </tr>\n",
       "    <tr>\n",
       "      <th>4</th>\n",
       "      <td>herb &amp; pepper</td>\n",
       "      <td>ground beef</td>\n",
       "      <td>0.015998</td>\n",
       "      <td>0.323450</td>\n",
       "      <td>3.291994</td>\n",
       "    </tr>\n",
       "    <tr>\n",
       "      <th>5</th>\n",
       "      <td>tomato sauce</td>\n",
       "      <td>ground beef</td>\n",
       "      <td>0.005333</td>\n",
       "      <td>0.377358</td>\n",
       "      <td>3.840659</td>\n",
       "    </tr>\n",
       "    <tr>\n",
       "      <th>6</th>\n",
       "      <td>light cream</td>\n",
       "      <td>olive oil</td>\n",
       "      <td>0.003200</td>\n",
       "      <td>0.205128</td>\n",
       "      <td>3.114710</td>\n",
       "    </tr>\n",
       "    <tr>\n",
       "      <th>7</th>\n",
       "      <td>whole wheat pasta</td>\n",
       "      <td>olive oil</td>\n",
       "      <td>0.007999</td>\n",
       "      <td>0.271493</td>\n",
       "      <td>4.122410</td>\n",
       "    </tr>\n",
       "    <tr>\n",
       "      <th>8</th>\n",
       "      <td>pasta</td>\n",
       "      <td>shrimp</td>\n",
       "      <td>0.005066</td>\n",
       "      <td>0.322034</td>\n",
       "      <td>4.506672</td>\n",
       "    </tr>\n",
       "  </tbody>\n",
       "</table>\n",
       "</div>"
      ],
      "text/plain": [
       "                   Base          add   support      conf      lift\n",
       "0           light cream      chicken  0.004533  0.290598  4.843951\n",
       "1  mushroom cream sauce     escalope  0.005733  0.300699  3.790833\n",
       "2                 pasta     escalope  0.005866  0.372881  4.700812\n",
       "3         fromage blanc        honey  0.003333  0.245098  5.164271\n",
       "4         herb & pepper  ground beef  0.015998  0.323450  3.291994\n",
       "5          tomato sauce  ground beef  0.005333  0.377358  3.840659\n",
       "6           light cream    olive oil  0.003200  0.205128  3.114710\n",
       "7     whole wheat pasta    olive oil  0.007999  0.271493  4.122410\n",
       "8                 pasta       shrimp  0.005066  0.322034  4.506672"
      ]
     },
     "execution_count": 36,
     "metadata": {},
     "output_type": "execute_result"
    }
   ],
   "source": [
    "df_new =pd.concat([Base, add, support, conf, lift], axis =1)\n",
    "df_new.columns  =['Base', 'add', 'support', 'conf', 'lift']\n",
    "df_new"
   ]
  },
  {
   "cell_type": "markdown",
   "id": "70c2a843-7315-4598-8e76-f520d8e59d96",
   "metadata": {},
   "source": [
    "### Interview Questions:"
   ]
  },
  {
   "cell_type": "code",
   "execution_count": 37,
   "id": "40038950-7bfd-458f-8135-8eeb3d415339",
   "metadata": {},
   "outputs": [
    {
     "name": "stdout",
     "output_type": "stream",
     "text": [
      "\n",
      "Lift is a measure used in association rule mining (e.g., in market basket analysis) to evaluate the strength and usefulness of a rule.\n",
      "\n",
      "Formula:\n",
      "Lift(𝐴→𝐵)=𝑃(𝐴∩𝐵)/𝑃(𝐴)×𝑃(𝐵)=Confidence(𝐴→𝐵)/Support(𝐵)\n",
      "Where:\n",
      "-->P(A∩B): Probability of both A and B occurring together.\n",
      "-->P(A): Probability of A.\n",
      "-->P(B): Probability of B.\n",
      "    \n",
      "Interpretation:\n",
      "Lift = 1: A and B are independent (no association).\n",
      "\n",
      "Lift > 1: A and B are positively correlated (B is more likely to occur with A).\n",
      "\n",
      "Lift < 1: A and B are negatively correlated (B is less likely to occur with A).\n",
      "\n",
      "Why is Lift Important?\n",
      "Detects True Associations:\n",
      "Unlike support and confidence, lift considers the baseline frequency of the consequent (B), helping identify rules that are not just due to high frequency.\n",
      "\n",
      "Filters Spurious Rules:\n",
      "High confidence may occur simply because the consequent is common. Lift corrects for this and helps focus on meaningful associations.\n",
      "\n",
      "Business Insights:\n",
      "A high lift value implies a strong actionable relationship (e.g., “if a customer buys bread, they are 3x more likely to buy butter”).\n",
      "\n"
     ]
    }
   ],
   "source": [
    "#1.What is lift and why is it important in Association rules?\n",
    "print('''\n",
    "Lift is a measure used in association rule mining (e.g., in market basket analysis) to evaluate the strength and usefulness of a rule.\n",
    "\n",
    "Formula:\n",
    "Lift(𝐴→𝐵)=𝑃(𝐴∩𝐵)/𝑃(𝐴)×𝑃(𝐵)=Confidence(𝐴→𝐵)/Support(𝐵)\n",
    "Where:\n",
    "-->P(A∩B): Probability of both A and B occurring together.\n",
    "-->P(A): Probability of A.\n",
    "-->P(B): Probability of B.\n",
    "    \n",
    "Interpretation:\n",
    "Lift = 1: A and B are independent (no association).\n",
    "\n",
    "Lift > 1: A and B are positively correlated (B is more likely to occur with A).\n",
    "\n",
    "Lift < 1: A and B are negatively correlated (B is less likely to occur with A).\n",
    "\n",
    "Why is Lift Important?\n",
    "Detects True Associations:\n",
    "Unlike support and confidence, lift considers the baseline frequency of the consequent (B), helping identify rules that are not just due to high frequency.\n",
    "\n",
    "Filters Spurious Rules:\n",
    "High confidence may occur simply because the consequent is common. Lift corrects for this and helps focus on meaningful associations.\n",
    "\n",
    "Business Insights:\n",
    "A high lift value implies a strong actionable relationship (e.g., “if a customer buys bread, they are 3x more likely to buy butter”).\n",
    "''')"
   ]
  },
  {
   "cell_type": "code",
   "execution_count": 38,
   "id": "32508cde-374e-4118-b29f-f2a8711cdd69",
   "metadata": {},
   "outputs": [
    {
     "name": "stdout",
     "output_type": "stream",
     "text": [
      "\n",
      "Support and Confidence are key metrics used in association rule mining (e.g., Apriori algorithm) to evaluate the relevance and reliability of discovered rules.\n",
      "\n",
      "1. Support\n",
      "Definition:\n",
      "Support indicates how frequently an itemset appears in the dataset.\n",
      "\n",
      "Formula:\n",
      "\n",
      "     Support(𝐴)=Number of transactions containing A/Total number of transactions\n",
      "For a rule A→B:\n",
      "\n",
      "Support(𝐴→𝐵)=Number of transactions containing both A and B/Total number of transactions\n",
      "\n",
      "Purpose:\n",
      "Helps identify how common a rule is. Rules with very low support may be unreliable.\n",
      "\n",
      "2. Confidence\n",
      "Definition:\n",
      "Confidence indicates how often the rule has been found to be true.\n",
      "\n",
      "Formula:\n",
      "    Confidence(A→B)= Support(A)/Support(A∪B) =P(B∣A)\n",
      "\n",
      "Purpose:\n",
      "Measures the likelihood that item B is purchased when item A is purchased.\n",
      "\n"
     ]
    }
   ],
   "source": [
    "#2.What is support and Confidence. How do you calculate them?\n",
    "print('''\n",
    "Support and Confidence are key metrics used in association rule mining (e.g., Apriori algorithm) to evaluate the relevance and reliability of discovered rules.\n",
    "\n",
    "1. Support\n",
    "Definition:\n",
    "Support indicates how frequently an itemset appears in the dataset.\n",
    "\n",
    "Formula:\n",
    "\n",
    "     Support(𝐴)=Number of transactions containing A/Total number of transactions\n",
    "For a rule A→B:\n",
    "\n",
    "Support(𝐴→𝐵)=Number of transactions containing both A and B/Total number of transactions\n",
    "\n",
    "Purpose:\n",
    "Helps identify how common a rule is. Rules with very low support may be unreliable.\n",
    "\n",
    "2. Confidence\n",
    "Definition:\n",
    "Confidence indicates how often the rule has been found to be true.\n",
    "\n",
    "Formula:\n",
    "    Confidence(A→B)= Support(A)/Support(A∪B) =P(B∣A)\n",
    "\n",
    "Purpose:\n",
    "Measures the likelihood that item B is purchased when item A is purchased.\n",
    "''')"
   ]
  },
  {
   "cell_type": "code",
   "execution_count": 39,
   "id": "62ce951b-1cf0-4212-bc81-b82cf77b4af0",
   "metadata": {},
   "outputs": [
    {
     "name": "stdout",
     "output_type": "stream",
     "text": [
      "\n",
      "1.Large Number of Rules:\n",
      "    Can generate too many rules, especially with low support/confidence thresholds.\n",
      "    Many rules may be trivial, redundant, or uninteresting.\n",
      "\n",
      "2.Scalability:\n",
      "    Mining association rules in large datasets is computationally expensive.\n",
      "    Requires multiple scans of the database (especially in algorithms like Apriori).\n",
      "\n",
      "3.Lack of Causality:\n",
      "    Association rules show correlation, not causation.\n",
      "    Just because items A and B are frequently bought together doesn't mean A causes B to be bought.\n",
      "\n",
      "4.Handling Rare Items:\n",
      "    Items with low frequency may be ignored due to low support, even if they form interesting or high-value patterns.\n",
      "\n",
      "5.Difficulty in Setting Thresholds:\n",
      "\n",
      "    Choosing appropriate minimum support and confidence values is non-trivial.\n",
      "\n",
      "    Too high: miss interesting rules; too low: generate noise.\n",
      "\n",
      "6.Item Independence Assumption:\n",
      "\n",
      "    Many algorithms assume that items occur independently, which might not reflect real-world dependencies.\n",
      "\n",
      "7.Interpretability:\n",
      "\n",
      "    Interpreting and selecting useful rules from hundreds or thousands can be challenging without domain knowledge.\n",
      "\n",
      "8.Imbalanced Data:\n",
      "\n",
      "    In datasets with skewed distribution (e.g., 95% of transactions are one type), rules can be biased toward frequent items.\n",
      "\n"
     ]
    }
   ],
   "source": [
    "#3.What are some limitations or challenges of Association rules mining?\n",
    "print('''\n",
    "1.Large Number of Rules:\n",
    "    Can generate too many rules, especially with low support/confidence thresholds.\n",
    "    Many rules may be trivial, redundant, or uninteresting.\n",
    "\n",
    "2.Scalability:\n",
    "    Mining association rules in large datasets is computationally expensive.\n",
    "    Requires multiple scans of the database (especially in algorithms like Apriori).\n",
    "\n",
    "3.Lack of Causality:\n",
    "    Association rules show correlation, not causation.\n",
    "    Just because items A and B are frequently bought together doesn't mean A causes B to be bought.\n",
    "\n",
    "4.Handling Rare Items:\n",
    "    Items with low frequency may be ignored due to low support, even if they form interesting or high-value patterns.\n",
    "\n",
    "5.Difficulty in Setting Thresholds:\n",
    "\n",
    "    Choosing appropriate minimum support and confidence values is non-trivial.\n",
    "\n",
    "    Too high: miss interesting rules; too low: generate noise.\n",
    "\n",
    "6.Item Independence Assumption:\n",
    "\n",
    "    Many algorithms assume that items occur independently, which might not reflect real-world dependencies.\n",
    "\n",
    "7.Interpretability:\n",
    "\n",
    "    Interpreting and selecting useful rules from hundreds or thousands can be challenging without domain knowledge.\n",
    "\n",
    "8.Imbalanced Data:\n",
    "\n",
    "    In datasets with skewed distribution (e.g., 95% of transactions are one type), rules can be biased toward frequent items.\n",
    "''')"
   ]
  },
  {
   "cell_type": "code",
   "execution_count": null,
   "id": "1471aea7-52fd-48e3-91d2-fb494c36fce4",
   "metadata": {},
   "outputs": [],
   "source": []
  }
 ],
 "metadata": {
  "kernelspec": {
   "display_name": "Python 3 (ipykernel)",
   "language": "python",
   "name": "python3"
  },
  "language_info": {
   "codemirror_mode": {
    "name": "ipython",
    "version": 3
   },
   "file_extension": ".py",
   "mimetype": "text/x-python",
   "name": "python",
   "nbconvert_exporter": "python",
   "pygments_lexer": "ipython3",
   "version": "3.12.7"
  }
 },
 "nbformat": 4,
 "nbformat_minor": 5
}
