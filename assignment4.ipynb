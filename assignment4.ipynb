{
 "cells": [
  {
   "cell_type": "markdown",
   "id": "ef7f6225-3374-4fd9-bbc3-b02a637350c1",
   "metadata": {},
   "source": [
    "# Hypothesis testing"
   ]
  },
  {
   "cell_type": "code",
   "execution_count": 1,
   "id": "19c7b541-b46b-4668-bc0a-1209edcd4b94",
   "metadata": {},
   "outputs": [
    {
     "data": {
      "text/plain": [
       "'\\n1. Hypotheses Statement:\\nWe want to test whether the actual average weekly operating cost is greater than what the theoretical model predicts.\\n\\nLet:\\n--->μ₀ be the theoretical mean weekly cost (according to the model).\\n\\n--->ˉx be the observed sample mean weekly cost (from the 25 restaurants).\\n\\nNull Hypothesis (H₀):\\n    μ = μ₀\\n    The mean weekly cost is as predicted by the model.\\n        \\nAlternative Hypothesis (H₁):\\n    μ > μ₀\\n    The mean weekly cost is greater than predicted by the model.\\n    This is a right-tailed test.\\n'"
      ]
     },
     "execution_count": 1,
     "metadata": {},
     "output_type": "execute_result"
    }
   ],
   "source": [
    "'''\n",
    "1. Hypotheses Statement:\n",
    "We want to test whether the actual average weekly operating cost is greater than what the theoretical model predicts.\n",
    "\n",
    "Let:\n",
    "--->μ₀ be the theoretical mean weekly cost (according to the model).\n",
    "\n",
    "--->ˉx be the observed sample mean weekly cost (from the 25 restaurants).\n",
    "\n",
    "Null Hypothesis (H₀):\n",
    "    μ = μ₀\n",
    "    The mean weekly cost is as predicted by the model.\n",
    "        \n",
    "Alternative Hypothesis (H₁):\n",
    "    μ > μ₀\n",
    "    The mean weekly cost is greater than predicted by the model.\n",
    "    This is a right-tailed test.\n",
    "'''"
   ]
  },
  {
   "cell_type": "code",
   "execution_count": 1,
   "id": "c482b776-9eb9-446d-93a8-06a2e292278c",
   "metadata": {},
   "outputs": [
    {
     "name": "stdout",
     "output_type": "stream",
     "text": [
      "=== Hypothesis Testing Results ===\n",
      "Sample Mean Cost: Rs. 3050\n",
      "Theoretical Mean Cost: Rs. 4000\n",
      "Standard Error: 25.00\n",
      "Test Statistic (z): -38.00\n",
      "Critical Value (zα): 1.64\n",
      "Decision: Fail to reject the null hypothesis\n",
      "Conclusion: There is not enough evidence to support the restaurant owners' claim.\n"
     ]
    }
   ],
   "source": [
    "import math\n",
    "from scipy.stats import norm\n",
    "\n",
    "# 1. Hypotheses\n",
    "# Null Hypothesis H0: The weekly operating cost is equal to the theoretical cost\n",
    "# Alternative Hypothesis H1: The weekly operating cost is higher than the theoretical cost\n",
    "\n",
    "# 2. Given Data\n",
    "sample_mean = 3050       # ˉxˉ\n",
    "n = 25                   # sample size\n",
    "X_mean = 600             # mean number of units produced\n",
    "X_std_dev = 25           # std deviation of units produced\n",
    "\n",
    "# Theoretical cost model: W = 1000 + 5X\n",
    "# So, theoretical mean weekly cost = 1000 + 5 * 600 = 4000\n",
    "theoretical_mean = 1000 + 5 * X_mean  # μ = 4000\n",
    "\n",
    "# Standard deviation of cost: since cost = 5 * X\n",
    "cost_std_dev = 5 * X_std_dev  # σ = 5*25 = 125\n",
    "\n",
    "# Standard error of the mean\n",
    "standard_error = cost_std_dev / math.sqrt(n)  # σ/√n\n",
    "\n",
    "# 2. Calculate the test statistic\n",
    "z = (sample_mean - theoretical_mean) / standard_error\n",
    "\n",
    "# 3. Determine the critical value\n",
    "alpha = 0.05\n",
    "critical_value = norm.ppf(1 - alpha)  # one-tailed test\n",
    "\n",
    "# 4. Make decision\n",
    "if z > critical_value:\n",
    "    decision = \"Reject the null hypothesis\"\n",
    "else:\n",
    "    decision = \"Fail to reject the null hypothesis\"\n",
    "\n",
    "# 5. Output results\n",
    "print(\"=== Hypothesis Testing Results ===\")\n",
    "print(f\"Sample Mean Cost: Rs. {sample_mean}\")\n",
    "print(f\"Theoretical Mean Cost: Rs. {theoretical_mean}\")\n",
    "print(f\"Standard Error: {standard_error:.2f}\")\n",
    "print(f\"Test Statistic (z): {z:.2f}\")\n",
    "print(f\"Critical Value (zα): {critical_value:.2f}\")\n",
    "print(f\"Decision: {decision}\")\n",
    "\n",
    "# 6. Conclusion\n",
    "if z > critical_value:\n",
    "    print(\"Conclusion: There is strong evidence to support the restaurant owners' claim that weekly operating costs are higher.\")\n",
    "else:\n",
    "    print(\"Conclusion: There is not enough evidence to support the restaurant owners' claim.\")\n"
   ]
  },
  {
   "cell_type": "markdown",
   "id": "7b2d3be5-4b70-4447-9a65-32f20289e79b",
   "metadata": {},
   "source": [
    "# Chisquare test"
   ]
  },
  {
   "cell_type": "code",
   "execution_count": 2,
   "id": "dd5f804b-8254-4437-ace2-cea5086ae636",
   "metadata": {},
   "outputs": [
    {
     "name": "stdout",
     "output_type": "stream",
     "text": [
      "=== Chi-Square Test for Independence ===\n",
      "Observed Frequencies:\n",
      " [[ 50  70]\n",
      " [ 80 100]\n",
      " [ 60  90]\n",
      " [ 30  50]\n",
      " [ 20  50]]\n",
      "Expected Frequencies:\n",
      " [[ 48.  72.]\n",
      " [ 72. 108.]\n",
      " [ 60.  90.]\n",
      " [ 32.  48.]\n",
      " [ 28.  42.]]\n",
      "Chi-Square Statistic: 5.64\n",
      "Degrees of Freedom: 4\n",
      "Critical Value (Chi-Square): 9.49\n",
      "P-Value: 0.2278\n",
      "Decision: Fail to reject the null hypothesis\n",
      "Conclusion: There is no significant association between the device type and customer satisfaction.\n"
     ]
    }
   ],
   "source": [
    "import numpy as np\n",
    "from scipy.stats import chi2_contingency, chi2\n",
    "\n",
    "# 1. State the Hypotheses:\n",
    "# H0 (Null Hypothesis): There is no association between device type and customer satisfaction.\n",
    "# H1 (Alternative Hypothesis): There is an association between device type and customer satisfaction.\n",
    "\n",
    "# 2. Contingency Table (Observed Frequencies)\n",
    "# Rows = Satisfaction Levels\n",
    "# Columns = Device Types: [Smart Thermostat, Smart Light]\n",
    "\n",
    "observed = np.array([\n",
    "    [50, 70],   # Very Satisfied\n",
    "    [80, 100],  # Satisfied\n",
    "    [60, 90],   # Neutral\n",
    "    [30, 50],   # Unsatisfied\n",
    "    [20, 50]    # Very Unsatisfied\n",
    "])\n",
    "\n",
    "# Perform Chi-Square Test\n",
    "chi2_stat, p_value, dof, expected = chi2_contingency(observed)\n",
    "\n",
    "# 3. Determine the Critical Value\n",
    "alpha = 0.05\n",
    "critical_value = chi2.ppf(1 - alpha, dof)\n",
    "\n",
    "# 4. Make a Decision\n",
    "if chi2_stat > critical_value:\n",
    "    decision = \"Reject the null hypothesis\"\n",
    "else:\n",
    "    decision = \"Fail to reject the null hypothesis\"\n",
    "\n",
    "# Output the Results\n",
    "print(\"=== Chi-Square Test for Independence ===\")\n",
    "print(\"Observed Frequencies:\\n\", observed)\n",
    "print(\"Expected Frequencies:\\n\", np.round(expected, 2))\n",
    "print(f\"Chi-Square Statistic: {chi2_stat:.2f}\")\n",
    "print(f\"Degrees of Freedom: {dof}\") #df=(rows−1)×(columns−1)=(5−1)×(2−1)=4\n",
    "print(f\"Critical Value (Chi-Square): {critical_value:.2f}\")\n",
    "print(f\"P-Value: {p_value:.4f}\")\n",
    "print(f\"Decision: {decision}\")\n",
    "\n",
    "# 5. Conclusion\n",
    "if chi2_stat > critical_value:\n",
    "    print(\"Conclusion: There is a significant association between the device type and customer satisfaction.\")\n",
    "else:\n",
    "    print(\"Conclusion: There is no significant association between the device type and customer satisfaction.\")\n"
   ]
  },
  {
   "cell_type": "code",
   "execution_count": null,
   "id": "74069baf-9f2b-4118-b61e-ce3b3601cae1",
   "metadata": {},
   "outputs": [],
   "source": []
  }
 ],
 "metadata": {
  "kernelspec": {
   "display_name": "Python 3 (ipykernel)",
   "language": "python",
   "name": "python3"
  },
  "language_info": {
   "codemirror_mode": {
    "name": "ipython",
    "version": 3
   },
   "file_extension": ".py",
   "mimetype": "text/x-python",
   "name": "python",
   "nbconvert_exporter": "python",
   "pygments_lexer": "ipython3",
   "version": "3.12.7"
  }
 },
 "nbformat": 4,
 "nbformat_minor": 5
}
