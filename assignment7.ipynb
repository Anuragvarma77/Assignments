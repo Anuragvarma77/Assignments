{
 "cells": [
  {
   "cell_type": "code",
   "execution_count": 1,
   "id": "4ab80a65-5e1d-4f94-9de4-300fe35c64a8",
   "metadata": {},
   "outputs": [],
   "source": [
    "import pandas as pd\n",
    "import numpy as np \n",
    "import matplotlib.pyplot as plt\n",
    "import seaborn as sns"
   ]
  },
  {
   "cell_type": "code",
   "execution_count": 2,
   "id": "706861f5-af01-4b97-9165-f39f85c4f38b",
   "metadata": {},
   "outputs": [
    {
     "data": {
      "text/html": [
       "<div>\n",
       "<style scoped>\n",
       "    .dataframe tbody tr th:only-of-type {\n",
       "        vertical-align: middle;\n",
       "    }\n",
       "\n",
       "    .dataframe tbody tr th {\n",
       "        vertical-align: top;\n",
       "    }\n",
       "\n",
       "    .dataframe thead th {\n",
       "        text-align: right;\n",
       "    }\n",
       "</style>\n",
       "<table border=\"1\" class=\"dataframe\">\n",
       "  <thead>\n",
       "    <tr style=\"text-align: right;\">\n",
       "      <th></th>\n",
       "      <th>PassengerId</th>\n",
       "      <th>Survived</th>\n",
       "      <th>Pclass</th>\n",
       "      <th>Name</th>\n",
       "      <th>Sex</th>\n",
       "      <th>Age</th>\n",
       "      <th>SibSp</th>\n",
       "      <th>Parch</th>\n",
       "      <th>Ticket</th>\n",
       "      <th>Fare</th>\n",
       "      <th>Cabin</th>\n",
       "      <th>Embarked</th>\n",
       "    </tr>\n",
       "  </thead>\n",
       "  <tbody>\n",
       "    <tr>\n",
       "      <th>0</th>\n",
       "      <td>1</td>\n",
       "      <td>0</td>\n",
       "      <td>3</td>\n",
       "      <td>Braund, Mr. Owen Harris</td>\n",
       "      <td>male</td>\n",
       "      <td>22.0</td>\n",
       "      <td>1</td>\n",
       "      <td>0</td>\n",
       "      <td>A/5 21171</td>\n",
       "      <td>7.2500</td>\n",
       "      <td>NaN</td>\n",
       "      <td>S</td>\n",
       "    </tr>\n",
       "    <tr>\n",
       "      <th>1</th>\n",
       "      <td>2</td>\n",
       "      <td>1</td>\n",
       "      <td>1</td>\n",
       "      <td>Cumings, Mrs. John Bradley (Florence Briggs Th...</td>\n",
       "      <td>female</td>\n",
       "      <td>38.0</td>\n",
       "      <td>1</td>\n",
       "      <td>0</td>\n",
       "      <td>PC 17599</td>\n",
       "      <td>71.2833</td>\n",
       "      <td>C85</td>\n",
       "      <td>C</td>\n",
       "    </tr>\n",
       "    <tr>\n",
       "      <th>2</th>\n",
       "      <td>3</td>\n",
       "      <td>1</td>\n",
       "      <td>3</td>\n",
       "      <td>Heikkinen, Miss. Laina</td>\n",
       "      <td>female</td>\n",
       "      <td>26.0</td>\n",
       "      <td>0</td>\n",
       "      <td>0</td>\n",
       "      <td>STON/O2. 3101282</td>\n",
       "      <td>7.9250</td>\n",
       "      <td>NaN</td>\n",
       "      <td>S</td>\n",
       "    </tr>\n",
       "    <tr>\n",
       "      <th>3</th>\n",
       "      <td>4</td>\n",
       "      <td>1</td>\n",
       "      <td>1</td>\n",
       "      <td>Futrelle, Mrs. Jacques Heath (Lily May Peel)</td>\n",
       "      <td>female</td>\n",
       "      <td>35.0</td>\n",
       "      <td>1</td>\n",
       "      <td>0</td>\n",
       "      <td>113803</td>\n",
       "      <td>53.1000</td>\n",
       "      <td>C123</td>\n",
       "      <td>S</td>\n",
       "    </tr>\n",
       "    <tr>\n",
       "      <th>4</th>\n",
       "      <td>5</td>\n",
       "      <td>0</td>\n",
       "      <td>3</td>\n",
       "      <td>Allen, Mr. William Henry</td>\n",
       "      <td>male</td>\n",
       "      <td>35.0</td>\n",
       "      <td>0</td>\n",
       "      <td>0</td>\n",
       "      <td>373450</td>\n",
       "      <td>8.0500</td>\n",
       "      <td>NaN</td>\n",
       "      <td>S</td>\n",
       "    </tr>\n",
       "    <tr>\n",
       "      <th>...</th>\n",
       "      <td>...</td>\n",
       "      <td>...</td>\n",
       "      <td>...</td>\n",
       "      <td>...</td>\n",
       "      <td>...</td>\n",
       "      <td>...</td>\n",
       "      <td>...</td>\n",
       "      <td>...</td>\n",
       "      <td>...</td>\n",
       "      <td>...</td>\n",
       "      <td>...</td>\n",
       "      <td>...</td>\n",
       "    </tr>\n",
       "    <tr>\n",
       "      <th>886</th>\n",
       "      <td>887</td>\n",
       "      <td>0</td>\n",
       "      <td>2</td>\n",
       "      <td>Montvila, Rev. Juozas</td>\n",
       "      <td>male</td>\n",
       "      <td>27.0</td>\n",
       "      <td>0</td>\n",
       "      <td>0</td>\n",
       "      <td>211536</td>\n",
       "      <td>13.0000</td>\n",
       "      <td>NaN</td>\n",
       "      <td>S</td>\n",
       "    </tr>\n",
       "    <tr>\n",
       "      <th>887</th>\n",
       "      <td>888</td>\n",
       "      <td>1</td>\n",
       "      <td>1</td>\n",
       "      <td>Graham, Miss. Margaret Edith</td>\n",
       "      <td>female</td>\n",
       "      <td>19.0</td>\n",
       "      <td>0</td>\n",
       "      <td>0</td>\n",
       "      <td>112053</td>\n",
       "      <td>30.0000</td>\n",
       "      <td>B42</td>\n",
       "      <td>S</td>\n",
       "    </tr>\n",
       "    <tr>\n",
       "      <th>888</th>\n",
       "      <td>889</td>\n",
       "      <td>0</td>\n",
       "      <td>3</td>\n",
       "      <td>Johnston, Miss. Catherine Helen \"Carrie\"</td>\n",
       "      <td>female</td>\n",
       "      <td>NaN</td>\n",
       "      <td>1</td>\n",
       "      <td>2</td>\n",
       "      <td>W./C. 6607</td>\n",
       "      <td>23.4500</td>\n",
       "      <td>NaN</td>\n",
       "      <td>S</td>\n",
       "    </tr>\n",
       "    <tr>\n",
       "      <th>889</th>\n",
       "      <td>890</td>\n",
       "      <td>1</td>\n",
       "      <td>1</td>\n",
       "      <td>Behr, Mr. Karl Howell</td>\n",
       "      <td>male</td>\n",
       "      <td>26.0</td>\n",
       "      <td>0</td>\n",
       "      <td>0</td>\n",
       "      <td>111369</td>\n",
       "      <td>30.0000</td>\n",
       "      <td>C148</td>\n",
       "      <td>C</td>\n",
       "    </tr>\n",
       "    <tr>\n",
       "      <th>890</th>\n",
       "      <td>891</td>\n",
       "      <td>0</td>\n",
       "      <td>3</td>\n",
       "      <td>Dooley, Mr. Patrick</td>\n",
       "      <td>male</td>\n",
       "      <td>32.0</td>\n",
       "      <td>0</td>\n",
       "      <td>0</td>\n",
       "      <td>370376</td>\n",
       "      <td>7.7500</td>\n",
       "      <td>NaN</td>\n",
       "      <td>Q</td>\n",
       "    </tr>\n",
       "  </tbody>\n",
       "</table>\n",
       "<p>891 rows × 12 columns</p>\n",
       "</div>"
      ],
      "text/plain": [
       "     PassengerId  Survived  Pclass  \\\n",
       "0              1         0       3   \n",
       "1              2         1       1   \n",
       "2              3         1       3   \n",
       "3              4         1       1   \n",
       "4              5         0       3   \n",
       "..           ...       ...     ...   \n",
       "886          887         0       2   \n",
       "887          888         1       1   \n",
       "888          889         0       3   \n",
       "889          890         1       1   \n",
       "890          891         0       3   \n",
       "\n",
       "                                                  Name     Sex   Age  SibSp  \\\n",
       "0                              Braund, Mr. Owen Harris    male  22.0      1   \n",
       "1    Cumings, Mrs. John Bradley (Florence Briggs Th...  female  38.0      1   \n",
       "2                               Heikkinen, Miss. Laina  female  26.0      0   \n",
       "3         Futrelle, Mrs. Jacques Heath (Lily May Peel)  female  35.0      1   \n",
       "4                             Allen, Mr. William Henry    male  35.0      0   \n",
       "..                                                 ...     ...   ...    ...   \n",
       "886                              Montvila, Rev. Juozas    male  27.0      0   \n",
       "887                       Graham, Miss. Margaret Edith  female  19.0      0   \n",
       "888           Johnston, Miss. Catherine Helen \"Carrie\"  female   NaN      1   \n",
       "889                              Behr, Mr. Karl Howell    male  26.0      0   \n",
       "890                                Dooley, Mr. Patrick    male  32.0      0   \n",
       "\n",
       "     Parch            Ticket     Fare Cabin Embarked  \n",
       "0        0         A/5 21171   7.2500   NaN        S  \n",
       "1        0          PC 17599  71.2833   C85        C  \n",
       "2        0  STON/O2. 3101282   7.9250   NaN        S  \n",
       "3        0            113803  53.1000  C123        S  \n",
       "4        0            373450   8.0500   NaN        S  \n",
       "..     ...               ...      ...   ...      ...  \n",
       "886      0            211536  13.0000   NaN        S  \n",
       "887      0            112053  30.0000   B42        S  \n",
       "888      2        W./C. 6607  23.4500   NaN        S  \n",
       "889      0            111369  30.0000  C148        C  \n",
       "890      0            370376   7.7500   NaN        Q  \n",
       "\n",
       "[891 rows x 12 columns]"
      ]
     },
     "execution_count": 2,
     "metadata": {},
     "output_type": "execute_result"
    }
   ],
   "source": [
    "df=pd.read_csv(r\"C:\\Users\\anura\\Desktop\\d\\Logistic Regression\\Logistic Regression\\Titanic_train.csv\")\n",
    "df"
   ]
  },
  {
   "cell_type": "code",
   "execution_count": 3,
   "id": "f5c4d550-8110-47c1-a0c9-a4651f7e75d6",
   "metadata": {},
   "outputs": [
    {
     "name": "stdout",
     "output_type": "stream",
     "text": [
      "<class 'pandas.core.frame.DataFrame'>\n",
      "RangeIndex: 891 entries, 0 to 890\n",
      "Data columns (total 12 columns):\n",
      " #   Column       Non-Null Count  Dtype  \n",
      "---  ------       --------------  -----  \n",
      " 0   PassengerId  891 non-null    int64  \n",
      " 1   Survived     891 non-null    int64  \n",
      " 2   Pclass       891 non-null    int64  \n",
      " 3   Name         891 non-null    object \n",
      " 4   Sex          891 non-null    object \n",
      " 5   Age          714 non-null    float64\n",
      " 6   SibSp        891 non-null    int64  \n",
      " 7   Parch        891 non-null    int64  \n",
      " 8   Ticket       891 non-null    object \n",
      " 9   Fare         891 non-null    float64\n",
      " 10  Cabin        204 non-null    object \n",
      " 11  Embarked     889 non-null    object \n",
      "dtypes: float64(2), int64(5), object(5)\n",
      "memory usage: 83.7+ KB\n"
     ]
    }
   ],
   "source": [
    "df.info()"
   ]
  },
  {
   "cell_type": "code",
   "execution_count": 4,
   "id": "01f583ef-5e71-4140-8433-1f426016923e",
   "metadata": {},
   "outputs": [
    {
     "data": {
      "text/plain": [
       "Index(['PassengerId', 'Survived', 'Pclass', 'Age', 'SibSp', 'Parch', 'Fare'], dtype='object')"
      ]
     },
     "execution_count": 4,
     "metadata": {},
     "output_type": "execute_result"
    }
   ],
   "source": [
    "numerical_col =df.select_dtypes(include =['int64','float64']).columns\n",
    "numerical_col"
   ]
  },
  {
   "cell_type": "code",
   "execution_count": 5,
   "id": "4f2b41cd-a725-4051-8f9d-9e0a5f25eea7",
   "metadata": {},
   "outputs": [
    {
     "data": {
      "text/plain": [
       "Index(['Name', 'Sex', 'Ticket', 'Cabin', 'Embarked'], dtype='object')"
      ]
     },
     "execution_count": 5,
     "metadata": {},
     "output_type": "execute_result"
    }
   ],
   "source": [
    "categorical_col =df.select_dtypes(include =[\"object\"]).columns\n",
    "categorical_col"
   ]
  },
  {
   "cell_type": "code",
   "execution_count": 6,
   "id": "749227e1-c191-41ac-ad99-7640872f8e97",
   "metadata": {},
   "outputs": [
    {
     "data": {
      "text/html": [
       "<div>\n",
       "<style scoped>\n",
       "    .dataframe tbody tr th:only-of-type {\n",
       "        vertical-align: middle;\n",
       "    }\n",
       "\n",
       "    .dataframe tbody tr th {\n",
       "        vertical-align: top;\n",
       "    }\n",
       "\n",
       "    .dataframe thead th {\n",
       "        text-align: right;\n",
       "    }\n",
       "</style>\n",
       "<table border=\"1\" class=\"dataframe\">\n",
       "  <thead>\n",
       "    <tr style=\"text-align: right;\">\n",
       "      <th></th>\n",
       "      <th>PassengerId</th>\n",
       "      <th>Survived</th>\n",
       "      <th>Pclass</th>\n",
       "      <th>Age</th>\n",
       "      <th>SibSp</th>\n",
       "      <th>Parch</th>\n",
       "      <th>Fare</th>\n",
       "    </tr>\n",
       "  </thead>\n",
       "  <tbody>\n",
       "    <tr>\n",
       "      <th>count</th>\n",
       "      <td>891.000000</td>\n",
       "      <td>891.000000</td>\n",
       "      <td>891.000000</td>\n",
       "      <td>714.000000</td>\n",
       "      <td>891.000000</td>\n",
       "      <td>891.000000</td>\n",
       "      <td>891.000000</td>\n",
       "    </tr>\n",
       "    <tr>\n",
       "      <th>mean</th>\n",
       "      <td>446.000000</td>\n",
       "      <td>0.383838</td>\n",
       "      <td>2.308642</td>\n",
       "      <td>29.699118</td>\n",
       "      <td>0.523008</td>\n",
       "      <td>0.381594</td>\n",
       "      <td>32.204208</td>\n",
       "    </tr>\n",
       "    <tr>\n",
       "      <th>std</th>\n",
       "      <td>257.353842</td>\n",
       "      <td>0.486592</td>\n",
       "      <td>0.836071</td>\n",
       "      <td>14.526497</td>\n",
       "      <td>1.102743</td>\n",
       "      <td>0.806057</td>\n",
       "      <td>49.693429</td>\n",
       "    </tr>\n",
       "    <tr>\n",
       "      <th>min</th>\n",
       "      <td>1.000000</td>\n",
       "      <td>0.000000</td>\n",
       "      <td>1.000000</td>\n",
       "      <td>0.420000</td>\n",
       "      <td>0.000000</td>\n",
       "      <td>0.000000</td>\n",
       "      <td>0.000000</td>\n",
       "    </tr>\n",
       "    <tr>\n",
       "      <th>25%</th>\n",
       "      <td>223.500000</td>\n",
       "      <td>0.000000</td>\n",
       "      <td>2.000000</td>\n",
       "      <td>20.125000</td>\n",
       "      <td>0.000000</td>\n",
       "      <td>0.000000</td>\n",
       "      <td>7.910400</td>\n",
       "    </tr>\n",
       "    <tr>\n",
       "      <th>50%</th>\n",
       "      <td>446.000000</td>\n",
       "      <td>0.000000</td>\n",
       "      <td>3.000000</td>\n",
       "      <td>28.000000</td>\n",
       "      <td>0.000000</td>\n",
       "      <td>0.000000</td>\n",
       "      <td>14.454200</td>\n",
       "    </tr>\n",
       "    <tr>\n",
       "      <th>75%</th>\n",
       "      <td>668.500000</td>\n",
       "      <td>1.000000</td>\n",
       "      <td>3.000000</td>\n",
       "      <td>38.000000</td>\n",
       "      <td>1.000000</td>\n",
       "      <td>0.000000</td>\n",
       "      <td>31.000000</td>\n",
       "    </tr>\n",
       "    <tr>\n",
       "      <th>max</th>\n",
       "      <td>891.000000</td>\n",
       "      <td>1.000000</td>\n",
       "      <td>3.000000</td>\n",
       "      <td>80.000000</td>\n",
       "      <td>8.000000</td>\n",
       "      <td>6.000000</td>\n",
       "      <td>512.329200</td>\n",
       "    </tr>\n",
       "  </tbody>\n",
       "</table>\n",
       "</div>"
      ],
      "text/plain": [
       "       PassengerId    Survived      Pclass         Age       SibSp  \\\n",
       "count   891.000000  891.000000  891.000000  714.000000  891.000000   \n",
       "mean    446.000000    0.383838    2.308642   29.699118    0.523008   \n",
       "std     257.353842    0.486592    0.836071   14.526497    1.102743   \n",
       "min       1.000000    0.000000    1.000000    0.420000    0.000000   \n",
       "25%     223.500000    0.000000    2.000000   20.125000    0.000000   \n",
       "50%     446.000000    0.000000    3.000000   28.000000    0.000000   \n",
       "75%     668.500000    1.000000    3.000000   38.000000    1.000000   \n",
       "max     891.000000    1.000000    3.000000   80.000000    8.000000   \n",
       "\n",
       "            Parch        Fare  \n",
       "count  891.000000  891.000000  \n",
       "mean     0.381594   32.204208  \n",
       "std      0.806057   49.693429  \n",
       "min      0.000000    0.000000  \n",
       "25%      0.000000    7.910400  \n",
       "50%      0.000000   14.454200  \n",
       "75%      0.000000   31.000000  \n",
       "max      6.000000  512.329200  "
      ]
     },
     "execution_count": 6,
     "metadata": {},
     "output_type": "execute_result"
    }
   ],
   "source": [
    "df.describe() #descriptive satistics"
   ]
  },
  {
   "cell_type": "code",
   "execution_count": 7,
   "id": "497843f6-37a8-46a6-9e39-fc97dc063b20",
   "metadata": {},
   "outputs": [
    {
     "data": {
      "image/png": "[encoded data removed]",
      "text/plain": [
       "<Figure size 640x480 with 1 Axes>"
      ]
     },
     "metadata": {},
     "output_type": "display_data"
    },
    {
     "name": "stdout",
     "output_type": "stream",
     "text": [
      "Skewness 0.38910778230082704\n"
     ]
    }
   ],
   "source": [
    "# Histogram for age column\n",
    "import matplotlib.pyplot as plt\n",
    "plt.hist(df[\"Age\"])\n",
    "plt.title(\"Age\")\n",
    "plt.show()\n",
    "print(\"Skewness\",df[\"Age\"].skew())"
   ]
  },
  {
   "cell_type": "code",
   "execution_count": 8,
   "id": "ccbcddc1-af30-419b-a996-338c998d2e09",
   "metadata": {},
   "outputs": [
    {
     "data": {
      "image/png": "[encoded data removed]",
      "text/plain": [
       "<Figure size 640x480 with 1 Axes>"
      ]
     },
     "metadata": {},
     "output_type": "display_data"
    }
   ],
   "source": [
    "# box plot for age\n",
    "plt.boxplot(df[\"Age\"])\n",
    "plt.show()\n",
    "Q1 = df[\"Age\"].quantile(0.25)\n",
    "Q3 = df[\"Age\"].quantile(0.75)\n",
    "IQR = Q3 - Q1\n",
    "lower_bound = Q1 - 1.5 * IQR\n",
    "upper_bound = Q3 + 1.5 * IQR\n",
    "outliers = df[(df[\"Age\"] < lower_bound) | (df[\"Age\"] > upper_bound)]"
   ]
  },
  {
   "cell_type": "code",
   "execution_count": 9,
   "id": "613cb72a-044c-4792-b0a3-c1660e3af3ab",
   "metadata": {},
   "outputs": [
    {
     "data": {
      "image/png": "[encoded data removed]",
      "text/plain": [
       "<Figure size 640x480 with 1 Axes>"
      ]
     },
     "metadata": {},
     "output_type": "display_data"
    },
    {
     "name": "stdout",
     "output_type": "stream",
     "text": [
      "Skewness 4.787316519674893\n"
     ]
    }
   ],
   "source": [
    "# Histogram for Fare column\n",
    "import matplotlib.pyplot as plt\n",
    "plt.hist(df[\"Fare\"])\n",
    "plt.title(\"Fare\")\n",
    "plt.show()\n",
    "print(\"Skewness\",df[\"Fare\"].skew())"
   ]
  },
  {
   "cell_type": "code",
   "execution_count": 10,
   "id": "dc80837f-574c-4c1b-a3a4-c3ee7aa9ad4b",
   "metadata": {},
   "outputs": [
    {
     "data": {
      "image/png": "[encoded data removed]",
      "text/plain": [
       "<Figure size 640x480 with 1 Axes>"
      ]
     },
     "metadata": {},
     "output_type": "display_data"
    },
    {
     "name": "stdout",
     "output_type": "stream",
     "text": [
      "Outliers in Volume Column:\n",
      "      PassengerId  Survived  Pclass  \\\n",
      "1              2         1       1   \n",
      "27            28         0       1   \n",
      "31            32         1       1   \n",
      "34            35         0       1   \n",
      "52            53         1       1   \n",
      "..           ...       ...     ...   \n",
      "846          847         0       3   \n",
      "849          850         1       1   \n",
      "856          857         1       1   \n",
      "863          864         0       3   \n",
      "879          880         1       1   \n",
      "\n",
      "                                                  Name     Sex   Age  SibSp  \\\n",
      "1    Cumings, Mrs. John Bradley (Florence Briggs Th...  female  38.0      1   \n",
      "27                      Fortune, Mr. Charles Alexander    male  19.0      3   \n",
      "31      Spencer, Mrs. William Augustus (Marie Eugenie)  female   NaN      1   \n",
      "34                             Meyer, Mr. Edgar Joseph    male  28.0      1   \n",
      "52            Harper, Mrs. Henry Sleeper (Myna Haxtun)  female  49.0      1   \n",
      "..                                                 ...     ...   ...    ...   \n",
      "846                           Sage, Mr. Douglas Bullen    male   NaN      8   \n",
      "849       Goldenberg, Mrs. Samuel L (Edwiga Grabowska)  female   NaN      1   \n",
      "856         Wick, Mrs. George Dennick (Mary Hitchcock)  female  45.0      1   \n",
      "863                  Sage, Miss. Dorothy Edith \"Dolly\"  female   NaN      8   \n",
      "879      Potter, Mrs. Thomas Jr (Lily Alexenia Wilson)  female  56.0      0   \n",
      "\n",
      "     Parch    Ticket      Fare        Cabin Embarked  \n",
      "1        0  PC 17599   71.2833          C85        C  \n",
      "27       2     19950  263.0000  C23 C25 C27        S  \n",
      "31       0  PC 17569  146.5208          B78        C  \n",
      "34       0  PC 17604   82.1708          NaN        C  \n",
      "52       0  PC 17572   76.7292          D33        C  \n",
      "..     ...       ...       ...          ...      ...  \n",
      "846      2  CA. 2343   69.5500          NaN        S  \n",
      "849      0     17453   89.1042          C92        C  \n",
      "856      1     36928  164.8667          NaN        S  \n",
      "863      2  CA. 2343   69.5500          NaN        S  \n",
      "879      1     11767   83.1583          C50        C  \n",
      "\n",
      "[116 rows x 12 columns]\n",
      "Number of outliers: 116\n"
     ]
    }
   ],
   "source": [
    "# box plot for Fare\n",
    "plt.boxplot(df[\"Fare\"])\n",
    "plt.show()\n",
    "Q1 = df[\"Fare\"].quantile(0.25)\n",
    "Q3 = df[\"Fare\"].quantile(0.75)\n",
    "IQR = Q3 - Q1\n",
    "\n",
    "lower_bound = Q1 - 1.5 * IQR\n",
    "upper_bound = Q3 + 1.5 * IQR\n",
    "\n",
    "outliers = df[(df[\"Fare\"] < lower_bound) | (df[\"Fare\"] > upper_bound)]\n",
    "print(\"Outliers in Volume Column:\\n\", outliers)\n",
    "print(f\"Number of outliers: {len(outliers)}\")"
   ]
  },
  {
   "cell_type": "code",
   "execution_count": 11,
   "id": "991fb707-58fc-4233-946a-39fa0f9a13f1",
   "metadata": {},
   "outputs": [
    {
     "data": {
      "image/png": "[encoded data removed]",
      "text/plain": [
       "<Figure size 640x480 with 1 Axes>"
      ]
     },
     "metadata": {},
     "output_type": "display_data"
    },
    {
     "data": {
      "text/plain": [
       "Survived\n",
       "0    549\n",
       "1    342\n",
       "Name: count, dtype: int64"
      ]
     },
     "execution_count": 11,
     "metadata": {},
     "output_type": "execute_result"
    }
   ],
   "source": [
    "# bar chart on Survived column\n",
    "df[\"Survived\"].value_counts().plot(kind='bar')\n",
    "plt.title(\"Survived\")\n",
    "plt.show()\n",
    "df[\"Survived\"].value_counts()"
   ]
  },
  {
   "cell_type": "code",
   "execution_count": 12,
   "id": "f4a2f6ca-03f5-4426-9fe4-b6525f731fbc",
   "metadata": {},
   "outputs": [
    {
     "data": {
      "image/png": "[encoded data removed]",
      "text/plain": [
       "<Figure size 640x480 with 1 Axes>"
      ]
     },
     "metadata": {},
     "output_type": "display_data"
    },
    {
     "data": {
      "text/plain": [
       "Pclass\n",
       "3    491\n",
       "1    216\n",
       "2    184\n",
       "Name: count, dtype: int64"
      ]
     },
     "execution_count": 12,
     "metadata": {},
     "output_type": "execute_result"
    }
   ],
   "source": [
    "# bar chart on Pclass column\n",
    "df[\"Pclass\"].value_counts().plot(kind='bar')\n",
    "plt.title(\"Pclass\")\n",
    "plt.show()\n",
    "df[\"Pclass\"].value_counts()"
   ]
  },
  {
   "cell_type": "code",
   "execution_count": 13,
   "id": "98512c05-b8bd-4041-89bd-b5d8b4247ef4",
   "metadata": {},
   "outputs": [
    {
     "data": {
      "image/png": "[encoded data removed]",
      "text/plain": [
       "<Figure size 640x480 with 1 Axes>"
      ]
     },
     "metadata": {},
     "output_type": "display_data"
    },
    {
     "data": {
      "text/plain": [
       "Sex\n",
       "male      577\n",
       "female    314\n",
       "Name: count, dtype: int64"
      ]
     },
     "execution_count": 13,
     "metadata": {},
     "output_type": "execute_result"
    }
   ],
   "source": [
    "# bar chart on Sex column\n",
    "df[\"Sex\"].value_counts().plot(kind='bar')\n",
    "plt.title(\"Sex\")\n",
    "plt.show()\n",
    "df[\"Sex\"].value_counts()"
   ]
  },
  {
   "cell_type": "code",
   "execution_count": 14,
   "id": "2212161c-c0be-4d71-a760-d62d8aff0fff",
   "metadata": {},
   "outputs": [
    {
     "data": {
      "image/png": "[encoded data removed]",
      "text/plain": [
       "<Figure size 640x480 with 1 Axes>"
      ]
     },
     "metadata": {},
     "output_type": "display_data"
    },
    {
     "data": {
      "text/plain": [
       "SibSp\n",
       "0    608\n",
       "1    209\n",
       "2     28\n",
       "4     18\n",
       "3     16\n",
       "8      7\n",
       "5      5\n",
       "Name: count, dtype: int64"
      ]
     },
     "execution_count": 14,
     "metadata": {},
     "output_type": "execute_result"
    }
   ],
   "source": [
    "# bar chart on SibSp column\n",
    "df[\"SibSp\"].value_counts().plot(kind='bar')\n",
    "plt.title(\"SibSp\")\n",
    "plt.show()\n",
    "df[\"SibSp\"].value_counts()"
   ]
  },
  {
   "cell_type": "code",
   "execution_count": 15,
   "id": "9461edcb-9c4f-483c-8670-11155d93d62e",
   "metadata": {},
   "outputs": [
    {
     "data": {
      "image/png": "[encoded data removed]",
      "text/plain": [
       "<Figure size 640x480 with 1 Axes>"
      ]
     },
     "metadata": {},
     "output_type": "display_data"
    },
    {
     "data": {
      "text/plain": [
       "Parch\n",
       "0    678\n",
       "1    118\n",
       "2     80\n",
       "5      5\n",
       "3      5\n",
       "4      4\n",
       "6      1\n",
       "Name: count, dtype: int64"
      ]
     },
     "execution_count": 15,
     "metadata": {},
     "output_type": "execute_result"
    }
   ],
   "source": [
    "# bar chart on Parch column\n",
    "df[\"Parch\"].value_counts().plot(kind='bar')\n",
    "plt.title(\"Parch\")\n",
    "plt.show()\n",
    "df[\"Parch\"].value_counts()"
   ]
  },
  {
   "cell_type": "code",
   "execution_count": 16,
   "id": "fa76a97f-4771-4bef-8fcf-fe3b07dd122e",
   "metadata": {},
   "outputs": [
    {
     "data": {
      "image/png": "[encoded data removed]",
      "text/plain": [
       "<Figure size 640x480 with 1 Axes>"
      ]
     },
     "metadata": {},
     "output_type": "display_data"
    },
    {
     "data": {
      "text/plain": [
       "Embarked\n",
       "S    644\n",
       "C    168\n",
       "Q     77\n",
       "Name: count, dtype: int64"
      ]
     },
     "execution_count": 16,
     "metadata": {},
     "output_type": "execute_result"
    }
   ],
   "source": [
    "# bar chart on Embarked column\n",
    "df[\"Embarked\"].value_counts().plot(kind='bar')\n",
    "plt.title(\"Embarked\")\n",
    "plt.show()\n",
    "df[\"Embarked\"].value_counts()"
   ]
  },
  {
   "cell_type": "code",
   "execution_count": 17,
   "id": "563e6a84-6b3f-4f7b-a32a-a00e13cb938e",
   "metadata": {},
   "outputs": [
    {
     "data": {
      "text/plain": [
       "<Axes: xlabel='Survived', ylabel='Age'>"
      ]
     },
     "execution_count": 17,
     "metadata": {},
     "output_type": "execute_result"
    },
    {
     "data": {
      "image/png": "[encoded data removed]",
      "text/plain": [
       "<Figure size 640x480 with 1 Axes>"
      ]
     },
     "metadata": {},
     "output_type": "display_data"
    }
   ],
   "source": [
    "sns.boxplot(x='Survived', y='Age', data=df)"
   ]
  },
  {
   "cell_type": "code",
   "execution_count": 18,
   "id": "2c30746f-473c-4153-b914-1a0bc9f7061d",
   "metadata": {},
   "outputs": [
    {
     "name": "stdout",
     "output_type": "stream",
     "text": [
      "we can see most of the female  survived\n"
     ]
    },
    {
     "data": {
      "image/png": "[encoded data removed]",
      "text/plain": [
       "<Figure size 640x480 with 1 Axes>"
      ]
     },
     "metadata": {},
     "output_type": "display_data"
    }
   ],
   "source": [
    "sns.countplot(x='Sex', hue='Survived', data=df)\n",
    "print(\"we can see most of the female  survived\")"
   ]
  },
  {
   "cell_type": "code",
   "execution_count": 19,
   "id": "04adc265-a414-4e0b-955b-3565111b37e2",
   "metadata": {},
   "outputs": [
    {
     "data": {
      "text/plain": [
       "<Axes: xlabel='Age', ylabel='Count'>"
      ]
     },
     "execution_count": 19,
     "metadata": {},
     "output_type": "execute_result"
    },
    {
     "data": {
      "image/png": "[encoded data removed]",
      "text/plain": [
       "<Figure size 640x480 with 1 Axes>"
      ]
     },
     "metadata": {},
     "output_type": "display_data"
    }
   ],
   "source": [
    "sns.histplot(df['Age'], bins=30, kde=True)"
   ]
  },
  {
   "cell_type": "code",
   "execution_count": 20,
   "id": "c4d68f28-8525-4aa2-875c-349889cea1e5",
   "metadata": {},
   "outputs": [
    {
     "data": {
      "text/plain": [
       "<Axes: xlabel='Pclass', ylabel='Fare'>"
      ]
     },
     "execution_count": 20,
     "metadata": {},
     "output_type": "execute_result"
    },
    {
     "data": {
      "image/png": "[encoded data removed]",
      "text/plain": [
       "<Figure size 640x480 with 1 Axes>"
      ]
     },
     "metadata": {},
     "output_type": "display_data"
    }
   ],
   "source": [
    "sns.boxplot(x='Pclass', y='Fare', data=df)"
   ]
  },
  {
   "cell_type": "code",
   "execution_count": 21,
   "id": "9cf06296-849a-4ba6-947f-927cc6f3eb08",
   "metadata": {},
   "outputs": [
    {
     "data": {
      "image/png": "[encoded data removed]",
      "text/plain": [
       "<Figure size 640x480 with 1 Axes>"
      ]
     },
     "metadata": {},
     "output_type": "display_data"
    }
   ],
   "source": [
    "import matplotlib.pyplot as plt \n",
    "plt.scatter(x =df[\"Fare\"], y =df[\"Survived\"], color ='red')\n",
    "plt.plot(df[\"Fare\"], df[\"Survived\"],c ='purple')\n",
    "plt.show()\n"
   ]
  },
  {
   "cell_type": "code",
   "execution_count": 22,
   "id": "74354242-1fe7-44f9-81d7-2ac956606fd6",
   "metadata": {},
   "outputs": [
    {
     "data": {
      "image/png": "[encoded data removed]",
      "text/plain": [
       "<Figure size 640x480 with 1 Axes>"
      ]
     },
     "metadata": {},
     "output_type": "display_data"
    }
   ],
   "source": [
    "import matplotlib.pyplot as plt \n",
    "plt.scatter(x =df[\"Age\"], y =df[\"Survived\"], color ='red')\n",
    "plt.plot(df[\"Age\"], df[\"Survived\"],c ='yellow')\n",
    "plt.show()\n"
   ]
  },
  {
   "cell_type": "code",
   "execution_count": 23,
   "id": "dd55486d-3a62-4afd-ac32-af1fa5e7a9ee",
   "metadata": {},
   "outputs": [
    {
     "name": "stdout",
     "output_type": "stream",
     "text": [
      "PassengerId      0\n",
      "Survived         0\n",
      "Pclass           0\n",
      "Name             0\n",
      "Sex              0\n",
      "Age            177\n",
      "SibSp            0\n",
      "Parch            0\n",
      "Ticket           0\n",
      "Fare             0\n",
      "Cabin          687\n",
      "Embarked         2\n",
      "dtype: int64\n"
     ]
    }
   ],
   "source": [
    "print(df.isnull().sum())"
   ]
  },
  {
   "cell_type": "markdown",
   "id": "04d19690-3b18-42a0-bb3a-9b16d3d46591",
   "metadata": {},
   "source": [
    "### Data transformation"
   ]
  },
  {
   "cell_type": "code",
   "execution_count": 24,
   "id": "822a06f2-b21f-40a5-b0df-353620c027d5",
   "metadata": {},
   "outputs": [
    {
     "name": "stdout",
     "output_type": "stream",
     "text": [
      "0      108\n",
      "1      190\n",
      "2      353\n",
      "3      272\n",
      "4       15\n",
      "      ... \n",
      "886    548\n",
      "887    303\n",
      "888    413\n",
      "889     81\n",
      "890    220\n",
      "Name: Name, Length: 891, dtype: int32\n"
     ]
    }
   ],
   "source": [
    "#DATA TRANSFORMATION\n",
    "from sklearn.preprocessing import LabelEncoder \n",
    "LE =LabelEncoder()\n",
    "df[\"Name\"] =LE.fit_transform(df[\"Name\"])\n",
    "print(df[\"Name\"])"
   ]
  },
  {
   "cell_type": "code",
   "execution_count": 25,
   "id": "bde5701b-5120-4a1b-bf4e-e320ee59e840",
   "metadata": {},
   "outputs": [
    {
     "name": "stdout",
     "output_type": "stream",
     "text": [
      "0      1\n",
      "1      0\n",
      "2      0\n",
      "3      0\n",
      "4      1\n",
      "      ..\n",
      "886    1\n",
      "887    0\n",
      "888    0\n",
      "889    1\n",
      "890    1\n",
      "Name: Sex, Length: 891, dtype: int32\n"
     ]
    }
   ],
   "source": [
    "#DATA TRANSFORMATION\n",
    "from sklearn.preprocessing import LabelEncoder \n",
    "LE =LabelEncoder()\n",
    "df[\"Sex\"] =LE.fit_transform(df[\"Sex\"])\n",
    "print(df[\"Sex\"])"
   ]
  },
  {
   "cell_type": "code",
   "execution_count": 26,
   "id": "4f3361ee-705e-40ba-ac28-d5fdd666fc27",
   "metadata": {},
   "outputs": [
    {
     "name": "stdout",
     "output_type": "stream",
     "text": [
      "0      523\n",
      "1      596\n",
      "2      669\n",
      "3       49\n",
      "4      472\n",
      "      ... \n",
      "886    101\n",
      "887     14\n",
      "888    675\n",
      "889      8\n",
      "890    466\n",
      "Name: Ticket, Length: 891, dtype: int32\n"
     ]
    }
   ],
   "source": [
    "#DATA TRANSFORMATION\n",
    "from sklearn.preprocessing import LabelEncoder \n",
    "LE =LabelEncoder()\n",
    "df[\"Ticket\"] =LE.fit_transform(df[\"Ticket\"])\n",
    "print(df[\"Ticket\"])"
   ]
  },
  {
   "cell_type": "code",
   "execution_count": 27,
   "id": "20a35452-85be-4d6a-9c0a-66da338f7a22",
   "metadata": {},
   "outputs": [
    {
     "name": "stdout",
     "output_type": "stream",
     "text": [
      "0      147\n",
      "1       81\n",
      "2      147\n",
      "3       55\n",
      "4      147\n",
      "      ... \n",
      "886    147\n",
      "887     30\n",
      "888    147\n",
      "889     60\n",
      "890    147\n",
      "Name: Cabin, Length: 891, dtype: int32\n"
     ]
    }
   ],
   "source": [
    "#DATA TRANSFORMATION\n",
    "from sklearn.preprocessing import LabelEncoder \n",
    "LE =LabelEncoder()\n",
    "df[\"Cabin\"] =LE.fit_transform(df[\"Cabin\"])\n",
    "print(df[\"Cabin\"])"
   ]
  },
  {
   "cell_type": "code",
   "execution_count": 28,
   "id": "6b0f74ae-3f74-4183-a4d2-6ce49d461c83",
   "metadata": {},
   "outputs": [
    {
     "name": "stdout",
     "output_type": "stream",
     "text": [
      "0      2\n",
      "1      0\n",
      "2      2\n",
      "3      2\n",
      "4      2\n",
      "      ..\n",
      "886    2\n",
      "887    2\n",
      "888    2\n",
      "889    0\n",
      "890    1\n",
      "Name: Embarked, Length: 891, dtype: int32\n"
     ]
    }
   ],
   "source": [
    "#DATA TRANSFORMATION\n",
    "from sklearn.preprocessing import LabelEncoder \n",
    "LE =LabelEncoder()\n",
    "df[\"Embarked\"] =LE.fit_transform(df[\"Embarked\"])\n",
    "print(df[\"Embarked\"])"
   ]
  },
  {
   "cell_type": "code",
   "execution_count": 29,
   "id": "8ef2ac36-1c45-4889-8101-8994732494cc",
   "metadata": {},
   "outputs": [
    {
     "name": "stderr",
     "output_type": "stream",
     "text": [
      "C:\\Users\\anura\\AppData\\Local\\Temp\\ipykernel_20492\\3415624715.py:2: FutureWarning: A value is trying to be set on a copy of a DataFrame or Series through chained assignment using an inplace method.\n",
      "The behavior will change in pandas 3.0. This inplace method will never work because the intermediate object on which we are setting values always behaves as a copy.\n",
      "\n",
      "For example, when doing 'df[col].method(value, inplace=True)', try using 'df.method({col: value}, inplace=True)' or df[col] = df[col].method(value) instead, to perform the operation inplace on the original object.\n",
      "\n",
      "\n",
      "  df['Age'].fillna(df['Age'].median(), inplace=True)\n",
      "C:\\Users\\anura\\AppData\\Local\\Temp\\ipykernel_20492\\3415624715.py:5: FutureWarning: A value is trying to be set on a copy of a DataFrame or Series through chained assignment using an inplace method.\n",
      "The behavior will change in pandas 3.0. This inplace method will never work because the intermediate object on which we are setting values always behaves as a copy.\n",
      "\n",
      "For example, when doing 'df[col].method(value, inplace=True)', try using 'df.method({col: value}, inplace=True)' or df[col] = df[col].method(value) instead, to perform the operation inplace on the original object.\n",
      "\n",
      "\n",
      "  df['Cabin'].fillna(df['Cabin'].median(), inplace=True)\n",
      "C:\\Users\\anura\\AppData\\Local\\Temp\\ipykernel_20492\\3415624715.py:8: FutureWarning: A value is trying to be set on a copy of a DataFrame or Series through chained assignment using an inplace method.\n",
      "The behavior will change in pandas 3.0. This inplace method will never work because the intermediate object on which we are setting values always behaves as a copy.\n",
      "\n",
      "For example, when doing 'df[col].method(value, inplace=True)', try using 'df.method({col: value}, inplace=True)' or df[col] = df[col].method(value) instead, to perform the operation inplace on the original object.\n",
      "\n",
      "\n",
      "  df['Embarked'].fillna(df['Embarked'].median(), inplace=True)\n"
     ]
    }
   ],
   "source": [
    "\n",
    "# Fill missing with median/mean\n",
    "df['Age'].fillna(df['Age'].median(), inplace=True)\n",
    "\n",
    "# Fill missing with mean/medain\n",
    "df['Cabin'].fillna(df['Cabin'].median(), inplace=True)\n",
    "\n",
    "# Fill missing with median/mean\n",
    "df['Embarked'].fillna(df['Embarked'].median(), inplace=True)"
   ]
  },
  {
   "cell_type": "code",
   "execution_count": 30,
   "id": "549f3683-8237-4f01-8b9a-6dcebd798684",
   "metadata": {},
   "outputs": [
    {
     "name": "stdout",
     "output_type": "stream",
     "text": [
      "PassengerId    0\n",
      "Survived       0\n",
      "Pclass         0\n",
      "Name           0\n",
      "Sex            0\n",
      "Age            0\n",
      "SibSp          0\n",
      "Parch          0\n",
      "Ticket         0\n",
      "Fare           0\n",
      "Cabin          0\n",
      "Embarked       0\n",
      "dtype: int64\n"
     ]
    }
   ],
   "source": [
    "print(df.isnull().sum())"
   ]
  },
  {
   "cell_type": "code",
   "execution_count": 31,
   "id": "4fb58c05-2aed-4491-b170-735fb26c5be4",
   "metadata": {},
   "outputs": [
    {
     "data": {
      "text/html": [
       "<div>\n",
       "<style scoped>\n",
       "    .dataframe tbody tr th:only-of-type {\n",
       "        vertical-align: middle;\n",
       "    }\n",
       "\n",
       "    .dataframe tbody tr th {\n",
       "        vertical-align: top;\n",
       "    }\n",
       "\n",
       "    .dataframe thead th {\n",
       "        text-align: right;\n",
       "    }\n",
       "</style>\n",
       "<table border=\"1\" class=\"dataframe\">\n",
       "  <thead>\n",
       "    <tr style=\"text-align: right;\">\n",
       "      <th></th>\n",
       "      <th>PassengerId</th>\n",
       "      <th>Survived</th>\n",
       "      <th>Pclass</th>\n",
       "      <th>Name</th>\n",
       "      <th>Sex</th>\n",
       "      <th>Age</th>\n",
       "      <th>SibSp</th>\n",
       "      <th>Parch</th>\n",
       "      <th>Ticket</th>\n",
       "      <th>Fare</th>\n",
       "      <th>Cabin</th>\n",
       "      <th>Embarked</th>\n",
       "    </tr>\n",
       "  </thead>\n",
       "  <tbody>\n",
       "    <tr>\n",
       "      <th>PassengerId</th>\n",
       "      <td>1.000000</td>\n",
       "      <td>-0.005007</td>\n",
       "      <td>-0.035144</td>\n",
       "      <td>-0.038559</td>\n",
       "      <td>0.042939</td>\n",
       "      <td>0.034212</td>\n",
       "      <td>-0.057527</td>\n",
       "      <td>-0.001652</td>\n",
       "      <td>-0.056554</td>\n",
       "      <td>0.012658</td>\n",
       "      <td>-0.035077</td>\n",
       "      <td>0.013083</td>\n",
       "    </tr>\n",
       "    <tr>\n",
       "      <th>Survived</th>\n",
       "      <td>-0.005007</td>\n",
       "      <td>1.000000</td>\n",
       "      <td>-0.338481</td>\n",
       "      <td>-0.057343</td>\n",
       "      <td>-0.543351</td>\n",
       "      <td>-0.064910</td>\n",
       "      <td>-0.035322</td>\n",
       "      <td>0.081629</td>\n",
       "      <td>-0.164549</td>\n",
       "      <td>0.257307</td>\n",
       "      <td>-0.254888</td>\n",
       "      <td>-0.163517</td>\n",
       "    </tr>\n",
       "    <tr>\n",
       "      <th>Pclass</th>\n",
       "      <td>-0.035144</td>\n",
       "      <td>-0.338481</td>\n",
       "      <td>1.000000</td>\n",
       "      <td>0.052831</td>\n",
       "      <td>0.131900</td>\n",
       "      <td>-0.339898</td>\n",
       "      <td>0.083081</td>\n",
       "      <td>0.018443</td>\n",
       "      <td>0.319869</td>\n",
       "      <td>-0.549500</td>\n",
       "      <td>0.684121</td>\n",
       "      <td>0.157112</td>\n",
       "    </tr>\n",
       "    <tr>\n",
       "      <th>Name</th>\n",
       "      <td>-0.038559</td>\n",
       "      <td>-0.057343</td>\n",
       "      <td>0.052831</td>\n",
       "      <td>1.000000</td>\n",
       "      <td>0.020314</td>\n",
       "      <td>0.048252</td>\n",
       "      <td>-0.017230</td>\n",
       "      <td>-0.049105</td>\n",
       "      <td>0.047348</td>\n",
       "      <td>-0.049173</td>\n",
       "      <td>0.061959</td>\n",
       "      <td>-0.004557</td>\n",
       "    </tr>\n",
       "    <tr>\n",
       "      <th>Sex</th>\n",
       "      <td>0.042939</td>\n",
       "      <td>-0.543351</td>\n",
       "      <td>0.131900</td>\n",
       "      <td>0.020314</td>\n",
       "      <td>1.000000</td>\n",
       "      <td>0.081163</td>\n",
       "      <td>-0.114631</td>\n",
       "      <td>-0.245489</td>\n",
       "      <td>0.059372</td>\n",
       "      <td>-0.182333</td>\n",
       "      <td>0.096681</td>\n",
       "      <td>0.104057</td>\n",
       "    </tr>\n",
       "    <tr>\n",
       "      <th>Age</th>\n",
       "      <td>0.034212</td>\n",
       "      <td>-0.064910</td>\n",
       "      <td>-0.339898</td>\n",
       "      <td>0.048252</td>\n",
       "      <td>0.081163</td>\n",
       "      <td>1.000000</td>\n",
       "      <td>-0.233296</td>\n",
       "      <td>-0.172482</td>\n",
       "      <td>-0.070382</td>\n",
       "      <td>0.096688</td>\n",
       "      <td>-0.240839</td>\n",
       "      <td>-0.014205</td>\n",
       "    </tr>\n",
       "    <tr>\n",
       "      <th>SibSp</th>\n",
       "      <td>-0.057527</td>\n",
       "      <td>-0.035322</td>\n",
       "      <td>0.083081</td>\n",
       "      <td>-0.017230</td>\n",
       "      <td>-0.114631</td>\n",
       "      <td>-0.233296</td>\n",
       "      <td>1.000000</td>\n",
       "      <td>0.414838</td>\n",
       "      <td>0.079461</td>\n",
       "      <td>0.159651</td>\n",
       "      <td>0.043593</td>\n",
       "      <td>0.066654</td>\n",
       "    </tr>\n",
       "    <tr>\n",
       "      <th>Parch</th>\n",
       "      <td>-0.001652</td>\n",
       "      <td>0.081629</td>\n",
       "      <td>0.018443</td>\n",
       "      <td>-0.049105</td>\n",
       "      <td>-0.245489</td>\n",
       "      <td>-0.172482</td>\n",
       "      <td>0.414838</td>\n",
       "      <td>1.000000</td>\n",
       "      <td>0.020003</td>\n",
       "      <td>0.216225</td>\n",
       "      <td>-0.028324</td>\n",
       "      <td>0.038322</td>\n",
       "    </tr>\n",
       "    <tr>\n",
       "      <th>Ticket</th>\n",
       "      <td>-0.056554</td>\n",
       "      <td>-0.164549</td>\n",
       "      <td>0.319869</td>\n",
       "      <td>0.047348</td>\n",
       "      <td>0.059372</td>\n",
       "      <td>-0.070382</td>\n",
       "      <td>0.079461</td>\n",
       "      <td>0.020003</td>\n",
       "      <td>1.000000</td>\n",
       "      <td>-0.013885</td>\n",
       "      <td>0.243696</td>\n",
       "      <td>-0.006041</td>\n",
       "    </tr>\n",
       "    <tr>\n",
       "      <th>Fare</th>\n",
       "      <td>0.012658</td>\n",
       "      <td>0.257307</td>\n",
       "      <td>-0.549500</td>\n",
       "      <td>-0.049173</td>\n",
       "      <td>-0.182333</td>\n",
       "      <td>0.096688</td>\n",
       "      <td>0.159651</td>\n",
       "      <td>0.216225</td>\n",
       "      <td>-0.013885</td>\n",
       "      <td>1.000000</td>\n",
       "      <td>-0.503355</td>\n",
       "      <td>-0.221226</td>\n",
       "    </tr>\n",
       "    <tr>\n",
       "      <th>Cabin</th>\n",
       "      <td>-0.035077</td>\n",
       "      <td>-0.254888</td>\n",
       "      <td>0.684121</td>\n",
       "      <td>0.061959</td>\n",
       "      <td>0.096681</td>\n",
       "      <td>-0.240839</td>\n",
       "      <td>0.043593</td>\n",
       "      <td>-0.028324</td>\n",
       "      <td>0.243696</td>\n",
       "      <td>-0.503355</td>\n",
       "      <td>1.000000</td>\n",
       "      <td>0.193205</td>\n",
       "    </tr>\n",
       "    <tr>\n",
       "      <th>Embarked</th>\n",
       "      <td>0.013083</td>\n",
       "      <td>-0.163517</td>\n",
       "      <td>0.157112</td>\n",
       "      <td>-0.004557</td>\n",
       "      <td>0.104057</td>\n",
       "      <td>-0.014205</td>\n",
       "      <td>0.066654</td>\n",
       "      <td>0.038322</td>\n",
       "      <td>-0.006041</td>\n",
       "      <td>-0.221226</td>\n",
       "      <td>0.193205</td>\n",
       "      <td>1.000000</td>\n",
       "    </tr>\n",
       "  </tbody>\n",
       "</table>\n",
       "</div>"
      ],
      "text/plain": [
       "             PassengerId  Survived    Pclass      Name       Sex       Age  \\\n",
       "PassengerId     1.000000 -0.005007 -0.035144 -0.038559  0.042939  0.034212   \n",
       "Survived       -0.005007  1.000000 -0.338481 -0.057343 -0.543351 -0.064910   \n",
       "Pclass         -0.035144 -0.338481  1.000000  0.052831  0.131900 -0.339898   \n",
       "Name           -0.038559 -0.057343  0.052831  1.000000  0.020314  0.048252   \n",
       "Sex             0.042939 -0.543351  0.131900  0.020314  1.000000  0.081163   \n",
       "Age             0.034212 -0.064910 -0.339898  0.048252  0.081163  1.000000   \n",
       "SibSp          -0.057527 -0.035322  0.083081 -0.017230 -0.114631 -0.233296   \n",
       "Parch          -0.001652  0.081629  0.018443 -0.049105 -0.245489 -0.172482   \n",
       "Ticket         -0.056554 -0.164549  0.319869  0.047348  0.059372 -0.070382   \n",
       "Fare            0.012658  0.257307 -0.549500 -0.049173 -0.182333  0.096688   \n",
       "Cabin          -0.035077 -0.254888  0.684121  0.061959  0.096681 -0.240839   \n",
       "Embarked        0.013083 -0.163517  0.157112 -0.004557  0.104057 -0.014205   \n",
       "\n",
       "                SibSp     Parch    Ticket      Fare     Cabin  Embarked  \n",
       "PassengerId -0.057527 -0.001652 -0.056554  0.012658 -0.035077  0.013083  \n",
       "Survived    -0.035322  0.081629 -0.164549  0.257307 -0.254888 -0.163517  \n",
       "Pclass       0.083081  0.018443  0.319869 -0.549500  0.684121  0.157112  \n",
       "Name        -0.017230 -0.049105  0.047348 -0.049173  0.061959 -0.004557  \n",
       "Sex         -0.114631 -0.245489  0.059372 -0.182333  0.096681  0.104057  \n",
       "Age         -0.233296 -0.172482 -0.070382  0.096688 -0.240839 -0.014205  \n",
       "SibSp        1.000000  0.414838  0.079461  0.159651  0.043593  0.066654  \n",
       "Parch        0.414838  1.000000  0.020003  0.216225 -0.028324  0.038322  \n",
       "Ticket       0.079461  0.020003  1.000000 -0.013885  0.243696 -0.006041  \n",
       "Fare         0.159651  0.216225 -0.013885  1.000000 -0.503355 -0.221226  \n",
       "Cabin        0.043593 -0.028324  0.243696 -0.503355  1.000000  0.193205  \n",
       "Embarked     0.066654  0.038322 -0.006041 -0.221226  0.193205  1.000000  "
      ]
     },
     "execution_count": 31,
     "metadata": {},
     "output_type": "execute_result"
    }
   ],
   "source": [
    "df.corr()"
   ]
  },
  {
   "cell_type": "code",
   "execution_count": 32,
   "id": "a530422d-0dbc-47da-a83c-0368ab19cc84",
   "metadata": {},
   "outputs": [
    {
     "name": "stdout",
     "output_type": "stream",
     "text": [
      "   Sex  Ticket     Fare  Cabin  Embarked\n",
      "0    1     523   7.2500    147         2\n",
      "1    0     596  71.2833     81         0\n",
      "2    0     669   7.9250    147         2\n",
      "3    0      49  53.1000     55         2\n",
      "4    1     472   8.0500    147         2\n"
     ]
    }
   ],
   "source": [
    "X =df[[\"Sex\",\"Ticket\",\"Fare\",\"Cabin\",\"Embarked\"]]\n",
    "print(X.head())\n",
    "Y =df[\"Survived\"] #Target variable"
   ]
  },
  {
   "cell_type": "code",
   "execution_count": 33,
   "id": "41e01f4e-6958-4283-a9c6-9f1b2bcd944a",
   "metadata": {},
   "outputs": [
    {
     "data": {
      "text/html": [
       "<style>#sk-container-id-1 {\n",
       "  /* Definition of color scheme common for light and dark mode */\n",
       "  --sklearn-color-text: black;\n",
       "  --sklearn-color-line: gray;\n",
       "  /* Definition of color scheme for unfitted estimators */\n",
       "  --sklearn-color-unfitted-level-0: #fff5e6;\n",
       "  --sklearn-color-unfitted-level-1: #f6e4d2;\n",
       "  --sklearn-color-unfitted-level-2: #ffe0b3;\n",
       "  --sklearn-color-unfitted-level-3: chocolate;\n",
       "  /* Definition of color scheme for fitted estimators */\n",
       "  --sklearn-color-fitted-level-0: #f0f8ff;\n",
       "  --sklearn-color-fitted-level-1: #d4ebff;\n",
       "  --sklearn-color-fitted-level-2: #b3dbfd;\n",
       "  --sklearn-color-fitted-level-3: cornflowerblue;\n",
       "\n",
       "  /* Specific color for light theme */\n",
       "  --sklearn-color-text-on-default-background: var(--sg-text-color, var(--theme-code-foreground, var(--jp-content-font-color1, black)));\n",
       "  --sklearn-color-background: var(--sg-background-color, var(--theme-background, var(--jp-layout-color0, white)));\n",
       "  --sklearn-color-border-box: var(--sg-text-color, var(--theme-code-foreground, var(--jp-content-font-color1, black)));\n",
       "  --sklearn-color-icon: #696969;\n",
       "\n",
       "  @media (prefers-color-scheme: dark) {\n",
       "    /* Redefinition of color scheme for dark theme */\n",
       "    --sklearn-color-text-on-default-background: var(--sg-text-color, var(--theme-code-foreground, var(--jp-content-font-color1, white)));\n",
       "    --sklearn-color-background: var(--sg-background-color, var(--theme-background, var(--jp-layout-color0, #111)));\n",
       "    --sklearn-color-border-box: var(--sg-text-color, var(--theme-code-foreground, var(--jp-content-font-color1, white)));\n",
       "    --sklearn-color-icon: #878787;\n",
       "  }\n",
       "}\n",
       "\n",
       "#sk-container-id-1 {\n",
       "  color: var(--sklearn-color-text);\n",
       "}\n",
       "\n",
       "#sk-container-id-1 pre {\n",
       "  padding: 0;\n",
       "}\n",
       "\n",
       "#sk-container-id-1 input.sk-hidden--visually {\n",
       "  border: 0;\n",
       "  clip: rect(1px 1px 1px 1px);\n",
       "  clip: rect(1px, 1px, 1px, 1px);\n",
       "  height: 1px;\n",
       "  margin: -1px;\n",
       "  overflow: hidden;\n",
       "  padding: 0;\n",
       "  position: absolute;\n",
       "  width: 1px;\n",
       "}\n",
       "\n",
       "#sk-container-id-1 div.sk-dashed-wrapped {\n",
       "  border: 1px dashed var(--sklearn-color-line);\n",
       "  margin: 0 0.4em 0.5em 0.4em;\n",
       "  box-sizing: border-box;\n",
       "  padding-bottom: 0.4em;\n",
       "  background-color: var(--sklearn-color-background);\n",
       "}\n",
       "\n",
       "#sk-container-id-1 div.sk-container {\n",
       "  /* jupyter's `normalize.less` sets `[hidden] { display: none; }`\n",
       "     but bootstrap.min.css set `[hidden] { display: none !important; }`\n",
       "     so we also need the `!important` here to be able to override the\n",
       "     default hidden behavior on the sphinx rendered scikit-learn.org.\n",
       "     See: https://github.com/scikit-learn/scikit-learn/issues/21755 */\n",
       "  display: inline-block !important;\n",
       "  position: relative;\n",
       "}\n",
       "\n",
       "#sk-container-id-1 div.sk-text-repr-fallback {\n",
       "  display: none;\n",
       "}\n",
       "\n",
       "div.sk-parallel-item,\n",
       "div.sk-serial,\n",
       "div.sk-item {\n",
       "  /* draw centered vertical line to link estimators */\n",
       "  background-image: linear-gradient(var(--sklearn-color-text-on-default-background), var(--sklearn-color-text-on-default-background));\n",
       "  background-size: 2px 100%;\n",
       "  background-repeat: no-repeat;\n",
       "  background-position: center center;\n",
       "}\n",
       "\n",
       "/* Parallel-specific style estimator block */\n",
       "\n",
       "#sk-container-id-1 div.sk-parallel-item::after {\n",
       "  content: \"\";\n",
       "  width: 100%;\n",
       "  border-bottom: 2px solid var(--sklearn-color-text-on-default-background);\n",
       "  flex-grow: 1;\n",
       "}\n",
       "\n",
       "#sk-container-id-1 div.sk-parallel {\n",
       "  display: flex;\n",
       "  align-items: stretch;\n",
       "  justify-content: center;\n",
       "  background-color: var(--sklearn-color-background);\n",
       "  position: relative;\n",
       "}\n",
       "\n",
       "#sk-container-id-1 div.sk-parallel-item {\n",
       "  display: flex;\n",
       "  flex-direction: column;\n",
       "}\n",
       "\n",
       "#sk-container-id-1 div.sk-parallel-item:first-child::after {\n",
       "  align-self: flex-end;\n",
       "  width: 50%;\n",
       "}\n",
       "\n",
       "#sk-container-id-1 div.sk-parallel-item:last-child::after {\n",
       "  align-self: flex-start;\n",
       "  width: 50%;\n",
       "}\n",
       "\n",
       "#sk-container-id-1 div.sk-parallel-item:only-child::after {\n",
       "  width: 0;\n",
       "}\n",
       "\n",
       "/* Serial-specific style estimator block */\n",
       "\n",
       "#sk-container-id-1 div.sk-serial {\n",
       "  display: flex;\n",
       "  flex-direction: column;\n",
       "  align-items: center;\n",
       "  background-color: var(--sklearn-color-background);\n",
       "  padding-right: 1em;\n",
       "  padding-left: 1em;\n",
       "}\n",
       "\n",
       "\n",
       "/* Toggleable style: style used for estimator/Pipeline/ColumnTransformer box that is\n",
       "clickable and can be expanded/collapsed.\n",
       "- Pipeline and ColumnTransformer use this feature and define the default style\n",
       "- Estimators will overwrite some part of the style using the `sk-estimator` class\n",
       "*/\n",
       "\n",
       "/* Pipeline and ColumnTransformer style (default) */\n",
       "\n",
       "#sk-container-id-1 div.sk-toggleable {\n",
       "  /* Default theme specific background. It is overwritten whether we have a\n",
       "  specific estimator or a Pipeline/ColumnTransformer */\n",
       "  background-color: var(--sklearn-color-background);\n",
       "}\n",
       "\n",
       "/* Toggleable label */\n",
       "#sk-container-id-1 label.sk-toggleable__label {\n",
       "  cursor: pointer;\n",
       "  display: block;\n",
       "  width: 100%;\n",
       "  margin-bottom: 0;\n",
       "  padding: 0.5em;\n",
       "  box-sizing: border-box;\n",
       "  text-align: center;\n",
       "}\n",
       "\n",
       "#sk-container-id-1 label.sk-toggleable__label-arrow:before {\n",
       "  /* Arrow on the left of the label */\n",
       "  content: \"▸\";\n",
       "  float: left;\n",
       "  margin-right: 0.25em;\n",
       "  color: var(--sklearn-color-icon);\n",
       "}\n",
       "\n",
       "#sk-container-id-1 label.sk-toggleable__label-arrow:hover:before {\n",
       "  color: var(--sklearn-color-text);\n",
       "}\n",
       "\n",
       "/* Toggleable content - dropdown */\n",
       "\n",
       "#sk-container-id-1 div.sk-toggleable__content {\n",
       "  max-height: 0;\n",
       "  max-width: 0;\n",
       "  overflow: hidden;\n",
       "  text-align: left;\n",
       "  /* unfitted */\n",
       "  background-color: var(--sklearn-color-unfitted-level-0);\n",
       "}\n",
       "\n",
       "#sk-container-id-1 div.sk-toggleable__content.fitted {\n",
       "  /* fitted */\n",
       "  background-color: var(--sklearn-color-fitted-level-0);\n",
       "}\n",
       "\n",
       "#sk-container-id-1 div.sk-toggleable__content pre {\n",
       "  margin: 0.2em;\n",
       "  border-radius: 0.25em;\n",
       "  color: var(--sklearn-color-text);\n",
       "  /* unfitted */\n",
       "  background-color: var(--sklearn-color-unfitted-level-0);\n",
       "}\n",
       "\n",
       "#sk-container-id-1 div.sk-toggleable__content.fitted pre {\n",
       "  /* unfitted */\n",
       "  background-color: var(--sklearn-color-fitted-level-0);\n",
       "}\n",
       "\n",
       "#sk-container-id-1 input.sk-toggleable__control:checked~div.sk-toggleable__content {\n",
       "  /* Expand drop-down */\n",
       "  max-height: 200px;\n",
       "  max-width: 100%;\n",
       "  overflow: auto;\n",
       "}\n",
       "\n",
       "#sk-container-id-1 input.sk-toggleable__control:checked~label.sk-toggleable__label-arrow:before {\n",
       "  content: \"▾\";\n",
       "}\n",
       "\n",
       "/* Pipeline/ColumnTransformer-specific style */\n",
       "\n",
       "#sk-container-id-1 div.sk-label input.sk-toggleable__control:checked~label.sk-toggleable__label {\n",
       "  color: var(--sklearn-color-text);\n",
       "  background-color: var(--sklearn-color-unfitted-level-2);\n",
       "}\n",
       "\n",
       "#sk-container-id-1 div.sk-label.fitted input.sk-toggleable__control:checked~label.sk-toggleable__label {\n",
       "  background-color: var(--sklearn-color-fitted-level-2);\n",
       "}\n",
       "\n",
       "/* Estimator-specific style */\n",
       "\n",
       "/* Colorize estimator box */\n",
       "#sk-container-id-1 div.sk-estimator input.sk-toggleable__control:checked~label.sk-toggleable__label {\n",
       "  /* unfitted */\n",
       "  background-color: var(--sklearn-color-unfitted-level-2);\n",
       "}\n",
       "\n",
       "#sk-container-id-1 div.sk-estimator.fitted input.sk-toggleable__control:checked~label.sk-toggleable__label {\n",
       "  /* fitted */\n",
       "  background-color: var(--sklearn-color-fitted-level-2);\n",
       "}\n",
       "\n",
       "#sk-container-id-1 div.sk-label label.sk-toggleable__label,\n",
       "#sk-container-id-1 div.sk-label label {\n",
       "  /* The background is the default theme color */\n",
       "  color: var(--sklearn-color-text-on-default-background);\n",
       "}\n",
       "\n",
       "/* On hover, darken the color of the background */\n",
       "#sk-container-id-1 div.sk-label:hover label.sk-toggleable__label {\n",
       "  color: var(--sklearn-color-text);\n",
       "  background-color: var(--sklearn-color-unfitted-level-2);\n",
       "}\n",
       "\n",
       "/* Label box, darken color on hover, fitted */\n",
       "#sk-container-id-1 div.sk-label.fitted:hover label.sk-toggleable__label.fitted {\n",
       "  color: var(--sklearn-color-text);\n",
       "  background-color: var(--sklearn-color-fitted-level-2);\n",
       "}\n",
       "\n",
       "/* Estimator label */\n",
       "\n",
       "#sk-container-id-1 div.sk-label label {\n",
       "  font-family: monospace;\n",
       "  font-weight: bold;\n",
       "  display: inline-block;\n",
       "  line-height: 1.2em;\n",
       "}\n",
       "\n",
       "#sk-container-id-1 div.sk-label-container {\n",
       "  text-align: center;\n",
       "}\n",
       "\n",
       "/* Estimator-specific */\n",
       "#sk-container-id-1 div.sk-estimator {\n",
       "  font-family: monospace;\n",
       "  border: 1px dotted var(--sklearn-color-border-box);\n",
       "  border-radius: 0.25em;\n",
       "  box-sizing: border-box;\n",
       "  margin-bottom: 0.5em;\n",
       "  /* unfitted */\n",
       "  background-color: var(--sklearn-color-unfitted-level-0);\n",
       "}\n",
       "\n",
       "#sk-container-id-1 div.sk-estimator.fitted {\n",
       "  /* fitted */\n",
       "  background-color: var(--sklearn-color-fitted-level-0);\n",
       "}\n",
       "\n",
       "/* on hover */\n",
       "#sk-container-id-1 div.sk-estimator:hover {\n",
       "  /* unfitted */\n",
       "  background-color: var(--sklearn-color-unfitted-level-2);\n",
       "}\n",
       "\n",
       "#sk-container-id-1 div.sk-estimator.fitted:hover {\n",
       "  /* fitted */\n",
       "  background-color: var(--sklearn-color-fitted-level-2);\n",
       "}\n",
       "\n",
       "/* Specification for estimator info (e.g. \"i\" and \"?\") */\n",
       "\n",
       "/* Common style for \"i\" and \"?\" */\n",
       "\n",
       ".sk-estimator-doc-link,\n",
       "a:link.sk-estimator-doc-link,\n",
       "a:visited.sk-estimator-doc-link {\n",
       "  float: right;\n",
       "  font-size: smaller;\n",
       "  line-height: 1em;\n",
       "  font-family: monospace;\n",
       "  background-color: var(--sklearn-color-background);\n",
       "  border-radius: 1em;\n",
       "  height: 1em;\n",
       "  width: 1em;\n",
       "  text-decoration: none !important;\n",
       "  margin-left: 1ex;\n",
       "  /* unfitted */\n",
       "  border: var(--sklearn-color-unfitted-level-1) 1pt solid;\n",
       "  color: var(--sklearn-color-unfitted-level-1);\n",
       "}\n",
       "\n",
       ".sk-estimator-doc-link.fitted,\n",
       "a:link.sk-estimator-doc-link.fitted,\n",
       "a:visited.sk-estimator-doc-link.fitted {\n",
       "  /* fitted */\n",
       "  border: var(--sklearn-color-fitted-level-1) 1pt solid;\n",
       "  color: var(--sklearn-color-fitted-level-1);\n",
       "}\n",
       "\n",
       "/* On hover */\n",
       "div.sk-estimator:hover .sk-estimator-doc-link:hover,\n",
       ".sk-estimator-doc-link:hover,\n",
       "div.sk-label-container:hover .sk-estimator-doc-link:hover,\n",
       ".sk-estimator-doc-link:hover {\n",
       "  /* unfitted */\n",
       "  background-color: var(--sklearn-color-unfitted-level-3);\n",
       "  color: var(--sklearn-color-background);\n",
       "  text-decoration: none;\n",
       "}\n",
       "\n",
       "div.sk-estimator.fitted:hover .sk-estimator-doc-link.fitted:hover,\n",
       ".sk-estimator-doc-link.fitted:hover,\n",
       "div.sk-label-container:hover .sk-estimator-doc-link.fitted:hover,\n",
       ".sk-estimator-doc-link.fitted:hover {\n",
       "  /* fitted */\n",
       "  background-color: var(--sklearn-color-fitted-level-3);\n",
       "  color: var(--sklearn-color-background);\n",
       "  text-decoration: none;\n",
       "}\n",
       "\n",
       "/* Span, style for the box shown on hovering the info icon */\n",
       ".sk-estimator-doc-link span {\n",
       "  display: none;\n",
       "  z-index: 9999;\n",
       "  position: relative;\n",
       "  font-weight: normal;\n",
       "  right: .2ex;\n",
       "  padding: .5ex;\n",
       "  margin: .5ex;\n",
       "  width: min-content;\n",
       "  min-width: 20ex;\n",
       "  max-width: 50ex;\n",
       "  color: var(--sklearn-color-text);\n",
       "  box-shadow: 2pt 2pt 4pt #999;\n",
       "  /* unfitted */\n",
       "  background: var(--sklearn-color-unfitted-level-0);\n",
       "  border: .5pt solid var(--sklearn-color-unfitted-level-3);\n",
       "}\n",
       "\n",
       ".sk-estimator-doc-link.fitted span {\n",
       "  /* fitted */\n",
       "  background: var(--sklearn-color-fitted-level-0);\n",
       "  border: var(--sklearn-color-fitted-level-3);\n",
       "}\n",
       "\n",
       ".sk-estimator-doc-link:hover span {\n",
       "  display: block;\n",
       "}\n",
       "\n",
       "/* \"?\"-specific style due to the `<a>` HTML tag */\n",
       "\n",
       "#sk-container-id-1 a.estimator_doc_link {\n",
       "  float: right;\n",
       "  font-size: 1rem;\n",
       "  line-height: 1em;\n",
       "  font-family: monospace;\n",
       "  background-color: var(--sklearn-color-background);\n",
       "  border-radius: 1rem;\n",
       "  height: 1rem;\n",
       "  width: 1rem;\n",
       "  text-decoration: none;\n",
       "  /* unfitted */\n",
       "  color: var(--sklearn-color-unfitted-level-1);\n",
       "  border: var(--sklearn-color-unfitted-level-1) 1pt solid;\n",
       "}\n",
       "\n",
       "#sk-container-id-1 a.estimator_doc_link.fitted {\n",
       "  /* fitted */\n",
       "  border: var(--sklearn-color-fitted-level-1) 1pt solid;\n",
       "  color: var(--sklearn-color-fitted-level-1);\n",
       "}\n",
       "\n",
       "/* On hover */\n",
       "#sk-container-id-1 a.estimator_doc_link:hover {\n",
       "  /* unfitted */\n",
       "  background-color: var(--sklearn-color-unfitted-level-3);\n",
       "  color: var(--sklearn-color-background);\n",
       "  text-decoration: none;\n",
       "}\n",
       "\n",
       "#sk-container-id-1 a.estimator_doc_link.fitted:hover {\n",
       "  /* fitted */\n",
       "  background-color: var(--sklearn-color-fitted-level-3);\n",
       "}\n",
       "</style><div id=\"sk-container-id-1\" class=\"sk-top-container\"><div class=\"sk-text-repr-fallback\"><pre>LogisticRegression()</pre><b>In a Jupyter environment, please rerun this cell to show the HTML representation or trust the notebook. <br />On GitHub, the HTML representation is unable to render, please try loading this page with nbviewer.org.</b></div><div class=\"sk-container\" hidden><div class=\"sk-item\"><div class=\"sk-estimator fitted sk-toggleable\"><input class=\"sk-toggleable__control sk-hidden--visually\" id=\"sk-estimator-id-1\" type=\"checkbox\" checked><label for=\"sk-estimator-id-1\" class=\"sk-toggleable__label fitted sk-toggleable__label-arrow fitted\">&nbsp;&nbsp;LogisticRegression<a class=\"sk-estimator-doc-link fitted\" rel=\"noreferrer\" target=\"_blank\" href=\"https://scikit-learn.org/1.5/modules/generated/sklearn.linear_model.LogisticRegression.html\">?<span>Documentation for LogisticRegression</span></a><span class=\"sk-estimator-doc-link fitted\">i<span>Fitted</span></span></label><div class=\"sk-toggleable__content fitted\"><pre>LogisticRegression()</pre></div> </div></div></div></div>"
      ],
      "text/plain": [
       "LogisticRegression()"
      ]
     },
     "execution_count": 33,
     "metadata": {},
     "output_type": "execute_result"
    }
   ],
   "source": [
    "from sklearn.linear_model import LogisticRegression \n",
    "model =LogisticRegression()\n",
    "model.fit(X, Y)"
   ]
  },
  {
   "cell_type": "code",
   "execution_count": 34,
   "id": "a6d4a79c-015b-4b0c-b916-fed821f16aad",
   "metadata": {},
   "outputs": [],
   "source": [
    "df[\"Y_pred\"] =model.predict(X)"
   ]
  },
  {
   "cell_type": "code",
   "execution_count": 35,
   "id": "76ac2bab-b28f-425b-a7a1-538e264c2623",
   "metadata": {},
   "outputs": [
    {
     "data": {
      "text/html": [
       "<div>\n",
       "<style scoped>\n",
       "    .dataframe tbody tr th:only-of-type {\n",
       "        vertical-align: middle;\n",
       "    }\n",
       "\n",
       "    .dataframe tbody tr th {\n",
       "        vertical-align: top;\n",
       "    }\n",
       "\n",
       "    .dataframe thead th {\n",
       "        text-align: right;\n",
       "    }\n",
       "</style>\n",
       "<table border=\"1\" class=\"dataframe\">\n",
       "  <thead>\n",
       "    <tr style=\"text-align: right;\">\n",
       "      <th></th>\n",
       "      <th>PassengerId</th>\n",
       "      <th>Survived</th>\n",
       "      <th>Pclass</th>\n",
       "      <th>Name</th>\n",
       "      <th>Sex</th>\n",
       "      <th>Age</th>\n",
       "      <th>SibSp</th>\n",
       "      <th>Parch</th>\n",
       "      <th>Ticket</th>\n",
       "      <th>Fare</th>\n",
       "      <th>Cabin</th>\n",
       "      <th>Embarked</th>\n",
       "      <th>Y_pred</th>\n",
       "    </tr>\n",
       "  </thead>\n",
       "  <tbody>\n",
       "    <tr>\n",
       "      <th>0</th>\n",
       "      <td>1</td>\n",
       "      <td>0</td>\n",
       "      <td>3</td>\n",
       "      <td>108</td>\n",
       "      <td>1</td>\n",
       "      <td>22.0</td>\n",
       "      <td>1</td>\n",
       "      <td>0</td>\n",
       "      <td>523</td>\n",
       "      <td>7.2500</td>\n",
       "      <td>147</td>\n",
       "      <td>2</td>\n",
       "      <td>0</td>\n",
       "    </tr>\n",
       "    <tr>\n",
       "      <th>1</th>\n",
       "      <td>2</td>\n",
       "      <td>1</td>\n",
       "      <td>1</td>\n",
       "      <td>190</td>\n",
       "      <td>0</td>\n",
       "      <td>38.0</td>\n",
       "      <td>1</td>\n",
       "      <td>0</td>\n",
       "      <td>596</td>\n",
       "      <td>71.2833</td>\n",
       "      <td>81</td>\n",
       "      <td>0</td>\n",
       "      <td>1</td>\n",
       "    </tr>\n",
       "    <tr>\n",
       "      <th>2</th>\n",
       "      <td>3</td>\n",
       "      <td>1</td>\n",
       "      <td>3</td>\n",
       "      <td>353</td>\n",
       "      <td>0</td>\n",
       "      <td>26.0</td>\n",
       "      <td>0</td>\n",
       "      <td>0</td>\n",
       "      <td>669</td>\n",
       "      <td>7.9250</td>\n",
       "      <td>147</td>\n",
       "      <td>2</td>\n",
       "      <td>1</td>\n",
       "    </tr>\n",
       "    <tr>\n",
       "      <th>3</th>\n",
       "      <td>4</td>\n",
       "      <td>1</td>\n",
       "      <td>1</td>\n",
       "      <td>272</td>\n",
       "      <td>0</td>\n",
       "      <td>35.0</td>\n",
       "      <td>1</td>\n",
       "      <td>0</td>\n",
       "      <td>49</td>\n",
       "      <td>53.1000</td>\n",
       "      <td>55</td>\n",
       "      <td>2</td>\n",
       "      <td>1</td>\n",
       "    </tr>\n",
       "    <tr>\n",
       "      <th>4</th>\n",
       "      <td>5</td>\n",
       "      <td>0</td>\n",
       "      <td>3</td>\n",
       "      <td>15</td>\n",
       "      <td>1</td>\n",
       "      <td>35.0</td>\n",
       "      <td>0</td>\n",
       "      <td>0</td>\n",
       "      <td>472</td>\n",
       "      <td>8.0500</td>\n",
       "      <td>147</td>\n",
       "      <td>2</td>\n",
       "      <td>0</td>\n",
       "    </tr>\n",
       "  </tbody>\n",
       "</table>\n",
       "</div>"
      ],
      "text/plain": [
       "   PassengerId  Survived  Pclass  Name  Sex   Age  SibSp  Parch  Ticket  \\\n",
       "0            1         0       3   108    1  22.0      1      0     523   \n",
       "1            2         1       1   190    0  38.0      1      0     596   \n",
       "2            3         1       3   353    0  26.0      0      0     669   \n",
       "3            4         1       1   272    0  35.0      1      0      49   \n",
       "4            5         0       3    15    1  35.0      0      0     472   \n",
       "\n",
       "      Fare  Cabin  Embarked  Y_pred  \n",
       "0   7.2500    147         2       0  \n",
       "1  71.2833     81         0       1  \n",
       "2   7.9250    147         2       1  \n",
       "3  53.1000     55         2       1  \n",
       "4   8.0500    147         2       0  "
      ]
     },
     "execution_count": 35,
     "metadata": {},
     "output_type": "execute_result"
    }
   ],
   "source": [
    "df.head()"
   ]
  },
  {
   "cell_type": "markdown",
   "id": "95ff567b-5351-47e3-ac35-a0c64b967d26",
   "metadata": {},
   "source": [
    "### 4. Model Evaluation"
   ]
  },
  {
   "cell_type": "code",
   "execution_count": 36,
   "id": "f972c1bf-45f7-4c5e-aa71-81c4a53955cb",
   "metadata": {},
   "outputs": [
    {
     "name": "stdout",
     "output_type": "stream",
     "text": [
      "accuracy score: 0.79\n",
      "precision score: 0.72\n",
      "recall score: 0.72\n",
      "F1 score: 0.72\n"
     ]
    }
   ],
   "source": [
    "from sklearn.metrics import accuracy_score, precision_score, recall_score, f1_score \n",
    "score =accuracy_score(Y, df[\"Y_pred\"])\n",
    "print(\"accuracy score:\", np.round(score, 2))\n",
    "\n",
    "ps=precision_score(Y, df[\"Y_pred\"])\n",
    "print(\"precision score:\", np.round(ps, 2))\n",
    "\n",
    "rs =recall_score(Y, df[\"Y_pred\"])\n",
    "print(\"recall score:\", np.round(rs, 2))\n",
    "\n",
    "f1s =f1_score(Y, df[\"Y_pred\"])\n",
    "print(\"F1 score:\", np.round(f1s, 2))"
   ]
  },
  {
   "cell_type": "code",
   "execution_count": 37,
   "id": "8d129d31-34fa-442d-8103-b0b9ef70ed1a",
   "metadata": {},
   "outputs": [
    {
     "name": "stdout",
     "output_type": "stream",
     "text": [
      "Area under curve: 0.774\n",
      "Area under curve: 77.404\n"
     ]
    }
   ],
   "source": [
    "from sklearn.metrics import roc_auc_score\n",
    "auc =roc_auc_score(Y, df[\"Y_pred\"])\n",
    "print(\"Area under curve:\",  np.round(auc, 3))\n",
    "print(\"Area under curve:\", (auc * 100).round(3))"
   ]
  },
  {
   "cell_type": "code",
   "execution_count": 38,
   "id": "0b8828cb-1020-4a11-ac17-4af6febfbe98",
   "metadata": {},
   "outputs": [
    {
     "data": {
      "image/png": "[encoded data removed]",
      "text/plain": [
       "<Figure size 640x480 with 1 Axes>"
      ]
     },
     "metadata": {},
     "output_type": "display_data"
    }
   ],
   "source": [
    "from sklearn.metrics import roc_curve \n",
    "\n",
    "fpr,tpr,dummy =roc_curve(Y, df[\"Y_pred\"])\n",
    "\n",
    "import matplotlib.pyplot as plt \n",
    "plt.scatter(x =fpr, y =tpr)\n",
    "plt.plot(fpr,tpr, color =\"red\")\n",
    "plt.ylabel(\"True Positive Rate\")\n",
    "plt.xlabel(\"False Positive Rate\")\n",
    "plt.show()"
   ]
  },
  {
   "cell_type": "markdown",
   "id": "99c07ce1-209c-4ced-81f6-0e96b1c61120",
   "metadata": {},
   "source": [
    "### 5. Interpretation"
   ]
  },
  {
   "cell_type": "code",
   "execution_count": 39,
   "id": "9086e1c7-92f0-4107-943b-47aa0a33a3b7",
   "metadata": {},
   "outputs": [
    {
     "data": {
      "text/plain": [
       "array([2.90608822])"
      ]
     },
     "execution_count": 39,
     "metadata": {},
     "output_type": "execute_result"
    }
   ],
   "source": [
    "model.intercept_"
   ]
  },
  {
   "cell_type": "code",
   "execution_count": 40,
   "id": "867125e9-f872-4b07-b288-0b543d6cf5a6",
   "metadata": {},
   "outputs": [
    {
     "data": {
      "text/html": [
       "<div>\n",
       "<style scoped>\n",
       "    .dataframe tbody tr th:only-of-type {\n",
       "        vertical-align: middle;\n",
       "    }\n",
       "\n",
       "    .dataframe tbody tr th {\n",
       "        vertical-align: top;\n",
       "    }\n",
       "\n",
       "    .dataframe thead th {\n",
       "        text-align: right;\n",
       "    }\n",
       "</style>\n",
       "<table border=\"1\" class=\"dataframe\">\n",
       "  <thead>\n",
       "    <tr style=\"text-align: right;\">\n",
       "      <th></th>\n",
       "      <th>PassengerId</th>\n",
       "      <th>Survived</th>\n",
       "      <th>Pclass</th>\n",
       "      <th>Name</th>\n",
       "      <th>Sex</th>\n",
       "      <th>Age</th>\n",
       "      <th>SibSp</th>\n",
       "      <th>Parch</th>\n",
       "      <th>Ticket</th>\n",
       "      <th>Fare</th>\n",
       "      <th>Cabin</th>\n",
       "      <th>Embarked</th>\n",
       "      <th>Y_pred</th>\n",
       "    </tr>\n",
       "  </thead>\n",
       "  <tbody>\n",
       "    <tr>\n",
       "      <th>PassengerId</th>\n",
       "      <td>1.000000</td>\n",
       "      <td>-0.005007</td>\n",
       "      <td>-0.035144</td>\n",
       "      <td>-0.038559</td>\n",
       "      <td>0.042939</td>\n",
       "      <td>0.034212</td>\n",
       "      <td>-0.057527</td>\n",
       "      <td>-0.001652</td>\n",
       "      <td>-0.056554</td>\n",
       "      <td>0.012658</td>\n",
       "      <td>-0.035077</td>\n",
       "      <td>0.013083</td>\n",
       "      <td>-0.040915</td>\n",
       "    </tr>\n",
       "    <tr>\n",
       "      <th>Survived</th>\n",
       "      <td>-0.005007</td>\n",
       "      <td>1.000000</td>\n",
       "      <td>-0.338481</td>\n",
       "      <td>-0.057343</td>\n",
       "      <td>-0.543351</td>\n",
       "      <td>-0.064910</td>\n",
       "      <td>-0.035322</td>\n",
       "      <td>0.081629</td>\n",
       "      <td>-0.164549</td>\n",
       "      <td>0.257307</td>\n",
       "      <td>-0.254888</td>\n",
       "      <td>-0.163517</td>\n",
       "      <td>0.548689</td>\n",
       "    </tr>\n",
       "    <tr>\n",
       "      <th>Pclass</th>\n",
       "      <td>-0.035144</td>\n",
       "      <td>-0.338481</td>\n",
       "      <td>1.000000</td>\n",
       "      <td>0.052831</td>\n",
       "      <td>0.131900</td>\n",
       "      <td>-0.339898</td>\n",
       "      <td>0.083081</td>\n",
       "      <td>0.018443</td>\n",
       "      <td>0.319869</td>\n",
       "      <td>-0.549500</td>\n",
       "      <td>0.684121</td>\n",
       "      <td>0.157112</td>\n",
       "      <td>-0.223789</td>\n",
       "    </tr>\n",
       "    <tr>\n",
       "      <th>Name</th>\n",
       "      <td>-0.038559</td>\n",
       "      <td>-0.057343</td>\n",
       "      <td>0.052831</td>\n",
       "      <td>1.000000</td>\n",
       "      <td>0.020314</td>\n",
       "      <td>0.048252</td>\n",
       "      <td>-0.017230</td>\n",
       "      <td>-0.049105</td>\n",
       "      <td>0.047348</td>\n",
       "      <td>-0.049173</td>\n",
       "      <td>0.061959</td>\n",
       "      <td>-0.004557</td>\n",
       "      <td>-0.027451</td>\n",
       "    </tr>\n",
       "    <tr>\n",
       "      <th>Sex</th>\n",
       "      <td>0.042939</td>\n",
       "      <td>-0.543351</td>\n",
       "      <td>0.131900</td>\n",
       "      <td>0.020314</td>\n",
       "      <td>1.000000</td>\n",
       "      <td>0.081163</td>\n",
       "      <td>-0.114631</td>\n",
       "      <td>-0.245489</td>\n",
       "      <td>0.059372</td>\n",
       "      <td>-0.182333</td>\n",
       "      <td>0.096681</td>\n",
       "      <td>0.104057</td>\n",
       "      <td>-0.939103</td>\n",
       "    </tr>\n",
       "    <tr>\n",
       "      <th>Age</th>\n",
       "      <td>0.034212</td>\n",
       "      <td>-0.064910</td>\n",
       "      <td>-0.339898</td>\n",
       "      <td>0.048252</td>\n",
       "      <td>0.081163</td>\n",
       "      <td>1.000000</td>\n",
       "      <td>-0.233296</td>\n",
       "      <td>-0.172482</td>\n",
       "      <td>-0.070382</td>\n",
       "      <td>0.096688</td>\n",
       "      <td>-0.240839</td>\n",
       "      <td>-0.014205</td>\n",
       "      <td>-0.049185</td>\n",
       "    </tr>\n",
       "    <tr>\n",
       "      <th>SibSp</th>\n",
       "      <td>-0.057527</td>\n",
       "      <td>-0.035322</td>\n",
       "      <td>0.083081</td>\n",
       "      <td>-0.017230</td>\n",
       "      <td>-0.114631</td>\n",
       "      <td>-0.233296</td>\n",
       "      <td>1.000000</td>\n",
       "      <td>0.414838</td>\n",
       "      <td>0.079461</td>\n",
       "      <td>0.159651</td>\n",
       "      <td>0.043593</td>\n",
       "      <td>0.066654</td>\n",
       "      <td>0.107283</td>\n",
       "    </tr>\n",
       "    <tr>\n",
       "      <th>Parch</th>\n",
       "      <td>-0.001652</td>\n",
       "      <td>0.081629</td>\n",
       "      <td>0.018443</td>\n",
       "      <td>-0.049105</td>\n",
       "      <td>-0.245489</td>\n",
       "      <td>-0.172482</td>\n",
       "      <td>0.414838</td>\n",
       "      <td>1.000000</td>\n",
       "      <td>0.020003</td>\n",
       "      <td>0.216225</td>\n",
       "      <td>-0.028324</td>\n",
       "      <td>0.038322</td>\n",
       "      <td>0.273190</td>\n",
       "    </tr>\n",
       "    <tr>\n",
       "      <th>Ticket</th>\n",
       "      <td>-0.056554</td>\n",
       "      <td>-0.164549</td>\n",
       "      <td>0.319869</td>\n",
       "      <td>0.047348</td>\n",
       "      <td>0.059372</td>\n",
       "      <td>-0.070382</td>\n",
       "      <td>0.079461</td>\n",
       "      <td>0.020003</td>\n",
       "      <td>1.000000</td>\n",
       "      <td>-0.013885</td>\n",
       "      <td>0.243696</td>\n",
       "      <td>-0.006041</td>\n",
       "      <td>-0.125128</td>\n",
       "    </tr>\n",
       "    <tr>\n",
       "      <th>Fare</th>\n",
       "      <td>0.012658</td>\n",
       "      <td>0.257307</td>\n",
       "      <td>-0.549500</td>\n",
       "      <td>-0.049173</td>\n",
       "      <td>-0.182333</td>\n",
       "      <td>0.096688</td>\n",
       "      <td>0.159651</td>\n",
       "      <td>0.216225</td>\n",
       "      <td>-0.013885</td>\n",
       "      <td>1.000000</td>\n",
       "      <td>-0.503355</td>\n",
       "      <td>-0.221226</td>\n",
       "      <td>0.295156</td>\n",
       "    </tr>\n",
       "    <tr>\n",
       "      <th>Cabin</th>\n",
       "      <td>-0.035077</td>\n",
       "      <td>-0.254888</td>\n",
       "      <td>0.684121</td>\n",
       "      <td>0.061959</td>\n",
       "      <td>0.096681</td>\n",
       "      <td>-0.240839</td>\n",
       "      <td>0.043593</td>\n",
       "      <td>-0.028324</td>\n",
       "      <td>0.243696</td>\n",
       "      <td>-0.503355</td>\n",
       "      <td>1.000000</td>\n",
       "      <td>0.193205</td>\n",
       "      <td>-0.250328</td>\n",
       "    </tr>\n",
       "    <tr>\n",
       "      <th>Embarked</th>\n",
       "      <td>0.013083</td>\n",
       "      <td>-0.163517</td>\n",
       "      <td>0.157112</td>\n",
       "      <td>-0.004557</td>\n",
       "      <td>0.104057</td>\n",
       "      <td>-0.014205</td>\n",
       "      <td>0.066654</td>\n",
       "      <td>0.038322</td>\n",
       "      <td>-0.006041</td>\n",
       "      <td>-0.221226</td>\n",
       "      <td>0.193205</td>\n",
       "      <td>1.000000</td>\n",
       "      <td>-0.172205</td>\n",
       "    </tr>\n",
       "    <tr>\n",
       "      <th>Y_pred</th>\n",
       "      <td>-0.040915</td>\n",
       "      <td>0.548689</td>\n",
       "      <td>-0.223789</td>\n",
       "      <td>-0.027451</td>\n",
       "      <td>-0.939103</td>\n",
       "      <td>-0.049185</td>\n",
       "      <td>0.107283</td>\n",
       "      <td>0.273190</td>\n",
       "      <td>-0.125128</td>\n",
       "      <td>0.295156</td>\n",
       "      <td>-0.250328</td>\n",
       "      <td>-0.172205</td>\n",
       "      <td>1.000000</td>\n",
       "    </tr>\n",
       "  </tbody>\n",
       "</table>\n",
       "</div>"
      ],
      "text/plain": [
       "             PassengerId  Survived    Pclass      Name       Sex       Age  \\\n",
       "PassengerId     1.000000 -0.005007 -0.035144 -0.038559  0.042939  0.034212   \n",
       "Survived       -0.005007  1.000000 -0.338481 -0.057343 -0.543351 -0.064910   \n",
       "Pclass         -0.035144 -0.338481  1.000000  0.052831  0.131900 -0.339898   \n",
       "Name           -0.038559 -0.057343  0.052831  1.000000  0.020314  0.048252   \n",
       "Sex             0.042939 -0.543351  0.131900  0.020314  1.000000  0.081163   \n",
       "Age             0.034212 -0.064910 -0.339898  0.048252  0.081163  1.000000   \n",
       "SibSp          -0.057527 -0.035322  0.083081 -0.017230 -0.114631 -0.233296   \n",
       "Parch          -0.001652  0.081629  0.018443 -0.049105 -0.245489 -0.172482   \n",
       "Ticket         -0.056554 -0.164549  0.319869  0.047348  0.059372 -0.070382   \n",
       "Fare            0.012658  0.257307 -0.549500 -0.049173 -0.182333  0.096688   \n",
       "Cabin          -0.035077 -0.254888  0.684121  0.061959  0.096681 -0.240839   \n",
       "Embarked        0.013083 -0.163517  0.157112 -0.004557  0.104057 -0.014205   \n",
       "Y_pred         -0.040915  0.548689 -0.223789 -0.027451 -0.939103 -0.049185   \n",
       "\n",
       "                SibSp     Parch    Ticket      Fare     Cabin  Embarked  \\\n",
       "PassengerId -0.057527 -0.001652 -0.056554  0.012658 -0.035077  0.013083   \n",
       "Survived    -0.035322  0.081629 -0.164549  0.257307 -0.254888 -0.163517   \n",
       "Pclass       0.083081  0.018443  0.319869 -0.549500  0.684121  0.157112   \n",
       "Name        -0.017230 -0.049105  0.047348 -0.049173  0.061959 -0.004557   \n",
       "Sex         -0.114631 -0.245489  0.059372 -0.182333  0.096681  0.104057   \n",
       "Age         -0.233296 -0.172482 -0.070382  0.096688 -0.240839 -0.014205   \n",
       "SibSp        1.000000  0.414838  0.079461  0.159651  0.043593  0.066654   \n",
       "Parch        0.414838  1.000000  0.020003  0.216225 -0.028324  0.038322   \n",
       "Ticket       0.079461  0.020003  1.000000 -0.013885  0.243696 -0.006041   \n",
       "Fare         0.159651  0.216225 -0.013885  1.000000 -0.503355 -0.221226   \n",
       "Cabin        0.043593 -0.028324  0.243696 -0.503355  1.000000  0.193205   \n",
       "Embarked     0.066654  0.038322 -0.006041 -0.221226  0.193205  1.000000   \n",
       "Y_pred       0.107283  0.273190 -0.125128  0.295156 -0.250328 -0.172205   \n",
       "\n",
       "               Y_pred  \n",
       "PassengerId -0.040915  \n",
       "Survived     0.548689  \n",
       "Pclass      -0.223789  \n",
       "Name        -0.027451  \n",
       "Sex         -0.939103  \n",
       "Age         -0.049185  \n",
       "SibSp        0.107283  \n",
       "Parch        0.273190  \n",
       "Ticket      -0.125128  \n",
       "Fare         0.295156  \n",
       "Cabin       -0.250328  \n",
       "Embarked    -0.172205  \n",
       "Y_pred       1.000000  "
      ]
     },
     "execution_count": 40,
     "metadata": {},
     "output_type": "execute_result"
    }
   ],
   "source": [
    "df.corr()"
   ]
  },
  {
   "cell_type": "markdown",
   "id": "1cd3adae-9d8e-4d2d-8702-9f2e909cc951",
   "metadata": {},
   "source": [
    "### 6. Deployment with Streamlit:"
   ]
  },
  {
   "cell_type": "code",
   "execution_count": 41,
   "id": "930c58b1-cf58-4852-8bd9-f1acdd3c0ca6",
   "metadata": {},
   "outputs": [
    {
     "data": {
      "text/plain": [
       "['model.pkl']"
      ]
     },
     "execution_count": 41,
     "metadata": {},
     "output_type": "execute_result"
    }
   ],
   "source": [
    "from sklearn.linear_model import LogisticRegression\n",
    "import joblib\n",
    "\n",
    "clf = LogisticRegression(max_iter=1000)\n",
    "clf.fit(X,Y)\n",
    "\n",
    "joblib.dump(clf, \"model.pkl\")     # <-- THIS is the file you must commit / upload\n"
   ]
  },
  {
   "cell_type": "code",
   "execution_count": 42,
   "id": "51742b42-0233-4787-89c3-002edd4a9cdb",
   "metadata": {},
   "outputs": [
    {
     "data": {
      "text/plain": [
       "sklearn.linear_model._logistic.LogisticRegression"
      ]
     },
     "execution_count": 42,
     "metadata": {},
     "output_type": "execute_result"
    }
   ],
   "source": [
    " type(clf)"
   ]
  },
  {
   "cell_type": "code",
   "execution_count": 43,
   "id": "4efc78b4-3319-44ce-9c9a-b2db8e89b938",
   "metadata": {},
   "outputs": [
    {
     "data": {
      "text/plain": [
       "['model.pkl']"
      ]
     },
     "execution_count": 43,
     "metadata": {},
     "output_type": "execute_result"
    }
   ],
   "source": [
    "import joblib\n",
    "joblib.dump(model, 'model.pkl')"
   ]
  },
  {
   "cell_type": "markdown",
   "id": "d75c706c-98d1-428c-8638-be34056cec57",
   "metadata": {},
   "source": [
    "### github"
   ]
  },
  {
   "cell_type": "code",
   "execution_count": null,
   "id": "41865ae2-842b-4da7-9087-58923caa524f",
   "metadata": {},
   "outputs": [],
   "source": [
    "https://github.com/Anuragvarma77/Logistic-Regression"
   ]
  },
  {
   "cell_type": "markdown",
   "id": "bb2e8d0f-78ef-4aa1-99ab-35b4454f417e",
   "metadata": {},
   "source": [
    "### Streamlitlib"
   ]
  },
  {
   "cell_type": "code",
   "execution_count": null,
   "id": "d716e949-2371-485c-bbb1-60b1995497f4",
   "metadata": {},
   "outputs": [],
   "source": [
    "https://logistic-regression-tvqc8hrktxfwtksptahsqy.streamlit.app/"
   ]
  },
  {
   "cell_type": "markdown",
   "id": "7f1dd81f-9026-4ecc-a079-ed2f270aef79",
   "metadata": {},
   "source": [
    "### Test Data"
   ]
  },
  {
   "cell_type": "markdown",
   "id": "5aae9c68-a697-4507-8cdb-ce9ba351eb70",
   "metadata": {},
   "source": [
    "### 1. Data Exploration"
   ]
  },
  {
   "cell_type": "code",
   "execution_count": 44,
   "id": "580d7b99-7db8-48f0-895e-22b60f536ccb",
   "metadata": {},
   "outputs": [
    {
     "data": {
      "text/html": [
       "<div>\n",
       "<style scoped>\n",
       "    .dataframe tbody tr th:only-of-type {\n",
       "        vertical-align: middle;\n",
       "    }\n",
       "\n",
       "    .dataframe tbody tr th {\n",
       "        vertical-align: top;\n",
       "    }\n",
       "\n",
       "    .dataframe thead th {\n",
       "        text-align: right;\n",
       "    }\n",
       "</style>\n",
       "<table border=\"1\" class=\"dataframe\">\n",
       "  <thead>\n",
       "    <tr style=\"text-align: right;\">\n",
       "      <th></th>\n",
       "      <th>PassengerId</th>\n",
       "      <th>Pclass</th>\n",
       "      <th>Name</th>\n",
       "      <th>Sex</th>\n",
       "      <th>Age</th>\n",
       "      <th>SibSp</th>\n",
       "      <th>Parch</th>\n",
       "      <th>Ticket</th>\n",
       "      <th>Fare</th>\n",
       "      <th>Cabin</th>\n",
       "      <th>Embarked</th>\n",
       "    </tr>\n",
       "  </thead>\n",
       "  <tbody>\n",
       "    <tr>\n",
       "      <th>0</th>\n",
       "      <td>892</td>\n",
       "      <td>3</td>\n",
       "      <td>Kelly, Mr. James</td>\n",
       "      <td>male</td>\n",
       "      <td>34.5</td>\n",
       "      <td>0</td>\n",
       "      <td>0</td>\n",
       "      <td>330911</td>\n",
       "      <td>7.8292</td>\n",
       "      <td>NaN</td>\n",
       "      <td>Q</td>\n",
       "    </tr>\n",
       "    <tr>\n",
       "      <th>1</th>\n",
       "      <td>893</td>\n",
       "      <td>3</td>\n",
       "      <td>Wilkes, Mrs. James (Ellen Needs)</td>\n",
       "      <td>female</td>\n",
       "      <td>47.0</td>\n",
       "      <td>1</td>\n",
       "      <td>0</td>\n",
       "      <td>363272</td>\n",
       "      <td>7.0000</td>\n",
       "      <td>NaN</td>\n",
       "      <td>S</td>\n",
       "    </tr>\n",
       "    <tr>\n",
       "      <th>2</th>\n",
       "      <td>894</td>\n",
       "      <td>2</td>\n",
       "      <td>Myles, Mr. Thomas Francis</td>\n",
       "      <td>male</td>\n",
       "      <td>62.0</td>\n",
       "      <td>0</td>\n",
       "      <td>0</td>\n",
       "      <td>240276</td>\n",
       "      <td>9.6875</td>\n",
       "      <td>NaN</td>\n",
       "      <td>Q</td>\n",
       "    </tr>\n",
       "    <tr>\n",
       "      <th>3</th>\n",
       "      <td>895</td>\n",
       "      <td>3</td>\n",
       "      <td>Wirz, Mr. Albert</td>\n",
       "      <td>male</td>\n",
       "      <td>27.0</td>\n",
       "      <td>0</td>\n",
       "      <td>0</td>\n",
       "      <td>315154</td>\n",
       "      <td>8.6625</td>\n",
       "      <td>NaN</td>\n",
       "      <td>S</td>\n",
       "    </tr>\n",
       "    <tr>\n",
       "      <th>4</th>\n",
       "      <td>896</td>\n",
       "      <td>3</td>\n",
       "      <td>Hirvonen, Mrs. Alexander (Helga E Lindqvist)</td>\n",
       "      <td>female</td>\n",
       "      <td>22.0</td>\n",
       "      <td>1</td>\n",
       "      <td>1</td>\n",
       "      <td>3101298</td>\n",
       "      <td>12.2875</td>\n",
       "      <td>NaN</td>\n",
       "      <td>S</td>\n",
       "    </tr>\n",
       "    <tr>\n",
       "      <th>...</th>\n",
       "      <td>...</td>\n",
       "      <td>...</td>\n",
       "      <td>...</td>\n",
       "      <td>...</td>\n",
       "      <td>...</td>\n",
       "      <td>...</td>\n",
       "      <td>...</td>\n",
       "      <td>...</td>\n",
       "      <td>...</td>\n",
       "      <td>...</td>\n",
       "      <td>...</td>\n",
       "    </tr>\n",
       "    <tr>\n",
       "      <th>413</th>\n",
       "      <td>1305</td>\n",
       "      <td>3</td>\n",
       "      <td>Spector, Mr. Woolf</td>\n",
       "      <td>male</td>\n",
       "      <td>NaN</td>\n",
       "      <td>0</td>\n",
       "      <td>0</td>\n",
       "      <td>A.5. 3236</td>\n",
       "      <td>8.0500</td>\n",
       "      <td>NaN</td>\n",
       "      <td>S</td>\n",
       "    </tr>\n",
       "    <tr>\n",
       "      <th>414</th>\n",
       "      <td>1306</td>\n",
       "      <td>1</td>\n",
       "      <td>Oliva y Ocana, Dona. Fermina</td>\n",
       "      <td>female</td>\n",
       "      <td>39.0</td>\n",
       "      <td>0</td>\n",
       "      <td>0</td>\n",
       "      <td>PC 17758</td>\n",
       "      <td>108.9000</td>\n",
       "      <td>C105</td>\n",
       "      <td>C</td>\n",
       "    </tr>\n",
       "    <tr>\n",
       "      <th>415</th>\n",
       "      <td>1307</td>\n",
       "      <td>3</td>\n",
       "      <td>Saether, Mr. Simon Sivertsen</td>\n",
       "      <td>male</td>\n",
       "      <td>38.5</td>\n",
       "      <td>0</td>\n",
       "      <td>0</td>\n",
       "      <td>SOTON/O.Q. 3101262</td>\n",
       "      <td>7.2500</td>\n",
       "      <td>NaN</td>\n",
       "      <td>S</td>\n",
       "    </tr>\n",
       "    <tr>\n",
       "      <th>416</th>\n",
       "      <td>1308</td>\n",
       "      <td>3</td>\n",
       "      <td>Ware, Mr. Frederick</td>\n",
       "      <td>male</td>\n",
       "      <td>NaN</td>\n",
       "      <td>0</td>\n",
       "      <td>0</td>\n",
       "      <td>359309</td>\n",
       "      <td>8.0500</td>\n",
       "      <td>NaN</td>\n",
       "      <td>S</td>\n",
       "    </tr>\n",
       "    <tr>\n",
       "      <th>417</th>\n",
       "      <td>1309</td>\n",
       "      <td>3</td>\n",
       "      <td>Peter, Master. Michael J</td>\n",
       "      <td>male</td>\n",
       "      <td>NaN</td>\n",
       "      <td>1</td>\n",
       "      <td>1</td>\n",
       "      <td>2668</td>\n",
       "      <td>22.3583</td>\n",
       "      <td>NaN</td>\n",
       "      <td>C</td>\n",
       "    </tr>\n",
       "  </tbody>\n",
       "</table>\n",
       "<p>418 rows × 11 columns</p>\n",
       "</div>"
      ],
      "text/plain": [
       "     PassengerId  Pclass                                          Name  \\\n",
       "0            892       3                              Kelly, Mr. James   \n",
       "1            893       3              Wilkes, Mrs. James (Ellen Needs)   \n",
       "2            894       2                     Myles, Mr. Thomas Francis   \n",
       "3            895       3                              Wirz, Mr. Albert   \n",
       "4            896       3  Hirvonen, Mrs. Alexander (Helga E Lindqvist)   \n",
       "..           ...     ...                                           ...   \n",
       "413         1305       3                            Spector, Mr. Woolf   \n",
       "414         1306       1                  Oliva y Ocana, Dona. Fermina   \n",
       "415         1307       3                  Saether, Mr. Simon Sivertsen   \n",
       "416         1308       3                           Ware, Mr. Frederick   \n",
       "417         1309       3                      Peter, Master. Michael J   \n",
       "\n",
       "        Sex   Age  SibSp  Parch              Ticket      Fare Cabin Embarked  \n",
       "0      male  34.5      0      0              330911    7.8292   NaN        Q  \n",
       "1    female  47.0      1      0              363272    7.0000   NaN        S  \n",
       "2      male  62.0      0      0              240276    9.6875   NaN        Q  \n",
       "3      male  27.0      0      0              315154    8.6625   NaN        S  \n",
       "4    female  22.0      1      1             3101298   12.2875   NaN        S  \n",
       "..      ...   ...    ...    ...                 ...       ...   ...      ...  \n",
       "413    male   NaN      0      0           A.5. 3236    8.0500   NaN        S  \n",
       "414  female  39.0      0      0            PC 17758  108.9000  C105        C  \n",
       "415    male  38.5      0      0  SOTON/O.Q. 3101262    7.2500   NaN        S  \n",
       "416    male   NaN      0      0              359309    8.0500   NaN        S  \n",
       "417    male   NaN      1      1                2668   22.3583   NaN        C  \n",
       "\n",
       "[418 rows x 11 columns]"
      ]
     },
     "execution_count": 44,
     "metadata": {},
     "output_type": "execute_result"
    }
   ],
   "source": [
    "import numpy as np\n",
    "import pandas as pd \n",
    "df =pd.read_csv(r\"C:\\Users\\anura\\Desktop\\d\\Logistic Regression\\Logistic Regression\\Titanic_test.csv\")\n",
    "df"
   ]
  },
  {
   "cell_type": "code",
   "execution_count": 45,
   "id": "b11c9747-7483-4ba1-8eff-7bcc7c515a96",
   "metadata": {},
   "outputs": [
    {
     "data": {
      "text/plain": [
       "(418, 11)"
      ]
     },
     "execution_count": 45,
     "metadata": {},
     "output_type": "execute_result"
    }
   ],
   "source": [
    "df.shape"
   ]
  },
  {
   "cell_type": "code",
   "execution_count": 46,
   "id": "6a7eff4c-b512-4638-af5a-f95667970bc2",
   "metadata": {},
   "outputs": [
    {
     "name": "stdout",
     "output_type": "stream",
     "text": [
      "<class 'pandas.core.frame.DataFrame'>\n",
      "RangeIndex: 418 entries, 0 to 417\n",
      "Data columns (total 11 columns):\n",
      " #   Column       Non-Null Count  Dtype  \n",
      "---  ------       --------------  -----  \n",
      " 0   PassengerId  418 non-null    int64  \n",
      " 1   Pclass       418 non-null    int64  \n",
      " 2   Name         418 non-null    object \n",
      " 3   Sex          418 non-null    object \n",
      " 4   Age          332 non-null    float64\n",
      " 5   SibSp        418 non-null    int64  \n",
      " 6   Parch        418 non-null    int64  \n",
      " 7   Ticket       418 non-null    object \n",
      " 8   Fare         417 non-null    float64\n",
      " 9   Cabin        91 non-null     object \n",
      " 10  Embarked     418 non-null    object \n",
      "dtypes: float64(2), int64(4), object(5)\n",
      "memory usage: 36.1+ KB\n"
     ]
    }
   ],
   "source": [
    "df.info()"
   ]
  },
  {
   "cell_type": "code",
   "execution_count": 47,
   "id": "f79c830a-1eec-43f4-8b88-43157b8d1287",
   "metadata": {},
   "outputs": [
    {
     "data": {
      "text/plain": [
       "Index(['PassengerId', 'Pclass', 'Age', 'SibSp', 'Parch', 'Fare'], dtype='object')"
      ]
     },
     "execution_count": 47,
     "metadata": {},
     "output_type": "execute_result"
    }
   ],
   "source": [
    "numerical_col =df.select_dtypes(include =['int64','float64']).columns\n",
    "numerical_col"
   ]
  },
  {
   "cell_type": "code",
   "execution_count": 48,
   "id": "4d703635-ce0e-4892-970a-73f92cf5736d",
   "metadata": {},
   "outputs": [
    {
     "data": {
      "text/plain": [
       "Index(['Name', 'Sex', 'Ticket', 'Cabin', 'Embarked'], dtype='object')"
      ]
     },
     "execution_count": 48,
     "metadata": {},
     "output_type": "execute_result"
    }
   ],
   "source": [
    "categorical_col =df.select_dtypes(include =[\"object\"]).columns\n",
    "categorical_col"
   ]
  },
  {
   "cell_type": "code",
   "execution_count": 49,
   "id": "727753a8-928f-4cd2-81f4-eb4aac325252",
   "metadata": {},
   "outputs": [
    {
     "data": {
      "text/html": [
       "<div>\n",
       "<style scoped>\n",
       "    .dataframe tbody tr th:only-of-type {\n",
       "        vertical-align: middle;\n",
       "    }\n",
       "\n",
       "    .dataframe tbody tr th {\n",
       "        vertical-align: top;\n",
       "    }\n",
       "\n",
       "    .dataframe thead th {\n",
       "        text-align: right;\n",
       "    }\n",
       "</style>\n",
       "<table border=\"1\" class=\"dataframe\">\n",
       "  <thead>\n",
       "    <tr style=\"text-align: right;\">\n",
       "      <th></th>\n",
       "      <th>PassengerId</th>\n",
       "      <th>Pclass</th>\n",
       "      <th>Age</th>\n",
       "      <th>SibSp</th>\n",
       "      <th>Parch</th>\n",
       "      <th>Fare</th>\n",
       "    </tr>\n",
       "  </thead>\n",
       "  <tbody>\n",
       "    <tr>\n",
       "      <th>count</th>\n",
       "      <td>418.000000</td>\n",
       "      <td>418.000000</td>\n",
       "      <td>332.000000</td>\n",
       "      <td>418.000000</td>\n",
       "      <td>418.000000</td>\n",
       "      <td>417.000000</td>\n",
       "    </tr>\n",
       "    <tr>\n",
       "      <th>mean</th>\n",
       "      <td>1100.500000</td>\n",
       "      <td>2.265550</td>\n",
       "      <td>30.272590</td>\n",
       "      <td>0.447368</td>\n",
       "      <td>0.392344</td>\n",
       "      <td>35.627188</td>\n",
       "    </tr>\n",
       "    <tr>\n",
       "      <th>std</th>\n",
       "      <td>120.810458</td>\n",
       "      <td>0.841838</td>\n",
       "      <td>14.181209</td>\n",
       "      <td>0.896760</td>\n",
       "      <td>0.981429</td>\n",
       "      <td>55.907576</td>\n",
       "    </tr>\n",
       "    <tr>\n",
       "      <th>min</th>\n",
       "      <td>892.000000</td>\n",
       "      <td>1.000000</td>\n",
       "      <td>0.170000</td>\n",
       "      <td>0.000000</td>\n",
       "      <td>0.000000</td>\n",
       "      <td>0.000000</td>\n",
       "    </tr>\n",
       "    <tr>\n",
       "      <th>25%</th>\n",
       "      <td>996.250000</td>\n",
       "      <td>1.000000</td>\n",
       "      <td>21.000000</td>\n",
       "      <td>0.000000</td>\n",
       "      <td>0.000000</td>\n",
       "      <td>7.895800</td>\n",
       "    </tr>\n",
       "    <tr>\n",
       "      <th>50%</th>\n",
       "      <td>1100.500000</td>\n",
       "      <td>3.000000</td>\n",
       "      <td>27.000000</td>\n",
       "      <td>0.000000</td>\n",
       "      <td>0.000000</td>\n",
       "      <td>14.454200</td>\n",
       "    </tr>\n",
       "    <tr>\n",
       "      <th>75%</th>\n",
       "      <td>1204.750000</td>\n",
       "      <td>3.000000</td>\n",
       "      <td>39.000000</td>\n",
       "      <td>1.000000</td>\n",
       "      <td>0.000000</td>\n",
       "      <td>31.500000</td>\n",
       "    </tr>\n",
       "    <tr>\n",
       "      <th>max</th>\n",
       "      <td>1309.000000</td>\n",
       "      <td>3.000000</td>\n",
       "      <td>76.000000</td>\n",
       "      <td>8.000000</td>\n",
       "      <td>9.000000</td>\n",
       "      <td>512.329200</td>\n",
       "    </tr>\n",
       "  </tbody>\n",
       "</table>\n",
       "</div>"
      ],
      "text/plain": [
       "       PassengerId      Pclass         Age       SibSp       Parch        Fare\n",
       "count   418.000000  418.000000  332.000000  418.000000  418.000000  417.000000\n",
       "mean   1100.500000    2.265550   30.272590    0.447368    0.392344   35.627188\n",
       "std     120.810458    0.841838   14.181209    0.896760    0.981429   55.907576\n",
       "min     892.000000    1.000000    0.170000    0.000000    0.000000    0.000000\n",
       "25%     996.250000    1.000000   21.000000    0.000000    0.000000    7.895800\n",
       "50%    1100.500000    3.000000   27.000000    0.000000    0.000000   14.454200\n",
       "75%    1204.750000    3.000000   39.000000    1.000000    0.000000   31.500000\n",
       "max    1309.000000    3.000000   76.000000    8.000000    9.000000  512.329200"
      ]
     },
     "execution_count": 49,
     "metadata": {},
     "output_type": "execute_result"
    }
   ],
   "source": [
    "df.describe()"
   ]
  },
  {
   "cell_type": "markdown",
   "id": "a88d6293-280b-40bb-aa51-e436a6477252",
   "metadata": {},
   "source": [
    "### Histograms"
   ]
  },
  {
   "cell_type": "code",
   "execution_count": 50,
   "id": "047a3549-1922-4fe8-9d49-0fb23bee09df",
   "metadata": {},
   "outputs": [
    {
     "name": "stdout",
     "output_type": "stream",
     "text": [
      "0      3\n",
      "1      3\n",
      "2      2\n",
      "3      3\n",
      "4      3\n",
      "      ..\n",
      "413    3\n",
      "414    1\n",
      "415    3\n",
      "416    3\n",
      "417    3\n",
      "Name: Pclass, Length: 418, dtype: int64\n"
     ]
    },
    {
     "data": {
      "text/plain": [
       "<Axes: >"
      ]
     },
     "execution_count": 50,
     "metadata": {},
     "output_type": "execute_result"
    },
    {
     "data": {
      "image/png": "[encoded data removed]",
      "text/plain": [
       "<Figure size 640x480 with 1 Axes>"
      ]
     },
     "metadata": {},
     "output_type": "display_data"
    }
   ],
   "source": [
    "#EDA \n",
    "#histograms\n",
    "import matplotlib.pyplot as plt \n",
    "print(df[\"Pclass\"])\n",
    "df[\"Pclass\"].hist()"
   ]
  },
  {
   "cell_type": "code",
   "execution_count": 51,
   "id": "19a88c5d-2750-429f-8b20-abcd078487cc",
   "metadata": {},
   "outputs": [
    {
     "name": "stdout",
     "output_type": "stream",
     "text": [
      "0      34.5\n",
      "1      47.0\n",
      "2      62.0\n",
      "3      27.0\n",
      "4      22.0\n",
      "       ... \n",
      "413     NaN\n",
      "414    39.0\n",
      "415    38.5\n",
      "416     NaN\n",
      "417     NaN\n",
      "Name: Age, Length: 418, dtype: float64\n"
     ]
    },
    {
     "data": {
      "text/plain": [
       "<Axes: >"
      ]
     },
     "execution_count": 51,
     "metadata": {},
     "output_type": "execute_result"
    },
    {
     "data": {
      "image/png": "[encoded data removed]",
      "text/plain": [
       "<Figure size 640x480 with 1 Axes>"
      ]
     },
     "metadata": {},
     "output_type": "display_data"
    }
   ],
   "source": [
    "print(df[\"Age\"])\n",
    "df[\"Age\"].hist()"
   ]
  },
  {
   "cell_type": "code",
   "execution_count": 52,
   "id": "e7505e6f-34f3-4197-a110-076031ba116a",
   "metadata": {},
   "outputs": [
    {
     "name": "stdout",
     "output_type": "stream",
     "text": [
      "0      0\n",
      "1      1\n",
      "2      0\n",
      "3      0\n",
      "4      1\n",
      "      ..\n",
      "413    0\n",
      "414    0\n",
      "415    0\n",
      "416    0\n",
      "417    1\n",
      "Name: SibSp, Length: 418, dtype: int64\n"
     ]
    },
    {
     "data": {
      "text/plain": [
       "<Axes: >"
      ]
     },
     "execution_count": 52,
     "metadata": {},
     "output_type": "execute_result"
    },
    {
     "data": {
      "image/png": "[encoded data removed]",
      "text/plain": [
       "<Figure size 640x480 with 1 Axes>"
      ]
     },
     "metadata": {},
     "output_type": "display_data"
    }
   ],
   "source": [
    "print(df[\"SibSp\"])\n",
    "df[\"SibSp\"].hist()"
   ]
  },
  {
   "cell_type": "code",
   "execution_count": 53,
   "id": "c15d1dce-ee8b-4933-95fc-6176b9e8aea2",
   "metadata": {},
   "outputs": [
    {
     "name": "stdout",
     "output_type": "stream",
     "text": [
      "0        male\n",
      "1      female\n",
      "2        male\n",
      "3        male\n",
      "4      female\n",
      "        ...  \n",
      "413      male\n",
      "414    female\n",
      "415      male\n",
      "416      male\n",
      "417      male\n",
      "Name: Sex, Length: 418, dtype: object\n"
     ]
    },
    {
     "data": {
      "text/plain": [
       "<Axes: >"
      ]
     },
     "execution_count": 53,
     "metadata": {},
     "output_type": "execute_result"
    },
    {
     "data": {
      "image/png": "[encoded data removed]",
      "text/plain": [
       "<Figure size 640x480 with 1 Axes>"
      ]
     },
     "metadata": {},
     "output_type": "display_data"
    }
   ],
   "source": [
    "print(df[\"Sex\"])\n",
    "df[\"Sex\"].hist()"
   ]
  },
  {
   "cell_type": "code",
   "execution_count": 54,
   "id": "664e942d-11a2-4c7c-b3c0-3d521a6fb562",
   "metadata": {},
   "outputs": [
    {
     "name": "stdout",
     "output_type": "stream",
     "text": [
      "0                  330911\n",
      "1                  363272\n",
      "2                  240276\n",
      "3                  315154\n",
      "4                 3101298\n",
      "              ...        \n",
      "413             A.5. 3236\n",
      "414              PC 17758\n",
      "415    SOTON/O.Q. 3101262\n",
      "416                359309\n",
      "417                  2668\n",
      "Name: Ticket, Length: 418, dtype: object\n"
     ]
    },
    {
     "data": {
      "text/plain": [
       "<Axes: >"
      ]
     },
     "execution_count": 54,
     "metadata": {},
     "output_type": "execute_result"
    },
    {
     "data": {
      "image/png": "[encoded data removed]",
      "text/plain": [
       "<Figure size 640x480 with 1 Axes>"
      ]
     },
     "metadata": {},
     "output_type": "display_data"
    }
   ],
   "source": [
    "print(df[\"Ticket\"])\n",
    "df[\"Ticket\"].hist()"
   ]
  },
  {
   "cell_type": "code",
   "execution_count": 55,
   "id": "3abb8e05-f104-45a8-a57b-5b146186e299",
   "metadata": {},
   "outputs": [
    {
     "name": "stdout",
     "output_type": "stream",
     "text": [
      "0        7.8292\n",
      "1        7.0000\n",
      "2        9.6875\n",
      "3        8.6625\n",
      "4       12.2875\n",
      "         ...   \n",
      "413      8.0500\n",
      "414    108.9000\n",
      "415      7.2500\n",
      "416      8.0500\n",
      "417     22.3583\n",
      "Name: Fare, Length: 418, dtype: float64\n"
     ]
    },
    {
     "data": {
      "text/plain": [
       "<Axes: >"
      ]
     },
     "execution_count": 55,
     "metadata": {},
     "output_type": "execute_result"
    },
    {
     "data": {
      "image/png": "[encoded data removed]",
      "text/plain": [
       "<Figure size 640x480 with 1 Axes>"
      ]
     },
     "metadata": {},
     "output_type": "display_data"
    }
   ],
   "source": [
    "print(df[\"Fare\"])\n",
    "df[\"Fare\"].hist()"
   ]
  },
  {
   "cell_type": "code",
   "execution_count": 56,
   "id": "bab47164-f4f2-4833-9600-290917ab8122",
   "metadata": {},
   "outputs": [
    {
     "name": "stdout",
     "output_type": "stream",
     "text": [
      "0       NaN\n",
      "1       NaN\n",
      "2       NaN\n",
      "3       NaN\n",
      "4       NaN\n",
      "       ... \n",
      "413     NaN\n",
      "414    C105\n",
      "415     NaN\n",
      "416     NaN\n",
      "417     NaN\n",
      "Name: Cabin, Length: 418, dtype: object\n"
     ]
    },
    {
     "data": {
      "text/plain": [
       "<Axes: >"
      ]
     },
     "execution_count": 56,
     "metadata": {},
     "output_type": "execute_result"
    },
    {
     "data": {
      "image/png": "[encoded data removed]",
      "text/plain": [
       "<Figure size 640x480 with 1 Axes>"
      ]
     },
     "metadata": {},
     "output_type": "display_data"
    }
   ],
   "source": [
    "print(df[\"Cabin\"])\n",
    "df[\"Cabin\"].hist()"
   ]
  },
  {
   "cell_type": "code",
   "execution_count": 57,
   "id": "366141cf-caae-4835-9ac9-363faf5e9715",
   "metadata": {},
   "outputs": [
    {
     "name": "stdout",
     "output_type": "stream",
     "text": [
      "0      Q\n",
      "1      S\n",
      "2      Q\n",
      "3      S\n",
      "4      S\n",
      "      ..\n",
      "413    S\n",
      "414    C\n",
      "415    S\n",
      "416    S\n",
      "417    C\n",
      "Name: Embarked, Length: 418, dtype: object\n"
     ]
    },
    {
     "data": {
      "text/plain": [
       "<Axes: >"
      ]
     },
     "execution_count": 57,
     "metadata": {},
     "output_type": "execute_result"
    },
    {
     "data": {
      "image/png": "[encoded data removed]",
      "text/plain": [
       "<Figure size 640x480 with 1 Axes>"
      ]
     },
     "metadata": {},
     "output_type": "display_data"
    }
   ],
   "source": [
    "print(df[\"Embarked\"])\n",
    "df[\"Embarked\"].hist()"
   ]
  },
  {
   "cell_type": "markdown",
   "id": "f42f1609-c731-4173-b77c-9f001899782d",
   "metadata": {},
   "source": [
    "### Boxplot"
   ]
  },
  {
   "cell_type": "code",
   "execution_count": 58,
   "id": "904a7513-ed67-42b1-ab5f-84c77ef884a8",
   "metadata": {},
   "outputs": [
    {
     "data": {
      "text/plain": [
       "<Axes: >"
      ]
     },
     "execution_count": 58,
     "metadata": {},
     "output_type": "execute_result"
    },
    {
     "data": {
      "image/png": "[encoded data removed]",
      "text/plain": [
       "<Figure size 640x480 with 1 Axes>"
      ]
     },
     "metadata": {},
     "output_type": "display_data"
    }
   ],
   "source": [
    "#box plots \n",
    "df.boxplot(column =[\"Pclass\"], vert =False)"
   ]
  },
  {
   "cell_type": "code",
   "execution_count": 59,
   "id": "79901b8b-faa3-44a6-8e81-b81862111524",
   "metadata": {},
   "outputs": [
    {
     "data": {
      "text/plain": [
       "<Axes: >"
      ]
     },
     "execution_count": 59,
     "metadata": {},
     "output_type": "execute_result"
    },
    {
     "data": {
      "image/png": "[encoded data removed]",
      "text/plain": [
       "<Figure size 640x480 with 1 Axes>"
      ]
     },
     "metadata": {},
     "output_type": "display_data"
    }
   ],
   "source": [
    "#box plots \n",
    "df.boxplot(column =[\"Age\"], vert =False)"
   ]
  },
  {
   "cell_type": "code",
   "execution_count": 60,
   "id": "9947b9e8-5bff-4c5d-8c25-69d41424d3ab",
   "metadata": {},
   "outputs": [
    {
     "data": {
      "text/plain": [
       "<Axes: >"
      ]
     },
     "execution_count": 60,
     "metadata": {},
     "output_type": "execute_result"
    },
    {
     "data": {
      "image/png": "[encoded data removed]",
      "text/plain": [
       "<Figure size 640x480 with 1 Axes>"
      ]
     },
     "metadata": {},
     "output_type": "display_data"
    }
   ],
   "source": [
    "df.boxplot(column =[\"SibSp\"], vert =False)"
   ]
  },
  {
   "cell_type": "code",
   "execution_count": 61,
   "id": "b9601ece-5b71-478d-a264-a63a5469cd38",
   "metadata": {},
   "outputs": [
    {
     "data": {
      "text/plain": [
       "<Axes: >"
      ]
     },
     "execution_count": 61,
     "metadata": {},
     "output_type": "execute_result"
    },
    {
     "data": {
      "image/png": "[encoded data removed]",
      "text/plain": [
       "<Figure size 640x480 with 1 Axes>"
      ]
     },
     "metadata": {},
     "output_type": "display_data"
    }
   ],
   "source": [
    "df.boxplot(column =[\"Parch\"], vert =False)"
   ]
  },
  {
   "cell_type": "code",
   "execution_count": 62,
   "id": "c20a9089-5159-4388-a1ce-62f146217849",
   "metadata": {},
   "outputs": [
    {
     "data": {
      "text/plain": [
       "<Axes: >"
      ]
     },
     "execution_count": 62,
     "metadata": {},
     "output_type": "execute_result"
    },
    {
     "data": {
      "image/png": "[encoded data removed]",
      "text/plain": [
       "<Figure size 640x480 with 1 Axes>"
      ]
     },
     "metadata": {},
     "output_type": "display_data"
    }
   ],
   "source": [
    "df.boxplot(column =[\"Fare\"], vert =False)"
   ]
  },
  {
   "cell_type": "code",
   "execution_count": 63,
   "id": "7f19e274-6d06-47f1-b4c0-3712e5316f7f",
   "metadata": {},
   "outputs": [
    {
     "data": {
      "text/plain": [
       "<bound method DataFrame.corr of      PassengerId  Pclass                                          Name  \\\n",
       "0            892       3                              Kelly, Mr. James   \n",
       "1            893       3              Wilkes, Mrs. James (Ellen Needs)   \n",
       "2            894       2                     Myles, Mr. Thomas Francis   \n",
       "3            895       3                              Wirz, Mr. Albert   \n",
       "4            896       3  Hirvonen, Mrs. Alexander (Helga E Lindqvist)   \n",
       "..           ...     ...                                           ...   \n",
       "413         1305       3                            Spector, Mr. Woolf   \n",
       "414         1306       1                  Oliva y Ocana, Dona. Fermina   \n",
       "415         1307       3                  Saether, Mr. Simon Sivertsen   \n",
       "416         1308       3                           Ware, Mr. Frederick   \n",
       "417         1309       3                      Peter, Master. Michael J   \n",
       "\n",
       "        Sex   Age  SibSp  Parch              Ticket      Fare Cabin Embarked  \n",
       "0      male  34.5      0      0              330911    7.8292   NaN        Q  \n",
       "1    female  47.0      1      0              363272    7.0000   NaN        S  \n",
       "2      male  62.0      0      0              240276    9.6875   NaN        Q  \n",
       "3      male  27.0      0      0              315154    8.6625   NaN        S  \n",
       "4    female  22.0      1      1             3101298   12.2875   NaN        S  \n",
       "..      ...   ...    ...    ...                 ...       ...   ...      ...  \n",
       "413    male   NaN      0      0           A.5. 3236    8.0500   NaN        S  \n",
       "414  female  39.0      0      0            PC 17758  108.9000  C105        C  \n",
       "415    male  38.5      0      0  SOTON/O.Q. 3101262    7.2500   NaN        S  \n",
       "416    male   NaN      0      0              359309    8.0500   NaN        S  \n",
       "417    male   NaN      1      1                2668   22.3583   NaN        C  \n",
       "\n",
       "[418 rows x 11 columns]>"
      ]
     },
     "execution_count": 63,
     "metadata": {},
     "output_type": "execute_result"
    }
   ],
   "source": [
    "df.corr"
   ]
  },
  {
   "cell_type": "markdown",
   "id": "252e25b8-d09b-43df-90c5-8b5ef8ec5f90",
   "metadata": {},
   "source": [
    "### 2. Data Preprocessing"
   ]
  },
  {
   "cell_type": "code",
   "execution_count": 64,
   "id": "0a0317b9-e323-4f59-9171-bb204ec806b9",
   "metadata": {},
   "outputs": [
    {
     "name": "stdout",
     "output_type": "stream",
     "text": [
      "PassengerId      0\n",
      "Pclass           0\n",
      "Name             0\n",
      "Sex              0\n",
      "Age             86\n",
      "SibSp            0\n",
      "Parch            0\n",
      "Ticket           0\n",
      "Fare             1\n",
      "Cabin          327\n",
      "Embarked         0\n",
      "dtype: int64\n"
     ]
    }
   ],
   "source": [
    "print(df.isnull().sum())"
   ]
  },
  {
   "cell_type": "code",
   "execution_count": 65,
   "id": "e3cf7b19-0ae5-4eb0-818a-b37dc377f690",
   "metadata": {},
   "outputs": [
    {
     "name": "stdout",
     "output_type": "stream",
     "text": [
      "0      206\n",
      "1      403\n",
      "2      269\n",
      "3      408\n",
      "4      178\n",
      "      ... \n",
      "413    353\n",
      "414    283\n",
      "415    332\n",
      "416    384\n",
      "417    302\n",
      "Name: Name, Length: 418, dtype: int32\n"
     ]
    }
   ],
   "source": [
    "#DATA TRANSFORMATION\n",
    "from sklearn.preprocessing import LabelEncoder \n",
    "LE =LabelEncoder()\n",
    "df[\"Name\"] =LE.fit_transform(df[\"Name\"])\n",
    "print(df[\"Name\"])"
   ]
  },
  {
   "cell_type": "code",
   "execution_count": 66,
   "id": "eb33100f-e06b-4458-9f15-20576ace21bd",
   "metadata": {},
   "outputs": [
    {
     "data": {
      "text/html": [
       "<div>\n",
       "<style scoped>\n",
       "    .dataframe tbody tr th:only-of-type {\n",
       "        vertical-align: middle;\n",
       "    }\n",
       "\n",
       "    .dataframe tbody tr th {\n",
       "        vertical-align: top;\n",
       "    }\n",
       "\n",
       "    .dataframe thead th {\n",
       "        text-align: right;\n",
       "    }\n",
       "</style>\n",
       "<table border=\"1\" class=\"dataframe\">\n",
       "  <thead>\n",
       "    <tr style=\"text-align: right;\">\n",
       "      <th></th>\n",
       "      <th>PassengerId</th>\n",
       "      <th>Pclass</th>\n",
       "      <th>Name</th>\n",
       "      <th>Sex</th>\n",
       "      <th>Age</th>\n",
       "      <th>SibSp</th>\n",
       "      <th>Parch</th>\n",
       "      <th>Ticket</th>\n",
       "      <th>Fare</th>\n",
       "      <th>Cabin</th>\n",
       "      <th>Embarked</th>\n",
       "    </tr>\n",
       "  </thead>\n",
       "  <tbody>\n",
       "    <tr>\n",
       "      <th>0</th>\n",
       "      <td>892</td>\n",
       "      <td>3</td>\n",
       "      <td>206</td>\n",
       "      <td>1</td>\n",
       "      <td>34.5</td>\n",
       "      <td>0</td>\n",
       "      <td>0</td>\n",
       "      <td>152</td>\n",
       "      <td>7.8292</td>\n",
       "      <td>76</td>\n",
       "      <td>1</td>\n",
       "    </tr>\n",
       "    <tr>\n",
       "      <th>1</th>\n",
       "      <td>893</td>\n",
       "      <td>3</td>\n",
       "      <td>403</td>\n",
       "      <td>0</td>\n",
       "      <td>47.0</td>\n",
       "      <td>1</td>\n",
       "      <td>0</td>\n",
       "      <td>221</td>\n",
       "      <td>7.0000</td>\n",
       "      <td>76</td>\n",
       "      <td>2</td>\n",
       "    </tr>\n",
       "    <tr>\n",
       "      <th>2</th>\n",
       "      <td>894</td>\n",
       "      <td>2</td>\n",
       "      <td>269</td>\n",
       "      <td>1</td>\n",
       "      <td>62.0</td>\n",
       "      <td>0</td>\n",
       "      <td>0</td>\n",
       "      <td>73</td>\n",
       "      <td>9.6875</td>\n",
       "      <td>76</td>\n",
       "      <td>1</td>\n",
       "    </tr>\n",
       "    <tr>\n",
       "      <th>3</th>\n",
       "      <td>895</td>\n",
       "      <td>3</td>\n",
       "      <td>408</td>\n",
       "      <td>1</td>\n",
       "      <td>27.0</td>\n",
       "      <td>0</td>\n",
       "      <td>0</td>\n",
       "      <td>147</td>\n",
       "      <td>8.6625</td>\n",
       "      <td>76</td>\n",
       "      <td>2</td>\n",
       "    </tr>\n",
       "    <tr>\n",
       "      <th>4</th>\n",
       "      <td>896</td>\n",
       "      <td>3</td>\n",
       "      <td>178</td>\n",
       "      <td>0</td>\n",
       "      <td>22.0</td>\n",
       "      <td>1</td>\n",
       "      <td>1</td>\n",
       "      <td>138</td>\n",
       "      <td>12.2875</td>\n",
       "      <td>76</td>\n",
       "      <td>2</td>\n",
       "    </tr>\n",
       "  </tbody>\n",
       "</table>\n",
       "</div>"
      ],
      "text/plain": [
       "   PassengerId  Pclass  Name  Sex   Age  SibSp  Parch  Ticket     Fare  Cabin  \\\n",
       "0          892       3   206    1  34.5      0      0     152   7.8292     76   \n",
       "1          893       3   403    0  47.0      1      0     221   7.0000     76   \n",
       "2          894       2   269    1  62.0      0      0      73   9.6875     76   \n",
       "3          895       3   408    1  27.0      0      0     147   8.6625     76   \n",
       "4          896       3   178    0  22.0      1      1     138  12.2875     76   \n",
       "\n",
       "   Embarked  \n",
       "0         1  \n",
       "1         2  \n",
       "2         1  \n",
       "3         2  \n",
       "4         2  "
      ]
     },
     "execution_count": 66,
     "metadata": {},
     "output_type": "execute_result"
    }
   ],
   "source": [
    "#Label Encoder\n",
    "from sklearn.preprocessing import LabelEncoder\n",
    "LE=LabelEncoder()\n",
    "df[\"Name\"]     =LE.fit_transform(df[\"Name\"])\n",
    "df[\"Sex\"]      =LE.fit_transform(df[\"Sex\"])\n",
    "df[\"Ticket\"]   =LE.fit_transform(df[\"Ticket\"])\n",
    "df[\"Cabin\"]    =LE.fit_transform(df[\"Cabin\"])\n",
    "df[\"Embarked\"] =LE.fit_transform(df[\"Embarked\"])\n",
    "\n",
    "df.head()"
   ]
  },
  {
   "cell_type": "code",
   "execution_count": 67,
   "id": "b1da9678-1fe1-44ce-b039-1ea293a4815a",
   "metadata": {},
   "outputs": [
    {
     "name": "stdout",
     "output_type": "stream",
     "text": [
      "0      1\n",
      "1      0\n",
      "2      1\n",
      "3      1\n",
      "4      0\n",
      "      ..\n",
      "413    1\n",
      "414    0\n",
      "415    1\n",
      "416    1\n",
      "417    1\n",
      "Name: Sex, Length: 418, dtype: int64\n"
     ]
    }
   ],
   "source": [
    "#DATA TRANSFORMATION\n",
    "from sklearn.preprocessing import LabelEncoder \n",
    "LE =LabelEncoder()\n",
    "df[\"Sex\"] =LE.fit_transform(df[\"Sex\"])\n",
    "print(df[\"Sex\"])"
   ]
  },
  {
   "cell_type": "code",
   "execution_count": 68,
   "id": "337f2c9f-7013-471e-a388-51e2d9dcd83f",
   "metadata": {},
   "outputs": [
    {
     "name": "stdout",
     "output_type": "stream",
     "text": [
      "0      152\n",
      "1      221\n",
      "2       73\n",
      "3      147\n",
      "4      138\n",
      "      ... \n",
      "413    267\n",
      "414    324\n",
      "415    346\n",
      "416    220\n",
      "417    105\n",
      "Name: Ticket, Length: 418, dtype: int64\n"
     ]
    }
   ],
   "source": [
    "#DATA TRANSFORMATION\n",
    "from sklearn.preprocessing import LabelEncoder \n",
    "LE =LabelEncoder()\n",
    "df[\"Ticket\"] =LE.fit_transform(df[\"Ticket\"])\n",
    "print(df[\"Ticket\"])"
   ]
  },
  {
   "cell_type": "code",
   "execution_count": 69,
   "id": "581c9863-2157-456b-85cf-ad747f8543eb",
   "metadata": {},
   "outputs": [
    {
     "name": "stdout",
     "output_type": "stream",
     "text": [
      "0      76\n",
      "1      76\n",
      "2      76\n",
      "3      76\n",
      "4      76\n",
      "       ..\n",
      "413    76\n",
      "414    22\n",
      "415    76\n",
      "416    76\n",
      "417    76\n",
      "Name: Cabin, Length: 418, dtype: int64\n"
     ]
    }
   ],
   "source": [
    "#DATA TRANSFORMATION\n",
    "from sklearn.preprocessing import LabelEncoder \n",
    "LE =LabelEncoder()\n",
    "df[\"Cabin\"] =LE.fit_transform(df[\"Cabin\"])\n",
    "print(df[\"Cabin\"])"
   ]
  },
  {
   "cell_type": "code",
   "execution_count": 70,
   "id": "e59da393-39ae-4bfd-981e-2a6b9668563e",
   "metadata": {},
   "outputs": [
    {
     "name": "stdout",
     "output_type": "stream",
     "text": [
      "0      1\n",
      "1      2\n",
      "2      1\n",
      "3      2\n",
      "4      2\n",
      "      ..\n",
      "413    2\n",
      "414    0\n",
      "415    2\n",
      "416    2\n",
      "417    0\n",
      "Name: Embarked, Length: 418, dtype: int64\n"
     ]
    }
   ],
   "source": [
    "#DATA TRANSFORMATION\n",
    "from sklearn.preprocessing import LabelEncoder \n",
    "LE =LabelEncoder()\n",
    "df[\"Embarked\"] =LE.fit_transform(df[\"Embarked\"])\n",
    "print(df[\"Embarked\"])"
   ]
  },
  {
   "cell_type": "code",
   "execution_count": 71,
   "id": "cdc11063-59b3-4c7b-a14b-887fa1d97507",
   "metadata": {},
   "outputs": [
    {
     "data": {
      "text/html": [
       "<div>\n",
       "<style scoped>\n",
       "    .dataframe tbody tr th:only-of-type {\n",
       "        vertical-align: middle;\n",
       "    }\n",
       "\n",
       "    .dataframe tbody tr th {\n",
       "        vertical-align: top;\n",
       "    }\n",
       "\n",
       "    .dataframe thead th {\n",
       "        text-align: right;\n",
       "    }\n",
       "</style>\n",
       "<table border=\"1\" class=\"dataframe\">\n",
       "  <thead>\n",
       "    <tr style=\"text-align: right;\">\n",
       "      <th></th>\n",
       "      <th>PassengerId</th>\n",
       "      <th>Pclass</th>\n",
       "      <th>Name</th>\n",
       "      <th>Sex</th>\n",
       "      <th>Age</th>\n",
       "      <th>SibSp</th>\n",
       "      <th>Parch</th>\n",
       "      <th>Ticket</th>\n",
       "      <th>Fare</th>\n",
       "      <th>Cabin</th>\n",
       "      <th>Embarked</th>\n",
       "    </tr>\n",
       "  </thead>\n",
       "  <tbody>\n",
       "    <tr>\n",
       "      <th>PassengerId</th>\n",
       "      <td>1.000000</td>\n",
       "      <td>-0.026751</td>\n",
       "      <td>0.042079</td>\n",
       "      <td>0.023245</td>\n",
       "      <td>-0.034102</td>\n",
       "      <td>0.003818</td>\n",
       "      <td>0.043080</td>\n",
       "      <td>-0.012301</td>\n",
       "      <td>0.008211</td>\n",
       "      <td>0.012060</td>\n",
       "      <td>0.040699</td>\n",
       "    </tr>\n",
       "    <tr>\n",
       "      <th>Pclass</th>\n",
       "      <td>-0.026751</td>\n",
       "      <td>1.000000</td>\n",
       "      <td>0.038918</td>\n",
       "      <td>0.108615</td>\n",
       "      <td>-0.492143</td>\n",
       "      <td>0.001087</td>\n",
       "      <td>0.018721</td>\n",
       "      <td>0.292088</td>\n",
       "      <td>-0.577147</td>\n",
       "      <td>0.660165</td>\n",
       "      <td>0.227983</td>\n",
       "    </tr>\n",
       "    <tr>\n",
       "      <th>Name</th>\n",
       "      <td>0.042079</td>\n",
       "      <td>0.038918</td>\n",
       "      <td>1.000000</td>\n",
       "      <td>0.067263</td>\n",
       "      <td>-0.014985</td>\n",
       "      <td>0.043994</td>\n",
       "      <td>-0.010295</td>\n",
       "      <td>0.025531</td>\n",
       "      <td>-0.017685</td>\n",
       "      <td>0.040390</td>\n",
       "      <td>-0.081444</td>\n",
       "    </tr>\n",
       "    <tr>\n",
       "      <th>Sex</th>\n",
       "      <td>0.023245</td>\n",
       "      <td>0.108615</td>\n",
       "      <td>0.067263</td>\n",
       "      <td>1.000000</td>\n",
       "      <td>0.000013</td>\n",
       "      <td>-0.099943</td>\n",
       "      <td>-0.159120</td>\n",
       "      <td>-0.047663</td>\n",
       "      <td>-0.191514</td>\n",
       "      <td>0.127938</td>\n",
       "      <td>0.076281</td>\n",
       "    </tr>\n",
       "    <tr>\n",
       "      <th>Age</th>\n",
       "      <td>-0.034102</td>\n",
       "      <td>-0.492143</td>\n",
       "      <td>-0.014985</td>\n",
       "      <td>0.000013</td>\n",
       "      <td>1.000000</td>\n",
       "      <td>-0.091587</td>\n",
       "      <td>-0.061249</td>\n",
       "      <td>-0.137176</td>\n",
       "      <td>0.337932</td>\n",
       "      <td>-0.395432</td>\n",
       "      <td>-0.175848</td>\n",
       "    </tr>\n",
       "    <tr>\n",
       "      <th>SibSp</th>\n",
       "      <td>0.003818</td>\n",
       "      <td>0.001087</td>\n",
       "      <td>0.043994</td>\n",
       "      <td>-0.099943</td>\n",
       "      <td>-0.091587</td>\n",
       "      <td>1.000000</td>\n",
       "      <td>0.306895</td>\n",
       "      <td>0.025199</td>\n",
       "      <td>0.171539</td>\n",
       "      <td>-0.080243</td>\n",
       "      <td>0.052708</td>\n",
       "    </tr>\n",
       "    <tr>\n",
       "      <th>Parch</th>\n",
       "      <td>0.043080</td>\n",
       "      <td>0.018721</td>\n",
       "      <td>-0.010295</td>\n",
       "      <td>-0.159120</td>\n",
       "      <td>-0.061249</td>\n",
       "      <td>0.306895</td>\n",
       "      <td>1.000000</td>\n",
       "      <td>0.109888</td>\n",
       "      <td>0.230046</td>\n",
       "      <td>-0.045538</td>\n",
       "      <td>0.054577</td>\n",
       "    </tr>\n",
       "    <tr>\n",
       "      <th>Ticket</th>\n",
       "      <td>-0.012301</td>\n",
       "      <td>0.292088</td>\n",
       "      <td>0.025531</td>\n",
       "      <td>-0.047663</td>\n",
       "      <td>-0.137176</td>\n",
       "      <td>0.025199</td>\n",
       "      <td>0.109888</td>\n",
       "      <td>1.000000</td>\n",
       "      <td>-0.018921</td>\n",
       "      <td>0.162064</td>\n",
       "      <td>0.093672</td>\n",
       "    </tr>\n",
       "    <tr>\n",
       "      <th>Fare</th>\n",
       "      <td>0.008211</td>\n",
       "      <td>-0.577147</td>\n",
       "      <td>-0.017685</td>\n",
       "      <td>-0.191514</td>\n",
       "      <td>0.337932</td>\n",
       "      <td>0.171539</td>\n",
       "      <td>0.230046</td>\n",
       "      <td>-0.018921</td>\n",
       "      <td>1.000000</td>\n",
       "      <td>-0.574490</td>\n",
       "      <td>-0.257183</td>\n",
       "    </tr>\n",
       "    <tr>\n",
       "      <th>Cabin</th>\n",
       "      <td>0.012060</td>\n",
       "      <td>0.660165</td>\n",
       "      <td>0.040390</td>\n",
       "      <td>0.127938</td>\n",
       "      <td>-0.395432</td>\n",
       "      <td>-0.080243</td>\n",
       "      <td>-0.045538</td>\n",
       "      <td>0.162064</td>\n",
       "      <td>-0.574490</td>\n",
       "      <td>1.000000</td>\n",
       "      <td>0.273485</td>\n",
       "    </tr>\n",
       "    <tr>\n",
       "      <th>Embarked</th>\n",
       "      <td>0.040699</td>\n",
       "      <td>0.227983</td>\n",
       "      <td>-0.081444</td>\n",
       "      <td>0.076281</td>\n",
       "      <td>-0.175848</td>\n",
       "      <td>0.052708</td>\n",
       "      <td>0.054577</td>\n",
       "      <td>0.093672</td>\n",
       "      <td>-0.257183</td>\n",
       "      <td>0.273485</td>\n",
       "      <td>1.000000</td>\n",
       "    </tr>\n",
       "  </tbody>\n",
       "</table>\n",
       "</div>"
      ],
      "text/plain": [
       "             PassengerId    Pclass      Name       Sex       Age     SibSp  \\\n",
       "PassengerId     1.000000 -0.026751  0.042079  0.023245 -0.034102  0.003818   \n",
       "Pclass         -0.026751  1.000000  0.038918  0.108615 -0.492143  0.001087   \n",
       "Name            0.042079  0.038918  1.000000  0.067263 -0.014985  0.043994   \n",
       "Sex             0.023245  0.108615  0.067263  1.000000  0.000013 -0.099943   \n",
       "Age            -0.034102 -0.492143 -0.014985  0.000013  1.000000 -0.091587   \n",
       "SibSp           0.003818  0.001087  0.043994 -0.099943 -0.091587  1.000000   \n",
       "Parch           0.043080  0.018721 -0.010295 -0.159120 -0.061249  0.306895   \n",
       "Ticket         -0.012301  0.292088  0.025531 -0.047663 -0.137176  0.025199   \n",
       "Fare            0.008211 -0.577147 -0.017685 -0.191514  0.337932  0.171539   \n",
       "Cabin           0.012060  0.660165  0.040390  0.127938 -0.395432 -0.080243   \n",
       "Embarked        0.040699  0.227983 -0.081444  0.076281 -0.175848  0.052708   \n",
       "\n",
       "                Parch    Ticket      Fare     Cabin  Embarked  \n",
       "PassengerId  0.043080 -0.012301  0.008211  0.012060  0.040699  \n",
       "Pclass       0.018721  0.292088 -0.577147  0.660165  0.227983  \n",
       "Name        -0.010295  0.025531 -0.017685  0.040390 -0.081444  \n",
       "Sex         -0.159120 -0.047663 -0.191514  0.127938  0.076281  \n",
       "Age         -0.061249 -0.137176  0.337932 -0.395432 -0.175848  \n",
       "SibSp        0.306895  0.025199  0.171539 -0.080243  0.052708  \n",
       "Parch        1.000000  0.109888  0.230046 -0.045538  0.054577  \n",
       "Ticket       0.109888  1.000000 -0.018921  0.162064  0.093672  \n",
       "Fare         0.230046 -0.018921  1.000000 -0.574490 -0.257183  \n",
       "Cabin       -0.045538  0.162064 -0.574490  1.000000  0.273485  \n",
       "Embarked     0.054577  0.093672 -0.257183  0.273485  1.000000  "
      ]
     },
     "execution_count": 71,
     "metadata": {},
     "output_type": "execute_result"
    }
   ],
   "source": [
    "df.corr()"
   ]
  },
  {
   "cell_type": "code",
   "execution_count": 72,
   "id": "1387e4c8-484e-470b-9761-efd2565de27b",
   "metadata": {},
   "outputs": [
    {
     "name": "stderr",
     "output_type": "stream",
     "text": [
      "C:\\Users\\anura\\AppData\\Local\\Temp\\ipykernel_20492\\2236400978.py:2: FutureWarning: A value is trying to be set on a copy of a DataFrame or Series through chained assignment using an inplace method.\n",
      "The behavior will change in pandas 3.0. This inplace method will never work because the intermediate object on which we are setting values always behaves as a copy.\n",
      "\n",
      "For example, when doing 'df[col].method(value, inplace=True)', try using 'df.method({col: value}, inplace=True)' or df[col] = df[col].method(value) instead, to perform the operation inplace on the original object.\n",
      "\n",
      "\n",
      "  df[\"Age\"].fillna(df[\"Age\"].mean(), inplace =True)\n",
      "C:\\Users\\anura\\AppData\\Local\\Temp\\ipykernel_20492\\2236400978.py:3: FutureWarning: A value is trying to be set on a copy of a DataFrame or Series through chained assignment using an inplace method.\n",
      "The behavior will change in pandas 3.0. This inplace method will never work because the intermediate object on which we are setting values always behaves as a copy.\n",
      "\n",
      "For example, when doing 'df[col].method(value, inplace=True)', try using 'df.method({col: value}, inplace=True)' or df[col] = df[col].method(value) instead, to perform the operation inplace on the original object.\n",
      "\n",
      "\n",
      "  df[\"Fare\"].fillna(df[\"Fare\"].median(), inplace =True)\n",
      "C:\\Users\\anura\\AppData\\Local\\Temp\\ipykernel_20492\\2236400978.py:4: FutureWarning: A value is trying to be set on a copy of a DataFrame or Series through chained assignment using an inplace method.\n",
      "The behavior will change in pandas 3.0. This inplace method will never work because the intermediate object on which we are setting values always behaves as a copy.\n",
      "\n",
      "For example, when doing 'df[col].method(value, inplace=True)', try using 'df.method({col: value}, inplace=True)' or df[col] = df[col].method(value) instead, to perform the operation inplace on the original object.\n",
      "\n",
      "\n",
      "  df[\"Cabin\"].fillna(df[\"Cabin\"].mean(), inplace =True)\n"
     ]
    }
   ],
   "source": [
    "#fill missing values with Median or Mean \n",
    "df[\"Age\"].fillna(df[\"Age\"].mean(), inplace =True)\n",
    "df[\"Fare\"].fillna(df[\"Fare\"].median(), inplace =True)\n",
    "df[\"Cabin\"].fillna(df[\"Cabin\"].mean(), inplace =True) "
   ]
  },
  {
   "cell_type": "markdown",
   "id": "85092448-853d-4f7c-8afe-b868142fe9bf",
   "metadata": {},
   "source": [
    "### 3.Model Building"
   ]
  },
  {
   "cell_type": "code",
   "execution_count": 73,
   "id": "f7afdfe2-b9b3-482a-9115-0146462d6c69",
   "metadata": {},
   "outputs": [
    {
     "ename": "KeyError",
     "evalue": "'Survived'",
     "output_type": "error",
     "traceback": [
      "\u001b[1;31m---------------------------------------------------------------------------\u001b[0m",
      "\u001b[1;31mKeyError\u001b[0m                                  Traceback (most recent call last)",
      "File \u001b[1;32m~\\anaconda5-3-25\\Lib\\site-packages\\pandas\\core\\indexes\\base.py:3805\u001b[0m, in \u001b[0;36mIndex.get_loc\u001b[1;34m(self, key)\u001b[0m\n\u001b[0;32m   3804\u001b[0m \u001b[38;5;28;01mtry\u001b[39;00m:\n\u001b[1;32m-> 3805\u001b[0m     \u001b[38;5;28;01mreturn\u001b[39;00m \u001b[38;5;28mself\u001b[39m\u001b[38;5;241m.\u001b[39m_engine\u001b[38;5;241m.\u001b[39mget_loc(casted_key)\n\u001b[0;32m   3806\u001b[0m \u001b[38;5;28;01mexcept\u001b[39;00m \u001b[38;5;167;01mKeyError\u001b[39;00m \u001b[38;5;28;01mas\u001b[39;00m err:\n",
      "File \u001b[1;32mindex.pyx:167\u001b[0m, in \u001b[0;36mpandas._libs.index.IndexEngine.get_loc\u001b[1;34m()\u001b[0m\n",
      "File \u001b[1;32mindex.pyx:196\u001b[0m, in \u001b[0;36mpandas._libs.index.IndexEngine.get_loc\u001b[1;34m()\u001b[0m\n",
      "File \u001b[1;32mpandas\\\\_libs\\\\hashtable_class_helper.pxi:7081\u001b[0m, in \u001b[0;36mpandas._libs.hashtable.PyObjectHashTable.get_item\u001b[1;34m()\u001b[0m\n",
      "File \u001b[1;32mpandas\\\\_libs\\\\hashtable_class_helper.pxi:7089\u001b[0m, in \u001b[0;36mpandas._libs.hashtable.PyObjectHashTable.get_item\u001b[1;34m()\u001b[0m\n",
      "\u001b[1;31mKeyError\u001b[0m: 'Survived'",
      "\nThe above exception was the direct cause of the following exception:\n",
      "\u001b[1;31mKeyError\u001b[0m                                  Traceback (most recent call last)",
      "Cell \u001b[1;32mIn[73], line 2\u001b[0m\n\u001b[0;32m      1\u001b[0m \u001b[38;5;66;03m#Data partition \u001b[39;00m\n\u001b[1;32m----> 2\u001b[0m Y \u001b[38;5;241m=\u001b[39mdf[\u001b[38;5;124m\"\u001b[39m\u001b[38;5;124mSurvived\u001b[39m\u001b[38;5;124m\"\u001b[39m]\n\u001b[0;32m      3\u001b[0m X \u001b[38;5;241m=\u001b[39mdf\u001b[38;5;241m.\u001b[39miloc[:, \u001b[38;5;241m8\u001b[39m:]\n\u001b[0;32m      4\u001b[0m X\n",
      "File \u001b[1;32m~\\anaconda5-3-25\\Lib\\site-packages\\pandas\\core\\frame.py:4102\u001b[0m, in \u001b[0;36mDataFrame.__getitem__\u001b[1;34m(self, key)\u001b[0m\n\u001b[0;32m   4100\u001b[0m \u001b[38;5;28;01mif\u001b[39;00m \u001b[38;5;28mself\u001b[39m\u001b[38;5;241m.\u001b[39mcolumns\u001b[38;5;241m.\u001b[39mnlevels \u001b[38;5;241m>\u001b[39m \u001b[38;5;241m1\u001b[39m:\n\u001b[0;32m   4101\u001b[0m     \u001b[38;5;28;01mreturn\u001b[39;00m \u001b[38;5;28mself\u001b[39m\u001b[38;5;241m.\u001b[39m_getitem_multilevel(key)\n\u001b[1;32m-> 4102\u001b[0m indexer \u001b[38;5;241m=\u001b[39m \u001b[38;5;28mself\u001b[39m\u001b[38;5;241m.\u001b[39mcolumns\u001b[38;5;241m.\u001b[39mget_loc(key)\n\u001b[0;32m   4103\u001b[0m \u001b[38;5;28;01mif\u001b[39;00m is_integer(indexer):\n\u001b[0;32m   4104\u001b[0m     indexer \u001b[38;5;241m=\u001b[39m [indexer]\n",
      "File \u001b[1;32m~\\anaconda5-3-25\\Lib\\site-packages\\pandas\\core\\indexes\\base.py:3812\u001b[0m, in \u001b[0;36mIndex.get_loc\u001b[1;34m(self, key)\u001b[0m\n\u001b[0;32m   3807\u001b[0m     \u001b[38;5;28;01mif\u001b[39;00m \u001b[38;5;28misinstance\u001b[39m(casted_key, \u001b[38;5;28mslice\u001b[39m) \u001b[38;5;129;01mor\u001b[39;00m (\n\u001b[0;32m   3808\u001b[0m         \u001b[38;5;28misinstance\u001b[39m(casted_key, abc\u001b[38;5;241m.\u001b[39mIterable)\n\u001b[0;32m   3809\u001b[0m         \u001b[38;5;129;01mand\u001b[39;00m \u001b[38;5;28many\u001b[39m(\u001b[38;5;28misinstance\u001b[39m(x, \u001b[38;5;28mslice\u001b[39m) \u001b[38;5;28;01mfor\u001b[39;00m x \u001b[38;5;129;01min\u001b[39;00m casted_key)\n\u001b[0;32m   3810\u001b[0m     ):\n\u001b[0;32m   3811\u001b[0m         \u001b[38;5;28;01mraise\u001b[39;00m InvalidIndexError(key)\n\u001b[1;32m-> 3812\u001b[0m     \u001b[38;5;28;01mraise\u001b[39;00m \u001b[38;5;167;01mKeyError\u001b[39;00m(key) \u001b[38;5;28;01mfrom\u001b[39;00m \u001b[38;5;21;01merr\u001b[39;00m\n\u001b[0;32m   3813\u001b[0m \u001b[38;5;28;01mexcept\u001b[39;00m \u001b[38;5;167;01mTypeError\u001b[39;00m:\n\u001b[0;32m   3814\u001b[0m     \u001b[38;5;66;03m# If we have a listlike key, _check_indexing_error will raise\u001b[39;00m\n\u001b[0;32m   3815\u001b[0m     \u001b[38;5;66;03m#  InvalidIndexError. Otherwise we fall through and re-raise\u001b[39;00m\n\u001b[0;32m   3816\u001b[0m     \u001b[38;5;66;03m#  the TypeError.\u001b[39;00m\n\u001b[0;32m   3817\u001b[0m     \u001b[38;5;28mself\u001b[39m\u001b[38;5;241m.\u001b[39m_check_indexing_error(key)\n",
      "\u001b[1;31mKeyError\u001b[0m: 'Survived'"
     ]
    }
   ],
   "source": [
    "#Data partition \n",
    "Y =df[\"Survived\"]\n",
    "X =df.iloc[:, 8:]\n",
    "X"
   ]
  },
  {
   "cell_type": "code",
   "execution_count": null,
   "id": "41a3a772-0f4f-4cfb-991c-b98957de5b53",
   "metadata": {},
   "outputs": [],
   "source": [
    "from sklearn.linear_model import LogisticRegression \n",
    "model =LogisticRegression()\n",
    "model.fit(X, Y)\n"
   ]
  },
  {
   "cell_type": "code",
   "execution_count": null,
   "id": "8852bf5c-f575-4192-8923-cf80434a40e2",
   "metadata": {},
   "outputs": [],
   "source": [
    "df[\"Y_pred\"] =model.predict(X)"
   ]
  },
  {
   "cell_type": "markdown",
   "id": "359dba95-d03c-4a88-81bc-8989344c5573",
   "metadata": {},
   "source": [
    "### 4. Model Evaluation:"
   ]
  },
  {
   "cell_type": "code",
   "execution_count": null,
   "id": "c6c547f8-b479-4afc-91dd-ea869f86738e",
   "metadata": {},
   "outputs": [],
   "source": [
    "from sklearn.metrics import accuracy_score, precision_score, recall_score, f1_score \n",
    "score =accuracy_score(Y, df[\"Y_pred\"])\n",
    "print(\"accuracy score:\", np.round(score, 2))\n",
    "\n",
    "ps=precision_score(Y, df[\"Y_pred\"])\n",
    "print(\"precision score:\", np.round(ps, 2))\n",
    "\n",
    "rs =recall_score(Y, df[\"Y_pred\"])\n",
    "print(\"recall score:\", np.round(rs, 2))\n",
    "\n",
    "f1s =f1_score(Y, df[\"Y_pred\"])\n",
    "print(\"F1 score:\", np.round(f1s, 2))\n"
   ]
  },
  {
   "cell_type": "code",
   "execution_count": null,
   "id": "0fa17070-481e-4f8f-a67b-1f9dae48ad12",
   "metadata": {},
   "outputs": [],
   "source": [
    "from sklearn.metrics import roc_auc_score\n",
    "auc =roc_auc_score(Y, df[\"Y_pred\"])\n",
    "print(\"Area under curve:\",  np.round(auc, 3))\n",
    "print(\"Area under curve:\", (auc * 200).round(3))"
   ]
  },
  {
   "cell_type": "code",
   "execution_count": null,
   "id": "10a7f846-8c71-4335-9f2b-d1e4b4fd2623",
   "metadata": {},
   "outputs": [],
   "source": [
    "from sklearn.metrics import roc_curve \n",
    "\n",
    "fpr,tpr,dummy =roc_curve(Y, df[\"Y_pred\"])\n",
    "\n",
    "import matplotlib.pyplot as plt \n",
    "plt.scatter(x =fpr, y =tpr)\n",
    "plt.plot(fpr,tpr, color =\"red\")\n",
    "plt.ylabel(\"True Positive Rate\")\n",
    "plt.xlabel(\"False Positive Rate\")\n",
    "plt.show()"
   ]
  },
  {
   "cell_type": "markdown",
   "id": "829de734-6a4b-4d04-ad1f-5f9ae948b40c",
   "metadata": {},
   "source": [
    "### 5. Interpretation:"
   ]
  },
  {
   "cell_type": "code",
   "execution_count": null,
   "id": "169c7135-b24c-4c33-9581-8f979ac2e596",
   "metadata": {},
   "outputs": [],
   "source": [
    "model.intercept_"
   ]
  },
  {
   "cell_type": "code",
   "execution_count": null,
   "id": "f743af2d-3cd5-457f-a33e-c10c61299ec4",
   "metadata": {},
   "outputs": [],
   "source": [
    "df.corr()"
   ]
  },
  {
   "cell_type": "markdown",
   "id": "d96a0ae8-8fc4-4dd2-bb48-9d9497127c53",
   "metadata": {},
   "source": [
    "### Interview Questions:"
   ]
  },
  {
   "cell_type": "code",
   "execution_count": null,
   "id": "4c4a025f-944f-48d4-a683-88ae2af12dff",
   "metadata": {},
   "outputs": [],
   "source": [
    "print('''\n",
    "1. What is the difference between precision and recall?\n",
    "\n",
    "Sensitivity / Recall:\n",
    "\n",
    "    From the overall Actual positiveshow much our model successfully predicted them as positives. \n",
    "    Percentage of positives that are successfully classified as positives. \n",
    "True positive Rate \n",
    "    TPR = TP/(TP + FN)\n",
    "     If FN decreases Sensitivity increases, If FN increases, Sensitivity Decreases\n",
    "\n",
    "-->Precision:\n",
    "\n",
    "    from the model predicted positives what Percentage of people are real positives.\n",
    "    The approach here is to find what percentage of the model’s positive (1’s) predictions are accurate. \n",
    "    Precision is calculated as the number of correct positive predictions (TP) divided by the total number of positive predictions \n",
    "    (TP) / (TP + FP)\n",
    "\n",
    "\n",
    "2. What is cross-validation, and why is it important in binary classification?\n",
    "\n",
    "Model is fitted on training or known data. One must do the cross-validation & model tuning before making \n",
    "any conclusions about the results. Cross-validation is done to issues like over fitting and model tuning is \n",
    "done to get the best model parameters which can give best required results. Once you have chosen the \n",
    "models, then you can perform model tuning and cross-validation for each of the chosen models. Cross\n",
    "validation is like repeatedly checking the model performance on unknown dataset and thereby increasing \n",
    "the assurance of the model performance on any data set which will be fed into this model in future.\n",
    "\n",
    "                        { OR }\n",
    "Cross-validation is a statistical technique used to evaluate the performance of a machine learning model and ensure that it generalizes \n",
    "well to unseen data. It is especially important in binary classification (where there are only two class labels, e.g., \"positive\" and \"negative\") \n",
    "because it helps avoid overfitting and gives a more reliable estimate of model performance.\n",
    "\n",
    "Cross-validation involves splitting the dataset into multiple subsets (called folds), training the model on some folds, \n",
    "and testing it on the remaining fold(s). This process is repeated several times, and the results are averaged.\n",
    "\n",
    "Common types:\n",
    "    K-Fold Cross-Validation: The dataset is divided into K equal parts. The model is trained on K-1 folds and tested on the remaining fold. \n",
    "    This process repeats K times with a different test fold each time.\n",
    "\n",
    "    Stratified K-Fold Cross-Validation: Similar to K-Fold, but ensures each fold has the same proportion of class labels. \n",
    "    Very useful for binary classification with imbalanced data.\n",
    "\n",
    "Why is Cross-Validation Important in Binary Classification?\n",
    "    1.Reduces Overfitting Risk\n",
    "    2.Gives Robust Performance Metrics\n",
    "    3.Handles Class Imbalance\n",
    "    4.Supports Model Selection''')\n"
   ]
  },
  {
   "cell_type": "code",
   "execution_count": null,
   "id": "c74d9023-11b8-49b2-bf9b-d3e87ce25d16",
   "metadata": {},
   "outputs": [],
   "source": []
  }
 ],
 "metadata": {
  "kernelspec": {
   "display_name": "Python 3 (ipykernel)",
   "language": "python",
   "name": "python3"
  },
  "language_info": {
   "codemirror_mode": {
    "name": "ipython",
    "version": 3
   },
   "file_extension": ".py",
   "mimetype": "text/x-python",
   "name": "python",
   "nbconvert_exporter": "python",
   "pygments_lexer": "ipython3",
   "version": "3.12.7"
  }
 },
 "nbformat": 4,
 "nbformat_minor": 5
}
