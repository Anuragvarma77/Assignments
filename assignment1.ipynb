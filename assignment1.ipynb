{
 "cells": [
  {
   "cell_type": "markdown",
   "id": "d11dfa8c-b1f7-4aee-84b2-159dc6096e78",
   "metadata": {},
   "source": [
    "# Basic Statistics"
   ]
  },
  {
   "cell_type": "code",
   "execution_count": 4,
   "id": "7f7b0624-65ba-42ea-a296-723dca427a26",
   "metadata": {},
   "outputs": [
    {
     "data": {
      "text/html": [
       "<div>\n",
       "<style scoped>\n",
       "    .dataframe tbody tr th:only-of-type {\n",
       "        vertical-align: middle;\n",
       "    }\n",
       "\n",
       "    .dataframe tbody tr th {\n",
       "        vertical-align: top;\n",
       "    }\n",
       "\n",
       "    .dataframe thead th {\n",
       "        text-align: right;\n",
       "    }\n",
       "</style>\n",
       "<table border=\"1\" class=\"dataframe\">\n",
       "  <thead>\n",
       "    <tr style=\"text-align: right;\">\n",
       "      <th></th>\n",
       "      <th>Date</th>\n",
       "      <th>Day</th>\n",
       "      <th>SKU</th>\n",
       "      <th>City</th>\n",
       "      <th>Volume</th>\n",
       "      <th>BU</th>\n",
       "      <th>Brand</th>\n",
       "      <th>Model</th>\n",
       "      <th>Avg Price</th>\n",
       "      <th>Total Sales Value</th>\n",
       "      <th>Discount Rate (%)</th>\n",
       "      <th>Discount Amount</th>\n",
       "      <th>Net Sales Value</th>\n",
       "    </tr>\n",
       "  </thead>\n",
       "  <tbody>\n",
       "    <tr>\n",
       "      <th>0</th>\n",
       "      <td>01-04-2021</td>\n",
       "      <td>Thursday</td>\n",
       "      <td>M01</td>\n",
       "      <td>C</td>\n",
       "      <td>15</td>\n",
       "      <td>Mobiles</td>\n",
       "      <td>RealU</td>\n",
       "      <td>RU-10</td>\n",
       "      <td>12100</td>\n",
       "      <td>181500</td>\n",
       "      <td>11.654820</td>\n",
       "      <td>21153.498820</td>\n",
       "      <td>160346.501180</td>\n",
       "    </tr>\n",
       "    <tr>\n",
       "      <th>1</th>\n",
       "      <td>01-04-2021</td>\n",
       "      <td>Thursday</td>\n",
       "      <td>M02</td>\n",
       "      <td>C</td>\n",
       "      <td>10</td>\n",
       "      <td>Mobiles</td>\n",
       "      <td>RealU</td>\n",
       "      <td>RU-9 Plus</td>\n",
       "      <td>10100</td>\n",
       "      <td>101000</td>\n",
       "      <td>11.560498</td>\n",
       "      <td>11676.102961</td>\n",
       "      <td>89323.897039</td>\n",
       "    </tr>\n",
       "    <tr>\n",
       "      <th>2</th>\n",
       "      <td>01-04-2021</td>\n",
       "      <td>Thursday</td>\n",
       "      <td>M03</td>\n",
       "      <td>C</td>\n",
       "      <td>7</td>\n",
       "      <td>Mobiles</td>\n",
       "      <td>YouM</td>\n",
       "      <td>YM-99</td>\n",
       "      <td>16100</td>\n",
       "      <td>112700</td>\n",
       "      <td>9.456886</td>\n",
       "      <td>10657.910157</td>\n",
       "      <td>102042.089843</td>\n",
       "    </tr>\n",
       "    <tr>\n",
       "      <th>3</th>\n",
       "      <td>01-04-2021</td>\n",
       "      <td>Thursday</td>\n",
       "      <td>M04</td>\n",
       "      <td>C</td>\n",
       "      <td>6</td>\n",
       "      <td>Mobiles</td>\n",
       "      <td>YouM</td>\n",
       "      <td>YM-99 Plus</td>\n",
       "      <td>20100</td>\n",
       "      <td>120600</td>\n",
       "      <td>6.935385</td>\n",
       "      <td>8364.074702</td>\n",
       "      <td>112235.925298</td>\n",
       "    </tr>\n",
       "    <tr>\n",
       "      <th>4</th>\n",
       "      <td>01-04-2021</td>\n",
       "      <td>Thursday</td>\n",
       "      <td>M05</td>\n",
       "      <td>C</td>\n",
       "      <td>3</td>\n",
       "      <td>Mobiles</td>\n",
       "      <td>YouM</td>\n",
       "      <td>YM-98</td>\n",
       "      <td>8100</td>\n",
       "      <td>24300</td>\n",
       "      <td>17.995663</td>\n",
       "      <td>4372.946230</td>\n",
       "      <td>19927.053770</td>\n",
       "    </tr>\n",
       "    <tr>\n",
       "      <th>...</th>\n",
       "      <td>...</td>\n",
       "      <td>...</td>\n",
       "      <td>...</td>\n",
       "      <td>...</td>\n",
       "      <td>...</td>\n",
       "      <td>...</td>\n",
       "      <td>...</td>\n",
       "      <td>...</td>\n",
       "      <td>...</td>\n",
       "      <td>...</td>\n",
       "      <td>...</td>\n",
       "      <td>...</td>\n",
       "      <td>...</td>\n",
       "    </tr>\n",
       "    <tr>\n",
       "      <th>445</th>\n",
       "      <td>15-04-2021</td>\n",
       "      <td>Thursday</td>\n",
       "      <td>L06</td>\n",
       "      <td>C</td>\n",
       "      <td>2</td>\n",
       "      <td>Lifestyle</td>\n",
       "      <td>Jeera</td>\n",
       "      <td>M-Casuals</td>\n",
       "      <td>1300</td>\n",
       "      <td>2600</td>\n",
       "      <td>15.475687</td>\n",
       "      <td>402.367873</td>\n",
       "      <td>2197.632127</td>\n",
       "    </tr>\n",
       "    <tr>\n",
       "      <th>446</th>\n",
       "      <td>15-04-2021</td>\n",
       "      <td>Thursday</td>\n",
       "      <td>L07</td>\n",
       "      <td>C</td>\n",
       "      <td>6</td>\n",
       "      <td>Lifestyle</td>\n",
       "      <td>Viva</td>\n",
       "      <td>W-Western</td>\n",
       "      <td>2600</td>\n",
       "      <td>15600</td>\n",
       "      <td>17.057027</td>\n",
       "      <td>2660.896242</td>\n",
       "      <td>12939.103758</td>\n",
       "    </tr>\n",
       "    <tr>\n",
       "      <th>447</th>\n",
       "      <td>15-04-2021</td>\n",
       "      <td>Thursday</td>\n",
       "      <td>L08</td>\n",
       "      <td>C</td>\n",
       "      <td>2</td>\n",
       "      <td>Lifestyle</td>\n",
       "      <td>Viva</td>\n",
       "      <td>W-Lounge</td>\n",
       "      <td>1600</td>\n",
       "      <td>3200</td>\n",
       "      <td>18.965550</td>\n",
       "      <td>606.897606</td>\n",
       "      <td>2593.102394</td>\n",
       "    </tr>\n",
       "    <tr>\n",
       "      <th>448</th>\n",
       "      <td>15-04-2021</td>\n",
       "      <td>Thursday</td>\n",
       "      <td>L09</td>\n",
       "      <td>C</td>\n",
       "      <td>3</td>\n",
       "      <td>Lifestyle</td>\n",
       "      <td>Jeera</td>\n",
       "      <td>M-Formals</td>\n",
       "      <td>1900</td>\n",
       "      <td>5700</td>\n",
       "      <td>16.793014</td>\n",
       "      <td>957.201826</td>\n",
       "      <td>4742.798174</td>\n",
       "    </tr>\n",
       "    <tr>\n",
       "      <th>449</th>\n",
       "      <td>15-04-2021</td>\n",
       "      <td>Thursday</td>\n",
       "      <td>L10</td>\n",
       "      <td>C</td>\n",
       "      <td>1</td>\n",
       "      <td>Lifestyle</td>\n",
       "      <td>Jeera</td>\n",
       "      <td>M-Shoes</td>\n",
       "      <td>3100</td>\n",
       "      <td>3100</td>\n",
       "      <td>15.333300</td>\n",
       "      <td>475.332295</td>\n",
       "      <td>2624.667705</td>\n",
       "    </tr>\n",
       "  </tbody>\n",
       "</table>\n",
       "<p>450 rows × 13 columns</p>\n",
       "</div>"
      ],
      "text/plain": [
       "           Date       Day  SKU City  Volume         BU  Brand       Model  \\\n",
       "0    01-04-2021  Thursday  M01    C      15    Mobiles  RealU       RU-10   \n",
       "1    01-04-2021  Thursday  M02    C      10    Mobiles  RealU   RU-9 Plus   \n",
       "2    01-04-2021  Thursday  M03    C       7    Mobiles   YouM       YM-99   \n",
       "3    01-04-2021  Thursday  M04    C       6    Mobiles   YouM  YM-99 Plus   \n",
       "4    01-04-2021  Thursday  M05    C       3    Mobiles   YouM      YM-98    \n",
       "..          ...       ...  ...  ...     ...        ...    ...         ...   \n",
       "445  15-04-2021  Thursday  L06    C       2  Lifestyle  Jeera   M-Casuals   \n",
       "446  15-04-2021  Thursday  L07    C       6  Lifestyle   Viva   W-Western   \n",
       "447  15-04-2021  Thursday  L08    C       2  Lifestyle   Viva    W-Lounge   \n",
       "448  15-04-2021  Thursday  L09    C       3  Lifestyle  Jeera   M-Formals   \n",
       "449  15-04-2021  Thursday  L10    C       1  Lifestyle  Jeera     M-Shoes   \n",
       "\n",
       "     Avg Price  Total Sales Value  Discount Rate (%)  Discount Amount  \\\n",
       "0        12100             181500          11.654820     21153.498820   \n",
       "1        10100             101000          11.560498     11676.102961   \n",
       "2        16100             112700           9.456886     10657.910157   \n",
       "3        20100             120600           6.935385      8364.074702   \n",
       "4         8100              24300          17.995663      4372.946230   \n",
       "..         ...                ...                ...              ...   \n",
       "445       1300               2600          15.475687       402.367873   \n",
       "446       2600              15600          17.057027      2660.896242   \n",
       "447       1600               3200          18.965550       606.897606   \n",
       "448       1900               5700          16.793014       957.201826   \n",
       "449       3100               3100          15.333300       475.332295   \n",
       "\n",
       "     Net Sales Value  \n",
       "0      160346.501180  \n",
       "1       89323.897039  \n",
       "2      102042.089843  \n",
       "3      112235.925298  \n",
       "4       19927.053770  \n",
       "..               ...  \n",
       "445      2197.632127  \n",
       "446     12939.103758  \n",
       "447      2593.102394  \n",
       "448      4742.798174  \n",
       "449      2624.667705  \n",
       "\n",
       "[450 rows x 13 columns]"
      ]
     },
     "execution_count": 4,
     "metadata": {},
     "output_type": "execute_result"
    }
   ],
   "source": [
    "# Loading the data set into data frame\n",
    "import pandas as pd\n",
    "df=pd.read_csv(r\"C:\\Users\\anura\\Desktop\\d\\Basic stats - 1\\Basic stats - 1\\sales_data_with_discounts.csv\")\n",
    "df"
   ]
  },
  {
   "cell_type": "code",
   "execution_count": 6,
   "id": "f5c57d19-5205-4115-b575-b9d9cb6b98ee",
   "metadata": {},
   "outputs": [
    {
     "data": {
      "text/plain": [
       "(450, 13)"
      ]
     },
     "execution_count": 6,
     "metadata": {},
     "output_type": "execute_result"
    }
   ],
   "source": [
    "df.shape #Knowing how many rows and colums"
   ]
  },
  {
   "cell_type": "code",
   "execution_count": 8,
   "id": "5a874a9f-900f-49c0-baca-ae91fdafa7a7",
   "metadata": {},
   "outputs": [
    {
     "data": {
      "text/plain": [
       "Index(['Volume', 'Avg Price', 'Total Sales Value', 'Discount Rate (%)',\n",
       "       'Discount Amount', 'Net Sales Value'],\n",
       "      dtype='object')"
      ]
     },
     "execution_count": 8,
     "metadata": {},
     "output_type": "execute_result"
    }
   ],
   "source": [
    "df._get_numeric_data().columns\n",
    "#Identifying numerical columns in the dataset."
   ]
  },
  {
   "cell_type": "code",
   "execution_count": 22,
   "id": "abfd7f1e-f609-4526-8d19-175fadde777d",
   "metadata": {},
   "outputs": [
    {
     "name": "stdout",
     "output_type": "stream",
     "text": [
      "Mean of volume 5.066666666666666\n",
      "Median of volume 4.0\n",
      "Mode of volume 0    3\n",
      "Name: Volume, dtype: int64\n",
      "Standard deviation of volume 4.231602391213926\n"
     ]
    },
    {
     "data": {
      "text/plain": [
       "count    450.000000\n",
       "mean       5.066667\n",
       "std        4.231602\n",
       "min        1.000000\n",
       "25%        3.000000\n",
       "50%        4.000000\n",
       "75%        6.000000\n",
       "max       31.000000\n",
       "Name: Volume, dtype: float64"
      ]
     },
     "execution_count": 22,
     "metadata": {},
     "output_type": "execute_result"
    }
   ],
   "source": [
    "# descriptive statistics on volume column\n",
    "print(\"Mean of volume\",df[\"Volume\"].mean())\n",
    "print(\"Median of volume\",df[\"Volume\"].median())\n",
    "print(\"Mode of volume\",df[\"Volume\"].mode())\n",
    "print(\"Standard deviation of volume\",df[\"Volume\"].std())\n",
    "df[\"Volume\"].describe()"
   ]
  },
  {
   "cell_type": "code",
   "execution_count": 23,
   "id": "17fd97fb-ef47-40b2-944e-e87292451d8d",
   "metadata": {},
   "outputs": [
    {
     "name": "stdout",
     "output_type": "stream",
     "text": [
      "Mean of Avg Price 10453.433333333332\n",
      "Median of Avg Price 1450.0\n",
      "Mode of Avg Price 0     400\n",
      "1     450\n",
      "2     500\n",
      "3    1300\n",
      "4    8100\n",
      "Name: Avg Price, dtype: int64\n",
      "Standard deviation of Avg Price 18079.90483993645\n"
     ]
    },
    {
     "data": {
      "text/plain": [
       "count      450.000000\n",
       "mean     10453.433333\n",
       "std      18079.904840\n",
       "min        290.000000\n",
       "25%        465.000000\n",
       "50%       1450.000000\n",
       "75%      10100.000000\n",
       "max      60100.000000\n",
       "Name: Avg Price, dtype: float64"
      ]
     },
     "execution_count": 23,
     "metadata": {},
     "output_type": "execute_result"
    }
   ],
   "source": [
    "# descriptive statistics on Avg Price\n",
    "print(\"Mean of Avg Price\",df[\"Avg Price\"].mean())\n",
    "print(\"Median of Avg Price\",df[\"Avg Price\"].median())\n",
    "print(\"Mode of Avg Price\",df[\"Avg Price\"].mode())\n",
    "print(\"Standard deviation of Avg Price\",df[\"Avg Price\"].std())\n",
    "df[\"Avg Price\"].describe()"
   ]
  },
  {
   "cell_type": "code",
   "execution_count": 24,
   "id": "b5ff5c85-ee89-4e93-a155-74d095efd5c2",
   "metadata": {},
   "outputs": [
    {
     "name": "stdout",
     "output_type": "stream",
     "text": [
      "Mean of Total Sales Value 33812.83555555555\n",
      "Median of Total Sales Value 5700.0\n",
      "Mode of Total Sales Value 0    24300\n",
      "Name: Total Sales Value, dtype: int64\n",
      "Standard deviation of Total Sales Value 50535.07417255328\n"
     ]
    },
    {
     "data": {
      "text/plain": [
       "count       450.000000\n",
       "mean      33812.835556\n",
       "std       50535.074173\n",
       "min         400.000000\n",
       "25%        2700.000000\n",
       "50%        5700.000000\n",
       "75%       53200.000000\n",
       "max      196400.000000\n",
       "Name: Total Sales Value, dtype: float64"
      ]
     },
     "execution_count": 24,
     "metadata": {},
     "output_type": "execute_result"
    }
   ],
   "source": [
    "# descriptive statistics on Total Sales Value column\n",
    "print(\"Mean of Total Sales Value\",df[\"Total Sales Value\"].mean())\n",
    "print(\"Median of Total Sales Value\",df[\"Total Sales Value\"].median())\n",
    "print(\"Mode of Total Sales Value\",df[\"Total Sales Value\"].mode())\n",
    "print(\"Standard deviation of Total Sales Value\",df[\"Total Sales Value\"].std())\n",
    "df[\"Total Sales Value\"].describe()"
   ]
  },
  {
   "cell_type": "code",
   "execution_count": 26,
   "id": "51b9e2ed-eba6-445a-a277-637dfa6718b7",
   "metadata": {},
   "outputs": [
    {
     "name": "stdout",
     "output_type": "stream",
     "text": [
      "Mean of Discount Rate (%)e 15.155241895330914\n",
      "Median of Discount Rate (%) 16.57776564929597\n",
      "Mode of Discount Rate (%) 0       5.007822\n",
      "1       5.055218\n",
      "2       5.059801\n",
      "3       5.072124\n",
      "4       5.084108\n",
      "         ...    \n",
      "445    19.940610\n",
      "446    19.965340\n",
      "447    19.976879\n",
      "448    19.982257\n",
      "449    19.992407\n",
      "Name: Discount Rate (%), Length: 450, dtype: float64\n",
      "Standard deviation of Discount Rate (%) 4.220602153325511\n"
     ]
    }
   ],
   "source": [
    "# descriptive statistics on Discount Rate (%) column\n",
    "print(\"Mean of Discount Rate (%)e\",df[\"Discount Rate (%)\"].mean())\n",
    "print(\"Median of Discount Rate (%)\",df[\"Discount Rate (%)\"].median())\n",
    "print(\"Mode of Discount Rate (%)\",df[\"Discount Rate (%)\"].mode())\n",
    "print(\"Standard deviation of Discount Rate (%)\",df[\"Discount Rate (%)\"].std())"
   ]
  },
  {
   "cell_type": "code",
   "execution_count": 28,
   "id": "a93e0d55-6fb3-48e7-b10b-145bc79e055a",
   "metadata": {},
   "outputs": [
    {
     "name": "stdout",
     "output_type": "stream",
     "text": [
      "Mean of Discount Amount 3346.499424342415\n",
      "Median of Discount Amount 988.9337332382784\n",
      "Mode of Discount Amount 0         69.177942\n",
      "1         73.025199\n",
      "2         93.649161\n",
      "3         94.682735\n",
      "4        102.705757\n",
      "           ...     \n",
      "445    17900.983733\n",
      "446    21153.498820\n",
      "447    21496.675367\n",
      "448    25328.224204\n",
      "449    25738.022194\n",
      "Name: Discount Amount, Length: 450, dtype: float64\n",
      "Standard deviation of Discount Amount 4509.9029633539985\n"
     ]
    }
   ],
   "source": [
    "# descriptive statistics on Discount Amount\n",
    "print(\"Mean of Discount Amount\",df[\"Discount Amount\"].mean())\n",
    "print(\"Median of Discount Amount\",df[\"Discount Amount\"].median())\n",
    "print(\"Mode of Discount Amount\",df[\"Discount Amount\"].mode())\n",
    "print(\"Standard deviation of Discount Amount\",df[\"Discount Amount\"].std())"
   ]
  },
  {
   "cell_type": "code",
   "execution_count": 30,
   "id": "34f52897-64f6-4389-953b-ecfe823ddaf4",
   "metadata": {},
   "outputs": [
    {
     "name": "stdout",
     "output_type": "stream",
     "text": [
      "Mean of Net Sales Value 30466.336131270138\n",
      "Median of Net Sales Value 4677.788059301853\n",
      "Mode of Net Sales Value 0         326.974801\n",
      "1         330.822058\n",
      "2         466.350839\n",
      "3         485.317265\n",
      "4         496.607104\n",
      "           ...      \n",
      "445    162603.186379\n",
      "446    163915.971000\n",
      "447    163967.080070\n",
      "448    166263.161348\n",
      "449    179507.479049\n",
      "Name: Net Sales Value, Length: 450, dtype: float64\n",
      "Standard deviation of Net Sales Value 46358.656624066934\n"
     ]
    }
   ],
   "source": [
    "# descriptive statistics on Net Sales Value column\n",
    "print(\"Mean of Net Sales Value\",df[\"Net Sales Value\"].mean())\n",
    "print(\"Median of Net Sales Value\",df[\"Net Sales Value\"].median())\n",
    "print(\"Mode of Net Sales Value\",df[\"Net Sales Value\"].mode())\n",
    "print(\"Standard deviation of Net Sales Value\",df[\"Net Sales Value\"].std())"
   ]
  },
  {
   "cell_type": "code",
   "execution_count": 32,
   "id": "47e8cbbe-b9ce-4195-bf7e-38d437c9edd9",
   "metadata": {},
   "outputs": [],
   "source": [
    "# The mean represents the average value of a dataset.\n",
    "# The median is the middle value when data is sorted in ascending order.\n",
    "# The mode is the most commonly occurring value in a dataset.\n",
    "# standard deviation measures the spread or dispersion of data from the mean."
   ]
  },
  {
   "cell_type": "markdown",
   "id": "13aa368d-6e79-4922-bcae-9ae207fd3d41",
   "metadata": {},
   "source": [
    "# Data Visualization"
   ]
  },
  {
   "cell_type": "markdown",
   "id": "b138ce65-a7fd-432b-aa32-e3c709a68ba0",
   "metadata": {},
   "source": [
    "## Histograms"
   ]
  },
  {
   "cell_type": "code",
   "execution_count": 60,
   "id": "35e923c8-8813-4cbe-8fdf-38e6805746c3",
   "metadata": {},
   "outputs": [
    {
     "data": {
      "image/png": "[encoded data removed]",
      "text/plain": [
       "<Figure size 640x480 with 1 Axes>"
      ]
     },
     "metadata": {},
     "output_type": "display_data"
    },
    {
     "name": "stdout",
     "output_type": "stream",
     "text": [
      "Skewness 2.731723626557714\n",
      "It is Highly Right-Skewed Distribution, we can see outliers are present\n"
     ]
    }
   ],
   "source": [
    "# Histogram for volume column\n",
    "import matplotlib.pyplot as plt\n",
    "plt.hist(df[\"Volume\"])\n",
    "plt.title(\"Volume\")\n",
    "plt.show()\n",
    "print(\"Skewness\",df[\"Volume\"].skew())\n",
    "print(\"It is Highly Right-Skewed Distribution, we can see outliers are present\")"
   ]
  },
  {
   "cell_type": "code",
   "execution_count": 59,
   "id": "d032551e-cd4b-4786-a550-75413970f96c",
   "metadata": {},
   "outputs": [
    {
     "data": {
      "image/png": "[encoded data removed]",
      "text/plain": [
       "<Figure size 640x480 with 1 Axes>"
      ]
     },
     "metadata": {},
     "output_type": "display_data"
    },
    {
     "name": "stdout",
     "output_type": "stream",
     "text": [
      "Skewness 1.9088730767759727\n",
      "It is Highly Right-Skewed Distribution, we can see outliers are present.\n"
     ]
    }
   ],
   "source": [
    "# Histogram for Avg Price column\n",
    "import matplotlib.pyplot as plt\n",
    "plt.hist(df[\"Avg Price\"])\n",
    "plt.title(\"Avg Price\")\n",
    "plt.show()\n",
    "print(\"Skewness\",df[\"Avg Price\"].skew())\n",
    "print(\"It is Highly Right-Skewed Distribution, we can see outliers are present.\")"
   ]
  },
  {
   "cell_type": "code",
   "execution_count": 58,
   "id": "5a79980e-bea7-4a02-8af1-af0a050bd0ba",
   "metadata": {},
   "outputs": [
    {
     "data": {
      "image/png": "[encoded data removed]",
      "text/plain": [
       "<Figure size 640x480 with 1 Axes>"
      ]
     },
     "metadata": {},
     "output_type": "display_data"
    },
    {
     "name": "stdout",
     "output_type": "stream",
     "text": [
      "Skewness 1.5347293238977937\n",
      "It is Highly Right-Skewed Distribution, we can see outliers are present.\n"
     ]
    }
   ],
   "source": [
    "# Histogram for Total Sales Value column\n",
    "import matplotlib.pyplot as plt\n",
    "plt.hist(df[\"Total Sales Value\"])\n",
    "plt.title(\"Total Sales Value\")\n",
    "plt.show()\n",
    "print(\"Skewness\",df[\"Total Sales Value\"].skew())\n",
    "print(\"It is Highly Right-Skewed Distribution, we can see outliers are present.\")"
   ]
  },
  {
   "cell_type": "code",
   "execution_count": 57,
   "id": "f98526ae-da29-4525-bd0a-735a636f80ad",
   "metadata": {},
   "outputs": [
    {
     "data": {
      "image/png": "[encoded data removed]",
      "text/plain": [
       "<Figure size 640x480 with 1 Axes>"
      ]
     },
     "metadata": {},
     "output_type": "display_data"
    },
    {
     "name": "stdout",
     "output_type": "stream",
     "text": [
      "Skewness -1.0622943696988825\n",
      "It is Highly Left-Skewed Distribution, we can see outliers are present.\n"
     ]
    }
   ],
   "source": [
    "# Histogram for Discount Rate (%) column\n",
    "import matplotlib.pyplot as plt\n",
    "plt.hist(df[\"Discount Rate (%)\"])\n",
    "plt.title(\"Discount Rate (%)\")\n",
    "plt.show()\n",
    "print(\"Skewness\",df[\"Discount Rate (%)\"].skew())\n",
    "print(\"It is Highly Left-Skewed Distribution, we can see outliers are present.\")"
   ]
  },
  {
   "cell_type": "code",
   "execution_count": 56,
   "id": "101e5599-d39f-4f04-bb0c-bb798ac88225",
   "metadata": {},
   "outputs": [
    {
     "data": {
      "image/png": "[encoded data removed]",
      "text/plain": [
       "<Figure size 640x480 with 1 Axes>"
      ]
     },
     "metadata": {},
     "output_type": "display_data"
    },
    {
     "name": "stdout",
     "output_type": "stream",
     "text": [
      "Skewness 1.9130377339538271\n",
      "It is Highly Right-Skewed Distribution, we can see outliers are present.\n"
     ]
    }
   ],
   "source": [
    "# Histogram for Discount Amount column\n",
    "import matplotlib.pyplot as plt\n",
    "plt.hist(df[\"Discount Amount\"])\n",
    "plt.title(\"Discount Amount\")\n",
    "plt.show()\n",
    "print(\"Skewness\",df[\"Discount Amount\"].skew())\n",
    "print(\"It is Highly Right-Skewed Distribution, we can see outliers are present.\")"
   ]
  },
  {
   "cell_type": "code",
   "execution_count": 55,
   "id": "8ba65738-6f4e-4cdf-bd13-bc5251ff7988",
   "metadata": {},
   "outputs": [
    {
     "data": {
      "image/png": "[encoded data removed]",
      "text/plain": [
       "<Figure size 640x480 with 1 Axes>"
      ]
     },
     "metadata": {},
     "output_type": "display_data"
    },
    {
     "name": "stdout",
     "output_type": "stream",
     "text": [
      "Skewness 1.5408217575344376\n",
      "It is Highly Right-Skewed Distribution, we can see outliers are present.\n"
     ]
    }
   ],
   "source": [
    "# Histogram for Net Sales Value column\n",
    "import matplotlib.pyplot as plt\n",
    "plt.hist(df[\"Net Sales Value\"])\n",
    "plt.title(\"Net Sales Value\")\n",
    "plt.show()\n",
    "print(\"Skewness\",df[\"Net Sales Value\"].skew())\n",
    "print(\"It is Highly Right-Skewed Distribution, we can see outliers are present.\")"
   ]
  },
  {
   "cell_type": "markdown",
   "id": "4cbf95ed-24fe-428e-8bd6-8a6b9d130df8",
   "metadata": {},
   "source": [
    "# Boxplots"
   ]
  },
  {
   "cell_type": "code",
   "execution_count": 68,
   "id": "9df692b2-bb1c-41fc-95fa-9484abc27840",
   "metadata": {},
   "outputs": [
    {
     "data": {
      "image/png": "[encoded data removed]",
      "text/plain": [
       "<Figure size 640x480 with 1 Axes>"
      ]
     },
     "metadata": {},
     "output_type": "display_data"
    },
    {
     "name": "stdout",
     "output_type": "stream",
     "text": [
      "Outliers in Volume Column:\n",
      "            Date        Day  SKU City  Volume         BU   Brand  \\\n",
      "0    01-04-2021   Thursday  M01    C      15    Mobiles   RealU   \n",
      "10   01-04-2021   Thursday  F01    C      13       FMCG  Babaji   \n",
      "30   02-04-2021     Friday  M01    C      11    Mobiles   RealU   \n",
      "40   02-04-2021     Friday  F01    C      29       FMCG  Babaji   \n",
      "50   02-04-2021     Friday  L01    C      13  Lifestyle   Jeera   \n",
      "70   03-04-2021   Saturday  F01    C      24       FMCG  Babaji   \n",
      "71   03-04-2021   Saturday  F02    C      14       FMCG   Vedic   \n",
      "80   03-04-2021   Saturday  L01    C      12  Lifestyle   Jeera   \n",
      "100  04-04-2021     Sunday  F01    C      25       FMCG  Babaji   \n",
      "101  04-04-2021     Sunday  F02    C      15       FMCG   Vedic   \n",
      "102  04-04-2021     Sunday  F03    C      11       FMCG   Vedic   \n",
      "130  05-04-2021     Monday  F01    C      15       FMCG  Babaji   \n",
      "140  05-04-2021     Monday  L01    C      14  Lifestyle   Jeera   \n",
      "161  06-04-2021    Tuesday  F02    C      12       FMCG   Vedic   \n",
      "170  06-04-2021    Tuesday  L01    C      12  Lifestyle   Jeera   \n",
      "180  07-04-2021  Wednesday  M01    C      12    Mobiles   RealU   \n",
      "190  07-04-2021  Wednesday  F01    C      22       FMCG  Babaji   \n",
      "192  07-04-2021  Wednesday  F03    C      11       FMCG   Vedic   \n",
      "193  07-04-2021  Wednesday  F04    C      11       FMCG  Babaji   \n",
      "200  07-04-2021  Wednesday  L01    C      12  Lifestyle   Jeera   \n",
      "201  07-04-2021  Wednesday  L02    C      12  Lifestyle   Jeera   \n",
      "210  08-04-2021   Thursday  M01    C      14    Mobiles   RealU   \n",
      "221  08-04-2021   Thursday  F02    C      11       FMCG   Vedic   \n",
      "222  08-04-2021   Thursday  F03    C      11       FMCG   Vedic   \n",
      "240  09-04-2021     Friday  M01    C      15    Mobiles   RealU   \n",
      "250  09-04-2021     Friday  F01    C      31       FMCG  Babaji   \n",
      "251  09-04-2021     Friday  F02    C      12       FMCG   Vedic   \n",
      "260  09-04-2021     Friday  L01    C      16  Lifestyle   Jeera   \n",
      "280  10-04-2021   Saturday  F01    C      24       FMCG  Babaji   \n",
      "281  10-04-2021   Saturday  F02    C      11       FMCG   Vedic   \n",
      "282  10-04-2021   Saturday  F03    C      12       FMCG   Vedic   \n",
      "300  11-04-2021     Sunday  M01    C      12    Mobiles   RealU   \n",
      "310  11-04-2021     Sunday  F01    C      22       FMCG  Babaji   \n",
      "312  11-04-2021     Sunday  F03    C      11       FMCG   Vedic   \n",
      "320  11-04-2021     Sunday  L01    C      13  Lifestyle   Jeera   \n",
      "340  12-04-2021     Monday  F01    C      15       FMCG  Babaji   \n",
      "350  12-04-2021     Monday  L01    C      12  Lifestyle   Jeera   \n",
      "370  13-04-2021    Tuesday  F01    C      14       FMCG  Babaji   \n",
      "371  13-04-2021    Tuesday  F02    C      14       FMCG   Vedic   \n",
      "390  14-04-2021  Wednesday  M01    C      11    Mobiles   RealU   \n",
      "400  14-04-2021  Wednesday  F01    C      29       FMCG  Babaji   \n",
      "410  14-04-2021  Wednesday  L01    C      15  Lifestyle   Jeera   \n",
      "420  15-04-2021   Thursday  M01    C      13    Mobiles   RealU   \n",
      "431  15-04-2021   Thursday  F02    C      17       FMCG   Vedic   \n",
      "\n",
      "              Model  Avg Price  Total Sales Value  Discount Rate (%)  \\\n",
      "0             RU-10      12100             181500          11.654820   \n",
      "10      Babaji Oil         400               5200          18.869242   \n",
      "30            RU-10      12100             133100          13.107140   \n",
      "40      Babaji Oil         400              11600          19.688074   \n",
      "50      M- T Shirts        450               5850          17.683466   \n",
      "70      Babaji Oil         400               9600          17.050297   \n",
      "71      Vedic Cream        300               4200          16.988645   \n",
      "80      M- T Shirts        450               5400          19.189871   \n",
      "100     Babaji Oil         400              10000          17.932275   \n",
      "101     Vedic Cream        300               4500          17.216944   \n",
      "102   Vedic Shampoo        390               4290          16.530116   \n",
      "130     Babaji Oil         400               6000          17.712694   \n",
      "140     M- T Shirts        450               6300          17.194704   \n",
      "161     Vedic Cream        300               3600          16.297070   \n",
      "170     M- T Shirts        450               5400          16.425246   \n",
      "180           RU-10      12100             145200          11.830807   \n",
      "190     Babaji Oil         400               8800          18.182749   \n",
      "192   Vedic Shampoo        390               4290          18.922545   \n",
      "193  Babaji Shampoo        465               5115          19.281035   \n",
      "200     M- T Shirts        450               5400          19.712828   \n",
      "201       M- Inners        500               6000          17.641355   \n",
      "210           RU-10      12100             169400          14.951726   \n",
      "221     Vedic Cream        300               3300          18.238804   \n",
      "222   Vedic Shampoo        390               4290          19.290096   \n",
      "240           RU-10      12100             181500          14.180728   \n",
      "250     Babaji Oil         400              12400          17.383934   \n",
      "251     Vedic Cream        300               3600          18.196072   \n",
      "260     M- T Shirts        450               7200          19.140817   \n",
      "280     Babaji Oil         400               9600          19.358681   \n",
      "281     Vedic Cream        300               3300          16.989392   \n",
      "282   Vedic Shampoo        390               4680          17.486581   \n",
      "300           RU-10      12100             145200          14.804873   \n",
      "310     Babaji Oil         400               8800          18.188508   \n",
      "312   Vedic Shampoo        390               4290          16.385585   \n",
      "320     M- T Shirts        450               5850          15.184209   \n",
      "340     Babaji Oil         400               6000          17.944984   \n",
      "350     M- T Shirts        450               5400          18.866665   \n",
      "370     Babaji Oil         400               5600          15.777250   \n",
      "371     Vedic Cream        300               4200          15.229304   \n",
      "390           RU-10      12100             133100          12.185270   \n",
      "400     Babaji Oil         400              11600          15.042477   \n",
      "410     M- T Shirts        450               6750          15.306007   \n",
      "420           RU-10      12100             157300          10.161940   \n",
      "431     Vedic Cream        300               5100          19.965340   \n",
      "\n",
      "     Discount Amount  Net Sales Value  \n",
      "0       21153.498820    160346.501180  \n",
      "10        981.200566      4218.799434  \n",
      "30      17445.603828    115654.396172  \n",
      "40       2283.816576      9316.183424  \n",
      "50       1034.482784      4815.517216  \n",
      "70       1636.828489      7963.171511  \n",
      "71        713.523101      3486.476899  \n",
      "80       1036.253018      4363.746982  \n",
      "100      1793.227484      8206.772516  \n",
      "101       774.762458      3725.237542  \n",
      "102       709.141968      3580.858032  \n",
      "130      1062.761662      4937.238338  \n",
      "140      1083.266375      5216.733625  \n",
      "161       586.694505      3013.305495  \n",
      "170       886.963270      4513.036730  \n",
      "180     17178.331859    128021.668141  \n",
      "190      1600.081938      7199.918062  \n",
      "192       811.777194      3478.222806  \n",
      "193       986.224922      4128.775078  \n",
      "200      1064.492701      4335.507299  \n",
      "201      1058.481301      4941.518699  \n",
      "210     25328.224204    144071.775796  \n",
      "221       601.880526      2698.119474  \n",
      "222       827.545139      3462.454861  \n",
      "240     25738.022194    155761.977806  \n",
      "250      2155.607868     10244.392132  \n",
      "251       655.058578      2944.941422  \n",
      "260      1378.138849      5821.861151  \n",
      "280      1858.433334      7741.566666  \n",
      "281       560.649939      2739.350061  \n",
      "282       818.372014      3861.627986  \n",
      "300     21496.675367    123703.324633  \n",
      "310      1600.588711      7199.411289  \n",
      "312       702.941600      3587.058400  \n",
      "320       888.276213      4961.723787  \n",
      "340      1076.699017      4923.300983  \n",
      "350      1018.799918      4381.200082  \n",
      "370       883.525992      4716.474008  \n",
      "371       639.630787      3560.369213  \n",
      "390     16218.594720    116881.405280  \n",
      "400      1744.927347      9855.072653  \n",
      "410      1033.155453      5716.844547  \n",
      "420     15984.732281    141315.267719  \n",
      "431      1018.232342      4081.767658  \n",
      "outliers are prsent, wider box indicates higher variability\n"
     ]
    }
   ],
   "source": [
    "# box plot for volume\n",
    "plt.boxplot(df[\"Volume\"])\n",
    "plt.show()\n",
    "Q1 = df[\"Volume\"].quantile(0.25)\n",
    "Q3 = df[\"Volume\"].quantile(0.75)\n",
    "IQR = Q3 - Q1\n",
    "\n",
    "lower_bound = Q1 - 1.5 * IQR\n",
    "upper_bound = Q3 + 1.5 * IQR\n",
    "\n",
    "outliers = df[(df[\"Volume\"] < lower_bound) | (df[\"Volume\"] > upper_bound)]\n",
    "print(\"Outliers in Volume Column:\\n\", outliers)\n",
    "print(\"outliers are prsent, wider box indicates higher variability\")"
   ]
  },
  {
   "cell_type": "code",
   "execution_count": 70,
   "id": "d88fe08f-807b-4f11-a69d-d5a8a1eaef24",
   "metadata": {},
   "outputs": [
    {
     "data": {
      "image/png": "[encoded data removed]",
      "text/plain": [
       "<Figure size 640x480 with 1 Axes>"
      ]
     },
     "metadata": {},
     "output_type": "display_data"
    },
    {
     "name": "stdout",
     "output_type": "stream",
     "text": [
      "Outliers in Avg Price Column:\n",
      "            Date        Day  SKU City  Volume       BU    Brand Model  \\\n",
      "6    01-04-2021   Thursday  M07    C       3  Mobiles  Sumsang  S-20   \n",
      "7    01-04-2021   Thursday  M08    C       2  Mobiles  Sumsang  S-21   \n",
      "8    01-04-2021   Thursday  M09    C       2  Mobiles   Orange  O-10   \n",
      "9    01-04-2021   Thursday  M10    C       3  Mobiles   Orange  O-11   \n",
      "36   02-04-2021     Friday  M07    C       3  Mobiles  Sumsang  S-20   \n",
      "37   02-04-2021     Friday  M08    C       1  Mobiles  Sumsang  S-21   \n",
      "38   02-04-2021     Friday  M09    C       3  Mobiles   Orange  O-10   \n",
      "39   02-04-2021     Friday  M10    C       3  Mobiles   Orange  O-11   \n",
      "66   03-04-2021   Saturday  M07    C       4  Mobiles  Sumsang  S-20   \n",
      "67   03-04-2021   Saturday  M08    C       1  Mobiles  Sumsang  S-21   \n",
      "68   03-04-2021   Saturday  M09    C       1  Mobiles   Orange  O-10   \n",
      "69   03-04-2021   Saturday  M10    C       2  Mobiles   Orange  O-11   \n",
      "96   04-04-2021     Sunday  M07    C       3  Mobiles  Sumsang  S-20   \n",
      "97   04-04-2021     Sunday  M08    C       2  Mobiles  Sumsang  S-21   \n",
      "98   04-04-2021     Sunday  M09    C       2  Mobiles   Orange  O-10   \n",
      "99   04-04-2021     Sunday  M10    C       2  Mobiles   Orange  O-11   \n",
      "126  05-04-2021     Monday  M07    C       3  Mobiles  Sumsang  S-20   \n",
      "127  05-04-2021     Monday  M08    C       3  Mobiles  Sumsang  S-21   \n",
      "128  05-04-2021     Monday  M09    C       2  Mobiles   Orange  O-10   \n",
      "129  05-04-2021     Monday  M10    C       2  Mobiles   Orange  O-11   \n",
      "156  06-04-2021    Tuesday  M07    C       2  Mobiles  Sumsang  S-20   \n",
      "157  06-04-2021    Tuesday  M08    C       3  Mobiles  Sumsang  S-21   \n",
      "158  06-04-2021    Tuesday  M09    C       2  Mobiles   Orange  O-10   \n",
      "159  06-04-2021    Tuesday  M10    C       2  Mobiles   Orange  O-11   \n",
      "186  07-04-2021  Wednesday  M07    C       3  Mobiles  Sumsang  S-20   \n",
      "187  07-04-2021  Wednesday  M08    C       3  Mobiles  Sumsang  S-21   \n",
      "188  07-04-2021  Wednesday  M09    C       3  Mobiles   Orange  O-10   \n",
      "189  07-04-2021  Wednesday  M10    C       3  Mobiles   Orange  O-11   \n",
      "216  08-04-2021   Thursday  M07    C       3  Mobiles  Sumsang  S-20   \n",
      "217  08-04-2021   Thursday  M08    C       2  Mobiles  Sumsang  S-21   \n",
      "218  08-04-2021   Thursday  M09    C       2  Mobiles   Orange  O-10   \n",
      "219  08-04-2021   Thursday  M10    C       1  Mobiles   Orange  O-11   \n",
      "246  09-04-2021     Friday  M07    C       3  Mobiles  Sumsang  S-20   \n",
      "247  09-04-2021     Friday  M08    C       2  Mobiles  Sumsang  S-21   \n",
      "248  09-04-2021     Friday  M09    C       2  Mobiles   Orange  O-10   \n",
      "249  09-04-2021     Friday  M10    C       1  Mobiles   Orange  O-11   \n",
      "276  10-04-2021   Saturday  M07    C       2  Mobiles  Sumsang  S-20   \n",
      "277  10-04-2021   Saturday  M08    C       2  Mobiles  Sumsang  S-21   \n",
      "278  10-04-2021   Saturday  M09    C       3  Mobiles   Orange  O-10   \n",
      "279  10-04-2021   Saturday  M10    C       2  Mobiles   Orange  O-11   \n",
      "306  11-04-2021     Sunday  M07    C       3  Mobiles  Sumsang  S-20   \n",
      "307  11-04-2021     Sunday  M08    C       1  Mobiles  Sumsang  S-21   \n",
      "308  11-04-2021     Sunday  M09    C       3  Mobiles   Orange  O-10   \n",
      "309  11-04-2021     Sunday  M10    C       3  Mobiles   Orange  O-11   \n",
      "336  12-04-2021     Monday  M07    C       2  Mobiles  Sumsang  S-20   \n",
      "337  12-04-2021     Monday  M08    C       1  Mobiles  Sumsang  S-21   \n",
      "338  12-04-2021     Monday  M09    C       3  Mobiles   Orange  O-10   \n",
      "339  12-04-2021     Monday  M10    C       3  Mobiles   Orange  O-11   \n",
      "366  13-04-2021    Tuesday  M07    C       3  Mobiles  Sumsang  S-20   \n",
      "367  13-04-2021    Tuesday  M08    C       1  Mobiles  Sumsang  S-21   \n",
      "368  13-04-2021    Tuesday  M09    C       2  Mobiles   Orange  O-10   \n",
      "369  13-04-2021    Tuesday  M10    C       2  Mobiles   Orange  O-11   \n",
      "396  14-04-2021  Wednesday  M07    C       3  Mobiles  Sumsang  S-20   \n",
      "397  14-04-2021  Wednesday  M08    C       2  Mobiles  Sumsang  S-21   \n",
      "398  14-04-2021  Wednesday  M09    C       2  Mobiles   Orange  O-10   \n",
      "399  14-04-2021  Wednesday  M10    C       2  Mobiles   Orange  O-11   \n",
      "426  15-04-2021   Thursday  M07    C       3  Mobiles  Sumsang  S-20   \n",
      "427  15-04-2021   Thursday  M08    C       1  Mobiles  Sumsang  S-21   \n",
      "428  15-04-2021   Thursday  M09    C       3  Mobiles   Orange  O-10   \n",
      "429  15-04-2021   Thursday  M10    C       2  Mobiles   Orange  O-11   \n",
      "\n",
      "     Avg Price  Total Sales Value  Discount Rate (%)  Discount Amount  \\\n",
      "6        49100             147300           9.228812     13594.039719   \n",
      "7        54100             108200           5.553719      6009.124321   \n",
      "8        55100             110200           7.410104      8165.935144   \n",
      "9        60100             180300           9.928444     17900.983733   \n",
      "36       49100             147300           5.252113      7736.361785   \n",
      "37       54100              54100           9.238957      4998.275920   \n",
      "38       55100             165300           8.440206     13951.660194   \n",
      "39       60100             180300           9.087093     16384.029009   \n",
      "66       49100             196400           8.601080     16892.520951   \n",
      "67       54100              54100           7.621791      4123.388908   \n",
      "68       55100              55100           8.907134      4907.831044   \n",
      "69       60100             120200           5.007822      6019.402271   \n",
      "96       49100             147300           8.569249     12622.503658   \n",
      "97       54100             108200           7.823774      8465.323381   \n",
      "98       55100             110200           6.710454      7394.919797   \n",
      "99       60100             120200           6.095201      7326.432131   \n",
      "126      49100             147300           8.532278     12568.045375   \n",
      "127      54100             162300           5.935084      9632.641646   \n",
      "128      55100             110200           7.584591      8358.218883   \n",
      "129      60100             120200           9.086088     10921.477545   \n",
      "156      49100              98200           5.420507      5322.937541   \n",
      "157      54100             162300           6.849976     11117.510467   \n",
      "158      55100             110200           8.412626      9270.714384   \n",
      "159      60100             120200           7.256696      8722.548075   \n",
      "186      49100             147300           8.658225     12753.565958   \n",
      "187      54100             162300           7.178726     11651.072134   \n",
      "188      55100             165300           8.469412     13999.938499   \n",
      "189      60100             180300           9.815204     17696.813621   \n",
      "216      49100             147300           9.238451     13608.238319   \n",
      "217      54100             108200           9.666082     10458.701040   \n",
      "218      55100             110200           5.059801      5575.901007   \n",
      "219      60100              60100           9.549832      5739.449195   \n",
      "246      49100             147300           7.341874     10814.580909   \n",
      "247      54100             108200           9.771367     10572.619600   \n",
      "248      55100             110200           6.473305      7133.581785   \n",
      "249      60100              60100           6.439920      3870.391896   \n",
      "276      49100              98200           7.802861      7662.409395   \n",
      "277      54100             108200           9.835773     10642.306626   \n",
      "278      55100             165300           6.268914     10362.514525   \n",
      "279      60100             120200           6.819111      8196.571017   \n",
      "306      49100             147300           8.394469     12365.053308   \n",
      "307      54100              54100           6.106931      3303.849511   \n",
      "308      55100             165300           6.508719     10758.912635   \n",
      "309      60100             180300           9.058746     16332.919930   \n",
      "336      49100              98200           6.066192      5957.000464   \n",
      "337      54100              54100           9.791440      5297.169083   \n",
      "338      55100             165300           5.084108      8404.031228   \n",
      "339      60100             180300           7.785268     14036.838652   \n",
      "366      49100             147300           9.012750     13275.780741   \n",
      "367      54100              54100           9.350886      5058.829275   \n",
      "368      55100             110200           6.326892      6972.234645   \n",
      "369      60100             120200           9.766900     11739.813979   \n",
      "396      49100             147300           9.085015     13382.227333   \n",
      "397      54100             108200           5.055218      5469.746322   \n",
      "398      55100             110200           5.411802      5963.806009   \n",
      "399      60100             120200           5.511042      6624.272870   \n",
      "426      49100             147300           6.008200      8850.077961   \n",
      "427      54100              54100           6.642595      3593.644076   \n",
      "428      55100             165300           5.425911      8969.030110   \n",
      "429      60100             120200           8.440679     10145.695959   \n",
      "\n",
      "     Net Sales Value  \n",
      "6      133705.960281  \n",
      "7      102190.875679  \n",
      "8      102034.064856  \n",
      "9      162399.016267  \n",
      "36     139563.638215  \n",
      "37      49101.724080  \n",
      "38     151348.339806  \n",
      "39     163915.971000  \n",
      "66     179507.479049  \n",
      "67      49976.611092  \n",
      "68      50192.168956  \n",
      "69     114180.597729  \n",
      "96     134677.496342  \n",
      "97      99734.676619  \n",
      "98     102805.080203  \n",
      "99     112873.567869  \n",
      "126    134731.954625  \n",
      "127    152667.358354  \n",
      "128    101841.781117  \n",
      "129    109278.522455  \n",
      "156     92877.062460  \n",
      "157    151182.489533  \n",
      "158    100929.285616  \n",
      "159    111477.451925  \n",
      "186    134546.434042  \n",
      "187    150648.927866  \n",
      "188    151300.061501  \n",
      "189    162603.186379  \n",
      "216    133691.761681  \n",
      "217     97741.298960  \n",
      "218    104624.098993  \n",
      "219     54360.550805  \n",
      "246    136485.419091  \n",
      "247     97627.380400  \n",
      "248    103066.418215  \n",
      "249     56229.608104  \n",
      "276     90537.590605  \n",
      "277     97557.693374  \n",
      "278    154937.485475  \n",
      "279    112003.428983  \n",
      "306    134934.946692  \n",
      "307     50796.150489  \n",
      "308    154541.087365  \n",
      "309    163967.080070  \n",
      "336     92242.999536  \n",
      "337     48802.830917  \n",
      "338    156895.968772  \n",
      "339    166263.161348  \n",
      "366    134024.219259  \n",
      "367     49041.170725  \n",
      "368    103227.765355  \n",
      "369    108460.186021  \n",
      "396    133917.772667  \n",
      "397    102730.253678  \n",
      "398    104236.193991  \n",
      "399    113575.727130  \n",
      "426    138449.922039  \n",
      "427     50506.355924  \n",
      "428    156330.969890  \n",
      "429    110054.304041  \n",
      "outliers are prsent, wider box indicates higher variability\n"
     ]
    }
   ],
   "source": [
    "# box plot for Avg Price\n",
    "plt.boxplot(df[\"Avg Price\"])\n",
    "plt.show()\n",
    "Q1 = df[\"Avg Price\"].quantile(0.25)\n",
    "Q3 = df[\"Avg Price\"].quantile(0.75)\n",
    "IQR = Q3 - Q1\n",
    "\n",
    "lower_bound = Q1 - 1.5 * IQR\n",
    "upper_bound = Q3 + 1.5 * IQR\n",
    "\n",
    "outliers = df[(df[\"Avg Price\"] < lower_bound) | (df[\"Avg Price\"] > upper_bound)]\n",
    "print(\"Outliers in Avg Price Column:\\n\", outliers)\n",
    "print(\"outliers are prsent, wider box indicates higher variability\")"
   ]
  },
  {
   "cell_type": "code",
   "execution_count": 71,
   "id": "ad892dca-c701-4270-badd-e348dab8605f",
   "metadata": {},
   "outputs": [
    {
     "data": {
      "image/png": "[encoded data removed]",
      "text/plain": [
       "<Figure size 640x480 with 1 Axes>"
      ]
     },
     "metadata": {},
     "output_type": "display_data"
    },
    {
     "name": "stdout",
     "output_type": "stream",
     "text": [
      "Outliers in Total Sales Value Column:\n",
      "            Date        Day  SKU City  Volume       BU    Brand       Model  \\\n",
      "0    01-04-2021   Thursday  M01    C      15  Mobiles    RealU       RU-10   \n",
      "6    01-04-2021   Thursday  M07    C       3  Mobiles  Sumsang        S-20   \n",
      "9    01-04-2021   Thursday  M10    C       3  Mobiles   Orange        O-11   \n",
      "30   02-04-2021     Friday  M01    C      11  Mobiles    RealU       RU-10   \n",
      "36   02-04-2021     Friday  M07    C       3  Mobiles  Sumsang        S-20   \n",
      "38   02-04-2021     Friday  M09    C       3  Mobiles   Orange        O-10   \n",
      "39   02-04-2021     Friday  M10    C       3  Mobiles   Orange        O-11   \n",
      "66   03-04-2021   Saturday  M07    C       4  Mobiles  Sumsang        S-20   \n",
      "96   04-04-2021     Sunday  M07    C       3  Mobiles  Sumsang        S-20   \n",
      "126  05-04-2021     Monday  M07    C       3  Mobiles  Sumsang        S-20   \n",
      "127  05-04-2021     Monday  M08    C       3  Mobiles  Sumsang        S-21   \n",
      "157  06-04-2021    Tuesday  M08    C       3  Mobiles  Sumsang        S-21   \n",
      "180  07-04-2021  Wednesday  M01    C      12  Mobiles    RealU       RU-10   \n",
      "186  07-04-2021  Wednesday  M07    C       3  Mobiles  Sumsang        S-20   \n",
      "187  07-04-2021  Wednesday  M08    C       3  Mobiles  Sumsang        S-21   \n",
      "188  07-04-2021  Wednesday  M09    C       3  Mobiles   Orange        O-10   \n",
      "189  07-04-2021  Wednesday  M10    C       3  Mobiles   Orange        O-11   \n",
      "210  08-04-2021   Thursday  M01    C      14  Mobiles    RealU       RU-10   \n",
      "216  08-04-2021   Thursday  M07    C       3  Mobiles  Sumsang        S-20   \n",
      "240  09-04-2021     Friday  M01    C      15  Mobiles    RealU       RU-10   \n",
      "243  09-04-2021     Friday  M04    C       7  Mobiles     YouM  YM-99 Plus   \n",
      "246  09-04-2021     Friday  M07    C       3  Mobiles  Sumsang        S-20   \n",
      "278  10-04-2021   Saturday  M09    C       3  Mobiles   Orange        O-10   \n",
      "300  11-04-2021     Sunday  M01    C      12  Mobiles    RealU       RU-10   \n",
      "306  11-04-2021     Sunday  M07    C       3  Mobiles  Sumsang        S-20   \n",
      "308  11-04-2021     Sunday  M09    C       3  Mobiles   Orange        O-10   \n",
      "309  11-04-2021     Sunday  M10    C       3  Mobiles   Orange        O-11   \n",
      "338  12-04-2021     Monday  M09    C       3  Mobiles   Orange        O-10   \n",
      "339  12-04-2021     Monday  M10    C       3  Mobiles   Orange        O-11   \n",
      "363  13-04-2021    Tuesday  M04    C       7  Mobiles     YouM  YM-99 Plus   \n",
      "366  13-04-2021    Tuesday  M07    C       3  Mobiles  Sumsang        S-20   \n",
      "390  14-04-2021  Wednesday  M01    C      11  Mobiles    RealU       RU-10   \n",
      "396  14-04-2021  Wednesday  M07    C       3  Mobiles  Sumsang        S-20   \n",
      "420  15-04-2021   Thursday  M01    C      13  Mobiles    RealU       RU-10   \n",
      "426  15-04-2021   Thursday  M07    C       3  Mobiles  Sumsang        S-20   \n",
      "428  15-04-2021   Thursday  M09    C       3  Mobiles   Orange        O-10   \n",
      "\n",
      "     Avg Price  Total Sales Value  Discount Rate (%)  Discount Amount  \\\n",
      "0        12100             181500          11.654820     21153.498820   \n",
      "6        49100             147300           9.228812     13594.039719   \n",
      "9        60100             180300           9.928444     17900.983733   \n",
      "30       12100             133100          13.107140     17445.603828   \n",
      "36       49100             147300           5.252113      7736.361785   \n",
      "38       55100             165300           8.440206     13951.660194   \n",
      "39       60100             180300           9.087093     16384.029009   \n",
      "66       49100             196400           8.601080     16892.520951   \n",
      "96       49100             147300           8.569249     12622.503658   \n",
      "126      49100             147300           8.532278     12568.045375   \n",
      "127      54100             162300           5.935084      9632.641646   \n",
      "157      54100             162300           6.849976     11117.510467   \n",
      "180      12100             145200          11.830807     17178.331859   \n",
      "186      49100             147300           8.658225     12753.565958   \n",
      "187      54100             162300           7.178726     11651.072134   \n",
      "188      55100             165300           8.469412     13999.938499   \n",
      "189      60100             180300           9.815204     17696.813621   \n",
      "210      12100             169400          14.951726     25328.224204   \n",
      "216      49100             147300           9.238451     13608.238319   \n",
      "240      12100             181500          14.180728     25738.022194   \n",
      "243      20100             140700           7.208363     10142.166673   \n",
      "246      49100             147300           7.341874     10814.580909   \n",
      "278      55100             165300           6.268914     10362.514525   \n",
      "300      12100             145200          14.804873     21496.675367   \n",
      "306      49100             147300           8.394469     12365.053308   \n",
      "308      55100             165300           6.508719     10758.912635   \n",
      "309      60100             180300           9.058746     16332.919930   \n",
      "338      55100             165300           5.084108      8404.031228   \n",
      "339      60100             180300           7.785268     14036.838652   \n",
      "363      20100             140700           9.050468     12734.009012   \n",
      "366      49100             147300           9.012750     13275.780741   \n",
      "390      12100             133100          12.185270     16218.594720   \n",
      "396      49100             147300           9.085015     13382.227333   \n",
      "420      12100             157300          10.161940     15984.732281   \n",
      "426      49100             147300           6.008200      8850.077961   \n",
      "428      55100             165300           5.425911      8969.030110   \n",
      "\n",
      "     Net Sales Value  \n",
      "0      160346.501180  \n",
      "6      133705.960281  \n",
      "9      162399.016267  \n",
      "30     115654.396172  \n",
      "36     139563.638215  \n",
      "38     151348.339806  \n",
      "39     163915.971000  \n",
      "66     179507.479049  \n",
      "96     134677.496342  \n",
      "126    134731.954625  \n",
      "127    152667.358354  \n",
      "157    151182.489533  \n",
      "180    128021.668141  \n",
      "186    134546.434042  \n",
      "187    150648.927866  \n",
      "188    151300.061501  \n",
      "189    162603.186379  \n",
      "210    144071.775796  \n",
      "216    133691.761681  \n",
      "240    155761.977806  \n",
      "243    130557.833327  \n",
      "246    136485.419091  \n",
      "278    154937.485475  \n",
      "300    123703.324633  \n",
      "306    134934.946692  \n",
      "308    154541.087365  \n",
      "309    163967.080070  \n",
      "338    156895.968772  \n",
      "339    166263.161348  \n",
      "363    127965.990988  \n",
      "366    134024.219259  \n",
      "390    116881.405280  \n",
      "396    133917.772667  \n",
      "420    141315.267719  \n",
      "426    138449.922039  \n",
      "428    156330.969890  \n",
      "outliers are prsent, wider box indicates higher variability\n"
     ]
    }
   ],
   "source": [
    "# box plot for Total Sales Value\n",
    "plt.boxplot(df[\"Total Sales Value\"])\n",
    "plt.show()\n",
    "Q1 = df[\"Total Sales Value\"].quantile(0.25)\n",
    "Q3 = df[\"Total Sales Value\"].quantile(0.75)\n",
    "IQR = Q3 - Q1\n",
    "\n",
    "lower_bound = Q1 - 1.5 * IQR\n",
    "upper_bound = Q3 + 1.5 * IQR\n",
    "\n",
    "outliers = df[(df[\"Total Sales Value\"] < lower_bound) | (df[\"Total Sales Value\"] > upper_bound)]\n",
    "print(\"Outliers in Total Sales Value Column:\\n\", outliers)\n",
    "print(\"outliers are prsent, wider box indicates higher variability\")"
   ]
  },
  {
   "cell_type": "code",
   "execution_count": 72,
   "id": "770e2d74-80d4-4c26-ad3a-6b37a010fa04",
   "metadata": {},
   "outputs": [
    {
     "data": {
      "image/png": "[encoded data removed]",
      "text/plain": [
       "<Figure size 640x480 with 1 Axes>"
      ]
     },
     "metadata": {},
     "output_type": "display_data"
    },
    {
     "name": "stdout",
     "output_type": "stream",
     "text": [
      "Outliers in Discount Rate (%) Column:\n",
      "            Date        Day  SKU City  Volume       BU    Brand       Model  \\\n",
      "3    01-04-2021   Thursday  M04    C       6  Mobiles     YouM  YM-99 Plus   \n",
      "7    01-04-2021   Thursday  M08    C       2  Mobiles  Sumsang        S-21   \n",
      "8    01-04-2021   Thursday  M09    C       2  Mobiles   Orange        O-10   \n",
      "33   02-04-2021     Friday  M04    C       6  Mobiles     YouM  YM-99 Plus   \n",
      "36   02-04-2021     Friday  M07    C       3  Mobiles  Sumsang        S-20   \n",
      "67   03-04-2021   Saturday  M08    C       1  Mobiles  Sumsang        S-21   \n",
      "69   03-04-2021   Saturday  M10    C       2  Mobiles   Orange        O-11   \n",
      "93   04-04-2021     Sunday  M04    C       6  Mobiles     YouM  YM-99 Plus   \n",
      "98   04-04-2021     Sunday  M09    C       2  Mobiles   Orange        O-10   \n",
      "99   04-04-2021     Sunday  M10    C       2  Mobiles   Orange        O-11   \n",
      "127  05-04-2021     Monday  M08    C       3  Mobiles  Sumsang        S-21   \n",
      "128  05-04-2021     Monday  M09    C       2  Mobiles   Orange        O-10   \n",
      "152  06-04-2021    Tuesday  M03    C       4  Mobiles     YouM       YM-99   \n",
      "153  06-04-2021    Tuesday  M04    C       6  Mobiles     YouM  YM-99 Plus   \n",
      "156  06-04-2021    Tuesday  M07    C       2  Mobiles  Sumsang        S-20   \n",
      "157  06-04-2021    Tuesday  M08    C       3  Mobiles  Sumsang        S-21   \n",
      "159  06-04-2021    Tuesday  M10    C       2  Mobiles   Orange        O-11   \n",
      "187  07-04-2021  Wednesday  M08    C       3  Mobiles  Sumsang        S-21   \n",
      "212  08-04-2021   Thursday  M03    C       7  Mobiles     YouM       YM-99   \n",
      "213  08-04-2021   Thursday  M04    C       5  Mobiles     YouM  YM-99 Plus   \n",
      "218  08-04-2021   Thursday  M09    C       2  Mobiles   Orange        O-10   \n",
      "242  09-04-2021     Friday  M03    C       7  Mobiles     YouM       YM-99   \n",
      "243  09-04-2021     Friday  M04    C       7  Mobiles     YouM  YM-99 Plus   \n",
      "246  09-04-2021     Friday  M07    C       3  Mobiles  Sumsang        S-20   \n",
      "248  09-04-2021     Friday  M09    C       2  Mobiles   Orange        O-10   \n",
      "249  09-04-2021     Friday  M10    C       1  Mobiles   Orange        O-11   \n",
      "273  10-04-2021   Saturday  M04    C       5  Mobiles     YouM  YM-99 Plus   \n",
      "278  10-04-2021   Saturday  M09    C       3  Mobiles   Orange        O-10   \n",
      "279  10-04-2021   Saturday  M10    C       2  Mobiles   Orange        O-11   \n",
      "302  11-04-2021     Sunday  M03    C       6  Mobiles     YouM       YM-99   \n",
      "303  11-04-2021     Sunday  M04    C       4  Mobiles     YouM  YM-99 Plus   \n",
      "307  11-04-2021     Sunday  M08    C       1  Mobiles  Sumsang        S-21   \n",
      "308  11-04-2021     Sunday  M09    C       3  Mobiles   Orange        O-10   \n",
      "336  12-04-2021     Monday  M07    C       2  Mobiles  Sumsang        S-20   \n",
      "338  12-04-2021     Monday  M09    C       3  Mobiles   Orange        O-10   \n",
      "368  13-04-2021    Tuesday  M09    C       2  Mobiles   Orange        O-10   \n",
      "393  14-04-2021  Wednesday  M04    C       3  Mobiles     YouM  YM-99 Plus   \n",
      "397  14-04-2021  Wednesday  M08    C       2  Mobiles  Sumsang        S-21   \n",
      "398  14-04-2021  Wednesday  M09    C       2  Mobiles   Orange        O-10   \n",
      "399  14-04-2021  Wednesday  M10    C       2  Mobiles   Orange        O-11   \n",
      "422  15-04-2021   Thursday  M03    C       4  Mobiles     YouM       YM-99   \n",
      "423  15-04-2021   Thursday  M04    C       5  Mobiles     YouM  YM-99 Plus   \n",
      "426  15-04-2021   Thursday  M07    C       3  Mobiles  Sumsang        S-20   \n",
      "427  15-04-2021   Thursday  M08    C       1  Mobiles  Sumsang        S-21   \n",
      "428  15-04-2021   Thursday  M09    C       3  Mobiles   Orange        O-10   \n",
      "\n",
      "     Avg Price  Total Sales Value  Discount Rate (%)  Discount Amount  \\\n",
      "3        20100             120600           6.935385      8364.074702   \n",
      "7        54100             108200           5.553719      6009.124321   \n",
      "8        55100             110200           7.410104      8165.935144   \n",
      "33       20100             120600           6.214888      7495.155171   \n",
      "36       49100             147300           5.252113      7736.361785   \n",
      "67       54100              54100           7.621791      4123.388908   \n",
      "69       60100             120200           5.007822      6019.402271   \n",
      "93       20100             120600           5.870671      7080.029151   \n",
      "98       55100             110200           6.710454      7394.919797   \n",
      "99       60100             120200           6.095201      7326.432131   \n",
      "127      54100             162300           5.935084      9632.641646   \n",
      "128      55100             110200           7.584591      8358.218883   \n",
      "152      16100              64400           7.732667      4979.837605   \n",
      "153      20100             120600           7.233847      8724.019171   \n",
      "156      49100              98200           5.420507      5322.937541   \n",
      "157      54100             162300           6.849976     11117.510467   \n",
      "159      60100             120200           7.256696      8722.548075   \n",
      "187      54100             162300           7.178726     11651.072134   \n",
      "212      16100             112700           7.679386      8654.667566   \n",
      "213      20100             100500           5.794802      5823.776090   \n",
      "218      55100             110200           5.059801      5575.901007   \n",
      "242      16100             112700           6.858255      7729.252899   \n",
      "243      20100             140700           7.208363     10142.166673   \n",
      "246      49100             147300           7.341874     10814.580909   \n",
      "248      55100             110200           6.473305      7133.581785   \n",
      "249      60100              60100           6.439920      3870.391896   \n",
      "273      20100             100500           7.421326      7458.432228   \n",
      "278      55100             165300           6.268914     10362.514525   \n",
      "279      60100             120200           6.819111      8196.571017   \n",
      "302      16100              96600           6.170398      5960.604367   \n",
      "303      20100              80400           5.072124      4077.987845   \n",
      "307      54100              54100           6.106931      3303.849511   \n",
      "308      55100             165300           6.508719     10758.912635   \n",
      "336      49100              98200           6.066192      5957.000464   \n",
      "338      55100             165300           5.084108      8404.031228   \n",
      "368      55100             110200           6.326892      6972.234645   \n",
      "393      20100              60300           6.415230      3868.383867   \n",
      "397      54100             108200           5.055218      5469.746322   \n",
      "398      55100             110200           5.411802      5963.806009   \n",
      "399      60100             120200           5.511042      6624.272870   \n",
      "422      16100              64400           5.485157      3532.440896   \n",
      "423      20100             100500           5.466379      5493.711232   \n",
      "426      49100             147300           6.008200      8850.077961   \n",
      "427      54100              54100           6.642595      3593.644076   \n",
      "428      55100             165300           5.425911      8969.030110   \n",
      "\n",
      "     Net Sales Value  \n",
      "3      112235.925298  \n",
      "7      102190.875679  \n",
      "8      102034.064856  \n",
      "33     113104.844829  \n",
      "36     139563.638215  \n",
      "67      49976.611092  \n",
      "69     114180.597729  \n",
      "93     113519.970849  \n",
      "98     102805.080203  \n",
      "99     112873.567869  \n",
      "127    152667.358354  \n",
      "128    101841.781117  \n",
      "152     59420.162395  \n",
      "153    111875.980829  \n",
      "156     92877.062460  \n",
      "157    151182.489533  \n",
      "159    111477.451925  \n",
      "187    150648.927866  \n",
      "212    104045.332434  \n",
      "213     94676.223910  \n",
      "218    104624.098993  \n",
      "242    104970.747101  \n",
      "243    130557.833327  \n",
      "246    136485.419091  \n",
      "248    103066.418215  \n",
      "249     56229.608104  \n",
      "273     93041.567770  \n",
      "278    154937.485475  \n",
      "279    112003.428983  \n",
      "302     90639.395633  \n",
      "303     76322.012155  \n",
      "307     50796.150489  \n",
      "308    154541.087365  \n",
      "336     92242.999536  \n",
      "338    156895.968772  \n",
      "368    103227.765355  \n",
      "393     56431.616133  \n",
      "397    102730.253678  \n",
      "398    104236.193991  \n",
      "399    113575.727130  \n",
      "422     60867.559104  \n",
      "423     95006.288768  \n",
      "426    138449.922039  \n",
      "427     50506.355924  \n",
      "428    156330.969890  \n",
      "outliers are prsent, wider box indicates higher variability\n"
     ]
    }
   ],
   "source": [
    "# box plot for Discount Rate (%)\n",
    "plt.boxplot(df[\"Discount Rate (%)\"])\n",
    "plt.show()\n",
    "Q1 = df[\"Discount Rate (%)\"].quantile(0.25)\n",
    "Q3 = df[\"Discount Rate (%)\"].quantile(0.75)\n",
    "IQR = Q3 - Q1\n",
    "\n",
    "lower_bound = Q1 - 1.5 * IQR\n",
    "upper_bound = Q3 + 1.5 * IQR\n",
    "\n",
    "outliers = df[(df[\"Discount Rate (%)\"] < lower_bound) | (df[\"Discount Rate (%)\"] > upper_bound)]\n",
    "print(\"Outliers in Discount Rate (%) Column:\\n\", outliers)\n",
    "print(\"outliers are prsent, wider box indicates higher variability\")"
   ]
  },
  {
   "cell_type": "code",
   "execution_count": 73,
   "id": "f61bc005-a162-4786-8a09-9ee8d85fb260",
   "metadata": {},
   "outputs": [
    {
     "data": {
      "image/png": "[encoded data removed]",
      "text/plain": [
       "<Figure size 640x480 with 1 Axes>"
      ]
     },
     "metadata": {},
     "output_type": "display_data"
    },
    {
     "name": "stdout",
     "output_type": "stream",
     "text": [
      "Outliers in Discount Amount Column:\n",
      "            Date        Day  SKU City  Volume       BU    Brand       Model  \\\n",
      "0    01-04-2021   Thursday  M01    C      15  Mobiles    RealU       RU-10   \n",
      "6    01-04-2021   Thursday  M07    C       3  Mobiles  Sumsang        S-20   \n",
      "9    01-04-2021   Thursday  M10    C       3  Mobiles   Orange        O-11   \n",
      "30   02-04-2021     Friday  M01    C      11  Mobiles    RealU       RU-10   \n",
      "38   02-04-2021     Friday  M09    C       3  Mobiles   Orange        O-10   \n",
      "39   02-04-2021     Friday  M10    C       3  Mobiles   Orange        O-11   \n",
      "66   03-04-2021   Saturday  M07    C       4  Mobiles  Sumsang        S-20   \n",
      "90   04-04-2021     Sunday  M01    C       9  Mobiles    RealU       RU-10   \n",
      "96   04-04-2021     Sunday  M07    C       3  Mobiles  Sumsang        S-20   \n",
      "180  07-04-2021  Wednesday  M01    C      12  Mobiles    RealU       RU-10   \n",
      "186  07-04-2021  Wednesday  M07    C       3  Mobiles  Sumsang        S-20   \n",
      "188  07-04-2021  Wednesday  M09    C       3  Mobiles   Orange        O-10   \n",
      "189  07-04-2021  Wednesday  M10    C       3  Mobiles   Orange        O-11   \n",
      "210  08-04-2021   Thursday  M01    C      14  Mobiles    RealU       RU-10   \n",
      "216  08-04-2021   Thursday  M07    C       3  Mobiles  Sumsang        S-20   \n",
      "240  09-04-2021     Friday  M01    C      15  Mobiles    RealU       RU-10   \n",
      "300  11-04-2021     Sunday  M01    C      12  Mobiles    RealU       RU-10   \n",
      "309  11-04-2021     Sunday  M10    C       3  Mobiles   Orange        O-11   \n",
      "339  12-04-2021     Monday  M10    C       3  Mobiles   Orange        O-11   \n",
      "363  13-04-2021    Tuesday  M04    C       7  Mobiles     YouM  YM-99 Plus   \n",
      "366  13-04-2021    Tuesday  M07    C       3  Mobiles  Sumsang        S-20   \n",
      "390  14-04-2021  Wednesday  M01    C      11  Mobiles    RealU       RU-10   \n",
      "396  14-04-2021  Wednesday  M07    C       3  Mobiles  Sumsang        S-20   \n",
      "420  15-04-2021   Thursday  M01    C      13  Mobiles    RealU       RU-10   \n",
      "\n",
      "     Avg Price  Total Sales Value  Discount Rate (%)  Discount Amount  \\\n",
      "0        12100             181500          11.654820     21153.498820   \n",
      "6        49100             147300           9.228812     13594.039719   \n",
      "9        60100             180300           9.928444     17900.983733   \n",
      "30       12100             133100          13.107140     17445.603828   \n",
      "38       55100             165300           8.440206     13951.660194   \n",
      "39       60100             180300           9.087093     16384.029009   \n",
      "66       49100             196400           8.601080     16892.520951   \n",
      "90       12100             108900          13.971206     15214.643324   \n",
      "96       49100             147300           8.569249     12622.503658   \n",
      "180      12100             145200          11.830807     17178.331859   \n",
      "186      49100             147300           8.658225     12753.565958   \n",
      "188      55100             165300           8.469412     13999.938499   \n",
      "189      60100             180300           9.815204     17696.813621   \n",
      "210      12100             169400          14.951726     25328.224204   \n",
      "216      49100             147300           9.238451     13608.238319   \n",
      "240      12100             181500          14.180728     25738.022194   \n",
      "300      12100             145200          14.804873     21496.675367   \n",
      "309      60100             180300           9.058746     16332.919930   \n",
      "339      60100             180300           7.785268     14036.838652   \n",
      "363      20100             140700           9.050468     12734.009012   \n",
      "366      49100             147300           9.012750     13275.780741   \n",
      "390      12100             133100          12.185270     16218.594720   \n",
      "396      49100             147300           9.085015     13382.227333   \n",
      "420      12100             157300          10.161940     15984.732281   \n",
      "\n",
      "     Net Sales Value  \n",
      "0      160346.501180  \n",
      "6      133705.960281  \n",
      "9      162399.016267  \n",
      "30     115654.396172  \n",
      "38     151348.339806  \n",
      "39     163915.971000  \n",
      "66     179507.479049  \n",
      "90      93685.356680  \n",
      "96     134677.496342  \n",
      "180    128021.668141  \n",
      "186    134546.434042  \n",
      "188    151300.061501  \n",
      "189    162603.186379  \n",
      "210    144071.775796  \n",
      "216    133691.761681  \n",
      "240    155761.977806  \n",
      "300    123703.324633  \n",
      "309    163967.080070  \n",
      "339    166263.161348  \n",
      "363    127965.990988  \n",
      "366    134024.219259  \n",
      "390    116881.405280  \n",
      "396    133917.772667  \n",
      "420    141315.267719  \n",
      "outliers are prsent, wider box indicates higher variability\n"
     ]
    }
   ],
   "source": [
    "# box plot for Discount Amount\n",
    "plt.boxplot(df[\"Discount Amount\"])\n",
    "plt.show()\n",
    "Q1 = df[\"Discount Amount\"].quantile(0.25)\n",
    "Q3 = df[\"Discount Amount\"].quantile(0.75)\n",
    "IQR = Q3 - Q1\n",
    "\n",
    "lower_bound = Q1 - 1.5 * IQR\n",
    "upper_bound = Q3 + 1.5 * IQR\n",
    "\n",
    "outliers = df[(df[\"Discount Amount\"] < lower_bound) | (df[\"Discount Amount\"] > upper_bound)]\n",
    "print(\"Outliers in Discount Amount Column:\\n\", outliers)\n",
    "print(\"outliers are prsent, wider box indicates higher variability\")"
   ]
  },
  {
   "cell_type": "code",
   "execution_count": 74,
   "id": "f1063917-d16d-48d9-9db9-b66ccabe5711",
   "metadata": {},
   "outputs": [
    {
     "data": {
      "image/png": "[encoded data removed]",
      "text/plain": [
       "<Figure size 640x480 with 1 Axes>"
      ]
     },
     "metadata": {},
     "output_type": "display_data"
    },
    {
     "name": "stdout",
     "output_type": "stream",
     "text": [
      "Outliers in Net Sales Value Column:\n",
      "            Date        Day  SKU City  Volume       BU    Brand       Model  \\\n",
      "0    01-04-2021   Thursday  M01    C      15  Mobiles    RealU       RU-10   \n",
      "6    01-04-2021   Thursday  M07    C       3  Mobiles  Sumsang        S-20   \n",
      "9    01-04-2021   Thursday  M10    C       3  Mobiles   Orange        O-11   \n",
      "36   02-04-2021     Friday  M07    C       3  Mobiles  Sumsang        S-20   \n",
      "38   02-04-2021     Friday  M09    C       3  Mobiles   Orange        O-10   \n",
      "39   02-04-2021     Friday  M10    C       3  Mobiles   Orange        O-11   \n",
      "66   03-04-2021   Saturday  M07    C       4  Mobiles  Sumsang        S-20   \n",
      "96   04-04-2021     Sunday  M07    C       3  Mobiles  Sumsang        S-20   \n",
      "126  05-04-2021     Monday  M07    C       3  Mobiles  Sumsang        S-20   \n",
      "127  05-04-2021     Monday  M08    C       3  Mobiles  Sumsang        S-21   \n",
      "157  06-04-2021    Tuesday  M08    C       3  Mobiles  Sumsang        S-21   \n",
      "180  07-04-2021  Wednesday  M01    C      12  Mobiles    RealU       RU-10   \n",
      "186  07-04-2021  Wednesday  M07    C       3  Mobiles  Sumsang        S-20   \n",
      "187  07-04-2021  Wednesday  M08    C       3  Mobiles  Sumsang        S-21   \n",
      "188  07-04-2021  Wednesday  M09    C       3  Mobiles   Orange        O-10   \n",
      "189  07-04-2021  Wednesday  M10    C       3  Mobiles   Orange        O-11   \n",
      "210  08-04-2021   Thursday  M01    C      14  Mobiles    RealU       RU-10   \n",
      "216  08-04-2021   Thursday  M07    C       3  Mobiles  Sumsang        S-20   \n",
      "240  09-04-2021     Friday  M01    C      15  Mobiles    RealU       RU-10   \n",
      "243  09-04-2021     Friday  M04    C       7  Mobiles     YouM  YM-99 Plus   \n",
      "246  09-04-2021     Friday  M07    C       3  Mobiles  Sumsang        S-20   \n",
      "278  10-04-2021   Saturday  M09    C       3  Mobiles   Orange        O-10   \n",
      "300  11-04-2021     Sunday  M01    C      12  Mobiles    RealU       RU-10   \n",
      "306  11-04-2021     Sunday  M07    C       3  Mobiles  Sumsang        S-20   \n",
      "308  11-04-2021     Sunday  M09    C       3  Mobiles   Orange        O-10   \n",
      "309  11-04-2021     Sunday  M10    C       3  Mobiles   Orange        O-11   \n",
      "338  12-04-2021     Monday  M09    C       3  Mobiles   Orange        O-10   \n",
      "339  12-04-2021     Monday  M10    C       3  Mobiles   Orange        O-11   \n",
      "363  13-04-2021    Tuesday  M04    C       7  Mobiles     YouM  YM-99 Plus   \n",
      "366  13-04-2021    Tuesday  M07    C       3  Mobiles  Sumsang        S-20   \n",
      "390  14-04-2021  Wednesday  M01    C      11  Mobiles    RealU       RU-10   \n",
      "396  14-04-2021  Wednesday  M07    C       3  Mobiles  Sumsang        S-20   \n",
      "420  15-04-2021   Thursday  M01    C      13  Mobiles    RealU       RU-10   \n",
      "426  15-04-2021   Thursday  M07    C       3  Mobiles  Sumsang        S-20   \n",
      "428  15-04-2021   Thursday  M09    C       3  Mobiles   Orange        O-10   \n",
      "\n",
      "     Avg Price  Total Sales Value  Discount Rate (%)  Discount Amount  \\\n",
      "0        12100             181500          11.654820     21153.498820   \n",
      "6        49100             147300           9.228812     13594.039719   \n",
      "9        60100             180300           9.928444     17900.983733   \n",
      "36       49100             147300           5.252113      7736.361785   \n",
      "38       55100             165300           8.440206     13951.660194   \n",
      "39       60100             180300           9.087093     16384.029009   \n",
      "66       49100             196400           8.601080     16892.520951   \n",
      "96       49100             147300           8.569249     12622.503658   \n",
      "126      49100             147300           8.532278     12568.045375   \n",
      "127      54100             162300           5.935084      9632.641646   \n",
      "157      54100             162300           6.849976     11117.510467   \n",
      "180      12100             145200          11.830807     17178.331859   \n",
      "186      49100             147300           8.658225     12753.565958   \n",
      "187      54100             162300           7.178726     11651.072134   \n",
      "188      55100             165300           8.469412     13999.938499   \n",
      "189      60100             180300           9.815204     17696.813621   \n",
      "210      12100             169400          14.951726     25328.224204   \n",
      "216      49100             147300           9.238451     13608.238319   \n",
      "240      12100             181500          14.180728     25738.022194   \n",
      "243      20100             140700           7.208363     10142.166673   \n",
      "246      49100             147300           7.341874     10814.580909   \n",
      "278      55100             165300           6.268914     10362.514525   \n",
      "300      12100             145200          14.804873     21496.675367   \n",
      "306      49100             147300           8.394469     12365.053308   \n",
      "308      55100             165300           6.508719     10758.912635   \n",
      "309      60100             180300           9.058746     16332.919930   \n",
      "338      55100             165300           5.084108      8404.031228   \n",
      "339      60100             180300           7.785268     14036.838652   \n",
      "363      20100             140700           9.050468     12734.009012   \n",
      "366      49100             147300           9.012750     13275.780741   \n",
      "390      12100             133100          12.185270     16218.594720   \n",
      "396      49100             147300           9.085015     13382.227333   \n",
      "420      12100             157300          10.161940     15984.732281   \n",
      "426      49100             147300           6.008200      8850.077961   \n",
      "428      55100             165300           5.425911      8969.030110   \n",
      "\n",
      "     Net Sales Value  \n",
      "0      160346.501180  \n",
      "6      133705.960281  \n",
      "9      162399.016267  \n",
      "36     139563.638215  \n",
      "38     151348.339806  \n",
      "39     163915.971000  \n",
      "66     179507.479049  \n",
      "96     134677.496342  \n",
      "126    134731.954625  \n",
      "127    152667.358354  \n",
      "157    151182.489533  \n",
      "180    128021.668141  \n",
      "186    134546.434042  \n",
      "187    150648.927866  \n",
      "188    151300.061501  \n",
      "189    162603.186379  \n",
      "210    144071.775796  \n",
      "216    133691.761681  \n",
      "240    155761.977806  \n",
      "243    130557.833327  \n",
      "246    136485.419091  \n",
      "278    154937.485475  \n",
      "300    123703.324633  \n",
      "306    134934.946692  \n",
      "308    154541.087365  \n",
      "309    163967.080070  \n",
      "338    156895.968772  \n",
      "339    166263.161348  \n",
      "363    127965.990988  \n",
      "366    134024.219259  \n",
      "390    116881.405280  \n",
      "396    133917.772667  \n",
      "420    141315.267719  \n",
      "426    138449.922039  \n",
      "428    156330.969890  \n",
      "outliers are prsent, wider box indicates higher variability\n"
     ]
    }
   ],
   "source": [
    "# box plot for Net Sales Value\n",
    "plt.boxplot(df[\"Net Sales Value\"])\n",
    "plt.show()\n",
    "Q1 = df[\"Net Sales Value\"].quantile(0.25)\n",
    "Q3 = df[\"Net Sales Value\"].quantile(0.75)\n",
    "IQR = Q3 - Q1\n",
    "\n",
    "lower_bound = Q1 - 1.5 * IQR\n",
    "upper_bound = Q3 + 1.5 * IQR\n",
    "\n",
    "outliers = df[(df[\"Net Sales Value\"] < lower_bound) | (df[\"Net Sales Value\"] > upper_bound)]\n",
    "print(\"Outliers in Net Sales Value Column:\\n\", outliers)\n",
    "print(\"outliers are prsent, wider box indicates higher variability\")"
   ]
  },
  {
   "cell_type": "markdown",
   "id": "5fc1be28-f427-4013-afc8-605d1b6cd4d2",
   "metadata": {},
   "source": [
    "# Bar Chat"
   ]
  },
  {
   "cell_type": "code",
   "execution_count": 75,
   "id": "d66decd4-1f48-43bc-9b80-774a3ad6c8c6",
   "metadata": {},
   "outputs": [
    {
     "data": {
      "text/plain": [
       "Index(['Date', 'Day', 'SKU', 'City', 'BU', 'Brand', 'Model'], dtype='object')"
      ]
     },
     "execution_count": 75,
     "metadata": {},
     "output_type": "execute_result"
    }
   ],
   "source": [
    "df.select_dtypes(include=['object', 'category']).columns"
   ]
  },
  {
   "cell_type": "code",
   "execution_count": 76,
   "id": "53b2a62f-16fd-4ee1-b1d4-042afac16673",
   "metadata": {},
   "outputs": [
    {
     "data": {
      "text/html": [
       "<div>\n",
       "<style scoped>\n",
       "    .dataframe tbody tr th:only-of-type {\n",
       "        vertical-align: middle;\n",
       "    }\n",
       "\n",
       "    .dataframe tbody tr th {\n",
       "        vertical-align: top;\n",
       "    }\n",
       "\n",
       "    .dataframe thead th {\n",
       "        text-align: right;\n",
       "    }\n",
       "</style>\n",
       "<table border=\"1\" class=\"dataframe\">\n",
       "  <thead>\n",
       "    <tr style=\"text-align: right;\">\n",
       "      <th></th>\n",
       "      <th>Date</th>\n",
       "      <th>Day</th>\n",
       "      <th>SKU</th>\n",
       "      <th>City</th>\n",
       "      <th>Volume</th>\n",
       "      <th>BU</th>\n",
       "      <th>Brand</th>\n",
       "      <th>Model</th>\n",
       "      <th>Avg Price</th>\n",
       "      <th>Total Sales Value</th>\n",
       "      <th>Discount Rate (%)</th>\n",
       "      <th>Discount Amount</th>\n",
       "      <th>Net Sales Value</th>\n",
       "    </tr>\n",
       "  </thead>\n",
       "  <tbody>\n",
       "    <tr>\n",
       "      <th>0</th>\n",
       "      <td>01-04-2021</td>\n",
       "      <td>Thursday</td>\n",
       "      <td>M01</td>\n",
       "      <td>C</td>\n",
       "      <td>15</td>\n",
       "      <td>Mobiles</td>\n",
       "      <td>RealU</td>\n",
       "      <td>RU-10</td>\n",
       "      <td>12100</td>\n",
       "      <td>181500</td>\n",
       "      <td>11.654820</td>\n",
       "      <td>21153.498820</td>\n",
       "      <td>160346.501180</td>\n",
       "    </tr>\n",
       "    <tr>\n",
       "      <th>1</th>\n",
       "      <td>01-04-2021</td>\n",
       "      <td>Thursday</td>\n",
       "      <td>M02</td>\n",
       "      <td>C</td>\n",
       "      <td>10</td>\n",
       "      <td>Mobiles</td>\n",
       "      <td>RealU</td>\n",
       "      <td>RU-9 Plus</td>\n",
       "      <td>10100</td>\n",
       "      <td>101000</td>\n",
       "      <td>11.560498</td>\n",
       "      <td>11676.102961</td>\n",
       "      <td>89323.897039</td>\n",
       "    </tr>\n",
       "    <tr>\n",
       "      <th>2</th>\n",
       "      <td>01-04-2021</td>\n",
       "      <td>Thursday</td>\n",
       "      <td>M03</td>\n",
       "      <td>C</td>\n",
       "      <td>7</td>\n",
       "      <td>Mobiles</td>\n",
       "      <td>YouM</td>\n",
       "      <td>YM-99</td>\n",
       "      <td>16100</td>\n",
       "      <td>112700</td>\n",
       "      <td>9.456886</td>\n",
       "      <td>10657.910157</td>\n",
       "      <td>102042.089843</td>\n",
       "    </tr>\n",
       "    <tr>\n",
       "      <th>3</th>\n",
       "      <td>01-04-2021</td>\n",
       "      <td>Thursday</td>\n",
       "      <td>M04</td>\n",
       "      <td>C</td>\n",
       "      <td>6</td>\n",
       "      <td>Mobiles</td>\n",
       "      <td>YouM</td>\n",
       "      <td>YM-99 Plus</td>\n",
       "      <td>20100</td>\n",
       "      <td>120600</td>\n",
       "      <td>6.935385</td>\n",
       "      <td>8364.074702</td>\n",
       "      <td>112235.925298</td>\n",
       "    </tr>\n",
       "    <tr>\n",
       "      <th>4</th>\n",
       "      <td>01-04-2021</td>\n",
       "      <td>Thursday</td>\n",
       "      <td>M05</td>\n",
       "      <td>C</td>\n",
       "      <td>3</td>\n",
       "      <td>Mobiles</td>\n",
       "      <td>YouM</td>\n",
       "      <td>YM-98</td>\n",
       "      <td>8100</td>\n",
       "      <td>24300</td>\n",
       "      <td>17.995663</td>\n",
       "      <td>4372.946230</td>\n",
       "      <td>19927.053770</td>\n",
       "    </tr>\n",
       "  </tbody>\n",
       "</table>\n",
       "</div>"
      ],
      "text/plain": [
       "         Date       Day  SKU City  Volume       BU  Brand       Model  \\\n",
       "0  01-04-2021  Thursday  M01    C      15  Mobiles  RealU       RU-10   \n",
       "1  01-04-2021  Thursday  M02    C      10  Mobiles  RealU   RU-9 Plus   \n",
       "2  01-04-2021  Thursday  M03    C       7  Mobiles   YouM       YM-99   \n",
       "3  01-04-2021  Thursday  M04    C       6  Mobiles   YouM  YM-99 Plus   \n",
       "4  01-04-2021  Thursday  M05    C       3  Mobiles   YouM      YM-98    \n",
       "\n",
       "   Avg Price  Total Sales Value  Discount Rate (%)  Discount Amount  \\\n",
       "0      12100             181500          11.654820     21153.498820   \n",
       "1      10100             101000          11.560498     11676.102961   \n",
       "2      16100             112700           9.456886     10657.910157   \n",
       "3      20100             120600           6.935385      8364.074702   \n",
       "4       8100              24300          17.995663      4372.946230   \n",
       "\n",
       "   Net Sales Value  \n",
       "0    160346.501180  \n",
       "1     89323.897039  \n",
       "2    102042.089843  \n",
       "3    112235.925298  \n",
       "4     19927.053770  "
      ]
     },
     "execution_count": 76,
     "metadata": {},
     "output_type": "execute_result"
    }
   ],
   "source": [
    "df.head()"
   ]
  },
  {
   "cell_type": "code",
   "execution_count": 112,
   "id": "5e1acae2-abdd-4c92-926a-6e6b9d08b1fc",
   "metadata": {},
   "outputs": [
    {
     "data": {
      "image/png": "[encoded data removed]",
      "text/plain": [
       "<Figure size 640x480 with 1 Axes>"
      ]
     },
     "metadata": {},
     "output_type": "display_data"
    }
   ],
   "source": [
    "# bar chart on day column\n",
    "import matplotlib.pyplot as plt\n",
    "# Value counts for \"Day\"\n",
    "x = df[\"Day\"].value_counts()\n",
    "# Plot bar chart\n",
    "plt.bar(x.index, x.values)\n",
    "# Labels and title\n",
    "plt.xlabel('Day')\n",
    "plt.ylabel('Count')\n",
    "plt.title('Count of Each Day')\n",
    "# Show plot\n",
    "plt.show()\n",
    "# import matplotlib.pyplot as plt\n",
    "# df[\"Day\"].value_counts().plot(kind='bar')\n",
    "# plt.show()\n",
    "print(\"Thursday has more sales than other days\")"
   ]
  },
  {
   "cell_type": "code",
   "execution_count": 127,
   "id": "0a885c5f-46a7-43c1-b2dd-f636a83357a5",
   "metadata": {},
   "outputs": [
    {
     "data": {
      "image/png": "[encoded data removed]",
      "text/plain": [
       "<Figure size 640x480 with 1 Axes>"
      ]
     },
     "metadata": {},
     "output_type": "display_data"
    }
   ],
   "source": [
    "# bar chart on SKU column\n",
    "df[\"SKU\"].value_counts().plot(kind='bar')\n",
    "plt.title(\"SKU\")\n",
    "plt.show()\n",
    "print(\"SKU is same for all products\")"
   ]
  },
  {
   "cell_type": "code",
   "execution_count": 139,
   "id": "f6b576e7-2c42-4213-88bb-847eb81f53a9",
   "metadata": {},
   "outputs": [
    {
     "data": {
      "image/png": "[encoded data removed]",
      "text/plain": [
       "<Figure size 640x480 with 1 Axes>"
      ]
     },
     "metadata": {},
     "output_type": "display_data"
    },
    {
     "name": "stdout",
     "output_type": "stream",
     "text": [
      "all BU are same\n"
     ]
    },
    {
     "data": {
      "text/plain": [
       "BU\n",
       "Mobiles      150\n",
       "FMCG         150\n",
       "Lifestyle    150\n",
       "Name: count, dtype: int64"
      ]
     },
     "execution_count": 139,
     "metadata": {},
     "output_type": "execute_result"
    }
   ],
   "source": [
    "# bar chart on BU column\n",
    "df[\"BU\"].value_counts().plot(kind='bar')\n",
    "plt.title(\"BU\")\n",
    "plt.show()\n",
    "print(\"all BU are same\")\n",
    "df[\"BU\"].value_counts()"
   ]
  },
  {
   "cell_type": "code",
   "execution_count": 138,
   "id": "1c5fc3ff-5480-41cb-8150-f9da0e8a65a0",
   "metadata": {},
   "outputs": [
    {
     "data": {
      "image/png": "[encoded data removed]",
      "text/plain": [
       "<Figure size 640x480 with 1 Axes>"
      ]
     },
     "metadata": {},
     "output_type": "display_data"
    },
    {
     "name": "stdout",
     "output_type": "stream",
     "text": [
      "Jeera brand has more sales \n"
     ]
    },
    {
     "data": {
      "text/plain": [
       "Brand\n",
       "Jeera      90\n",
       "Gear       60\n",
       "Viva       60\n",
       "RealU      45\n",
       "YouM       45\n",
       "Babaji     45\n",
       "Vedic      45\n",
       "Sumsang    30\n",
       "Orange     30\n",
       "Name: count, dtype: int64"
      ]
     },
     "execution_count": 138,
     "metadata": {},
     "output_type": "execute_result"
    }
   ],
   "source": [
    "# bar chart on Brand column\n",
    "df[\"Brand\"].value_counts().plot(kind='bar')\n",
    "plt.title(\"Brand\")\n",
    "plt.show()\n",
    "print(\"Jeera brand has more sales \")\n",
    "df[\"Brand\"].value_counts()"
   ]
  },
  {
   "cell_type": "code",
   "execution_count": 137,
   "id": "c0282420-372f-4b22-872f-515e8d829862",
   "metadata": {},
   "outputs": [
    {
     "data": {
      "image/png": "[encoded data removed]",
      "text/plain": [
       "<Figure size 640x480 with 1 Axes>"
      ]
     },
     "metadata": {},
     "output_type": "display_data"
    },
    {
     "name": "stdout",
     "output_type": "stream",
     "text": [
      "All Models have same frequency \n"
     ]
    },
    {
     "data": {
      "text/plain": [
       "Model\n",
       "RU-10             15\n",
       "RU-9 Plus         15\n",
       "M-Formals         15\n",
       "W-Lounge          15\n",
       "W-Western         15\n",
       "M-Casuals         15\n",
       "M-Jeans           15\n",
       "W-Inners          15\n",
       "W-Casuals         15\n",
       "M- Inners         15\n",
       "M- T Shirts       15\n",
       "Gear BB Cream     15\n",
       "Gear Shampoo      15\n",
       "Gear Cream        15\n",
       "Gear Oil          15\n",
       "Vedic Oil         15\n",
       "Babaji Cream      15\n",
       "Babaji Shampoo    15\n",
       "Vedic Shampoo     15\n",
       "Vedic Cream       15\n",
       "Babaji Oil        15\n",
       "O-11              15\n",
       "O-10              15\n",
       "S-21              15\n",
       "S-20              15\n",
       "RU-9              15\n",
       "YM-98             15\n",
       "YM-99 Plus        15\n",
       "YM-99             15\n",
       "M-Shoes           15\n",
       "Name: count, dtype: int64"
      ]
     },
     "execution_count": 137,
     "metadata": {},
     "output_type": "execute_result"
    }
   ],
   "source": [
    "# bar chart on Model column\n",
    "df[\"Model\"].value_counts().plot(kind='bar')\n",
    "plt.title(\"Model\")\n",
    "plt.show()\n",
    "print(\"All Models have same frequency \")\n",
    "df[\"Model\"].value_counts()"
   ]
  },
  {
   "cell_type": "markdown",
   "id": "1050944f-3bd4-43d1-81ca-812baeff8fba",
   "metadata": {},
   "source": [
    "# Standardization of Numerical Variables"
   ]
  },
  {
   "cell_type": "code",
   "execution_count": 158,
   "id": "c57f835f-fe98-4206-88d3-ad9d0c075624",
   "metadata": {},
   "outputs": [
    {
     "name": "stdout",
     "output_type": "stream",
     "text": [
      "Standardization of numerical variables is a preprocessing technique used in \n",
      "data analysis and machine learning to ensure that numerical features have a uniform scale. \n",
      "This improves the dataset’s suitability for analytical models by preventing certain \n",
      "variables from dominating due to their larger numerical ranges.\n"
     ]
    }
   ],
   "source": [
    "# Explain the concept of standardization (z-score normalization).\n",
    "print('''Standardization of numerical variables is a preprocessing technique used in \n",
    "data analysis and machine learning to ensure that numerical features have a uniform scale. \n",
    "This improves the dataset’s suitability for analytical models by preventing certain \n",
    "variables from dominating due to their larger numerical ranges.''')\n",
    "# reasons for standardization\n",
    "# uniform scale,Better model performance,Eliminates Unit Dependency."
   ]
  },
  {
   "cell_type": "code",
   "execution_count": 141,
   "id": "142036ef-871c-46b8-b85a-f1dc3b2a2cd6",
   "metadata": {},
   "outputs": [
    {
     "data": {
      "text/plain": [
       "Index(['Volume', 'Avg Price', 'Total Sales Value', 'Discount Rate (%)',\n",
       "       'Discount Amount', 'Net Sales Value'],\n",
       "      dtype='object')"
      ]
     },
     "execution_count": 141,
     "metadata": {},
     "output_type": "execute_result"
    }
   ],
   "source": [
    "df._get_numeric_data().columns"
   ]
  },
  {
   "cell_type": "code",
   "execution_count": 148,
   "id": "c678c9d7-1b63-4f45-97ed-ea67c5c9218b",
   "metadata": {},
   "outputs": [
    {
     "name": "stdout",
     "output_type": "stream",
     "text": [
      "     Volume  Standardized_Volume\n",
      "0        15             2.347417\n",
      "1        10             1.165831\n",
      "2         7             0.456880\n",
      "3         6             0.220563\n",
      "4         3            -0.488389\n",
      "..      ...                  ...\n",
      "445       2            -0.724706\n",
      "446       6             0.220563\n",
      "447       2            -0.724706\n",
      "448       3            -0.488389\n",
      "449       1            -0.961023\n",
      "\n",
      "[450 rows x 2 columns]\n"
     ]
    }
   ],
   "source": [
    "# Standardization of Volume column\n",
    "# Standardization (Z-score normalization)\n",
    "df['Standardized_Volume'] = (df['Volume'] - df['Volume'].mean()) / df['Volume'].std()\n",
    "\n",
    "# Print original and standardized columns side by side\n",
    "print(df[['Volume', 'Standardized_Volume']])"
   ]
  },
  {
   "cell_type": "code",
   "execution_count": 150,
   "id": "df411534-d24a-4e8b-8b2b-ccea055fca73",
   "metadata": {},
   "outputs": [
    {
     "name": "stdout",
     "output_type": "stream",
     "text": [
      "     Avg Price  Standardized_Avg Price\n",
      "0     0.091072                0.091072\n",
      "1    -0.019548               -0.019548\n",
      "2     0.312312                0.312312\n",
      "3     0.533552                0.533552\n",
      "4    -0.130168               -0.130168\n",
      "..         ...                     ...\n",
      "445  -0.506277               -0.506277\n",
      "446  -0.434374               -0.434374\n",
      "447  -0.489684               -0.489684\n",
      "448  -0.473091               -0.473091\n",
      "449  -0.406719               -0.406719\n",
      "\n",
      "[450 rows x 2 columns]\n"
     ]
    }
   ],
   "source": [
    "# Standardization (Z-score normalization)\n",
    "df['Standardized_Avg Price'] = (df['Avg Price'] - df['Avg Price'].mean()) / df['Avg Price'].std()\n",
    "\n",
    "# Print original and standardized columns side by side\n",
    "print(df[['Avg Price', 'Standardized_Avg Price']])"
   ]
  },
  {
   "cell_type": "code",
   "execution_count": 152,
   "id": "bda823f4-2a8a-48cd-8d94-9863bae05baa",
   "metadata": {},
   "outputs": [
    {
     "name": "stdout",
     "output_type": "stream",
     "text": [
      "     Total Sales Value  Standardized_Total Sales Value\n",
      "0               181500                        2.922469\n",
      "1               101000                        1.329516\n",
      "2               112700                        1.561038\n",
      "3               120600                        1.717365\n",
      "4                24300                       -0.188242\n",
      "..                 ...                             ...\n",
      "445               2600                       -0.617647\n",
      "446              15600                       -0.360400\n",
      "447               3200                       -0.605774\n",
      "448               5700                       -0.556303\n",
      "449               3100                       -0.607753\n",
      "\n",
      "[450 rows x 2 columns]\n"
     ]
    }
   ],
   "source": [
    "# Standardization (Z-score normalization)\n",
    "df['Standardized_Total Sales Value'] = (df['Total Sales Value'] - df['Total Sales Value'].mean()) / df['Total Sales Value'].std()\n",
    "\n",
    "# Print original and standardized columns side by side\n",
    "print(df[['Total Sales Value', 'Standardized_Total Sales Value']])"
   ]
  },
  {
   "cell_type": "code",
   "execution_count": 153,
   "id": "4352d7b2-583e-446e-a4d9-6bc27567c745",
   "metadata": {},
   "outputs": [
    {
     "name": "stdout",
     "output_type": "stream",
     "text": [
      "     Discount Rate (%)  Standardized_Discount Rate (%)\n",
      "0            11.654820                       -0.829365\n",
      "1            11.560498                       -0.851714\n",
      "2             9.456886                       -1.350129\n",
      "3             6.935385                       -1.947555\n",
      "4            17.995663                        0.672990\n",
      "..                 ...                             ...\n",
      "445          15.475687                        0.075924\n",
      "446          17.057027                        0.450596\n",
      "447          18.965550                        0.902788\n",
      "448          16.793014                        0.388042\n",
      "449          15.333300                        0.042188\n",
      "\n",
      "[450 rows x 2 columns]\n"
     ]
    }
   ],
   "source": [
    "# Standardization (Z-score normalization)\n",
    "df['Standardized_Discount Rate (%)'] = (df['Discount Rate (%)'] - df['Discount Rate (%)'].mean()) / df['Discount Rate (%)'].std()\n",
    "\n",
    "# Print original and standardized columns side by side\n",
    "print(df[['Discount Rate (%)', 'Standardized_Discount Rate (%)']])"
   ]
  },
  {
   "cell_type": "code",
   "execution_count": 154,
   "id": "85f63ade-98bc-4745-96a8-1b85082c7dcc",
   "metadata": {},
   "outputs": [
    {
     "name": "stdout",
     "output_type": "stream",
     "text": [
      "     Discount Amount  Standardized_Discount Amount\n",
      "0       21153.498820                      3.948422\n",
      "1       11676.102961                      1.846958\n",
      "2       10657.910157                      1.621190\n",
      "3        8364.074702                      1.112568\n",
      "4        4372.946230                      0.227598\n",
      "..               ...                           ...\n",
      "445       402.367873                     -0.652815\n",
      "446      2660.896242                     -0.152022\n",
      "447       606.897606                     -0.607464\n",
      "448       957.201826                     -0.529789\n",
      "449       475.332295                     -0.636636\n",
      "\n",
      "[450 rows x 2 columns]\n"
     ]
    }
   ],
   "source": [
    "# Standardization (Z-score normalization)\n",
    "df['Standardized_Discount Amount'] = (df['Discount Amount'] - df['Discount Amount'].mean()) / df['Discount Amount'].std()\n",
    "\n",
    "# Print original and standardized columns side by side\n",
    "print(df[['Discount Amount', 'Standardized_Discount Amount']])"
   ]
  },
  {
   "cell_type": "code",
   "execution_count": 155,
   "id": "bdf4dcbd-1fab-47c7-adfe-4b1f34e91e1e",
   "metadata": {},
   "outputs": [
    {
     "name": "stdout",
     "output_type": "stream",
     "text": [
      "     Net Sales Value  Standardized_Net Sales Value\n",
      "0      160346.501180                      2.801638\n",
      "1       89323.897039                      1.269613\n",
      "2      102042.089843                      1.543957\n",
      "3      112235.925298                      1.763847\n",
      "4       19927.053770                     -0.227342\n",
      "..               ...                           ...\n",
      "445      2197.632127                     -0.609783\n",
      "446     12939.103758                     -0.378079\n",
      "447      2593.102394                     -0.601252\n",
      "448      4742.798174                     -0.554881\n",
      "449      2624.667705                     -0.600571\n",
      "\n",
      "[450 rows x 2 columns]\n"
     ]
    }
   ],
   "source": [
    "# Standardization (Z-score normalization)\n",
    "df['Standardized_Net Sales Value'] = (df['Net Sales Value'] - df['Net Sales Value'].mean()) / df['Net Sales Value'].std()\n",
    "\n",
    "# Print original and standardized columns side by side\n",
    "print(df[['Net Sales Value', 'Standardized_Net Sales Value']])"
   ]
  },
  {
   "cell_type": "markdown",
   "id": "5a8fc2af-c5c2-452e-8311-a02f1d545b79",
   "metadata": {},
   "source": [
    "# Conversion of Categorical Data into Dummy Variables"
   ]
  },
  {
   "cell_type": "markdown",
   "id": "bb0cbc76-01e7-4252-8665-7ae6b3895bbd",
   "metadata": {},
   "source": [
    "##### \tDiscuss the need for converting categorical data into dummy variables (one-hot encoding)."
   ]
  },
  {
   "cell_type": "code",
   "execution_count": 164,
   "id": "16f148b7-2124-45d5-97e1-114c00ff004a",
   "metadata": {},
   "outputs": [
    {
     "name": "stdout",
     "output_type": "stream",
     "text": [
      "We convert categorical data into dummy variables because most statistical\n",
      "and machine learning algorithms require numerical inputs, and dummy variables transform categorical data into a\n",
      "numerical format suitable for model analysis. \n",
      "Machine learning models work best with numerical data. Since categorical variables contain non-numeric values \n",
      "(e.g., \"Red,\" \"Blue,\" \"Green\"), they must be converted into a numerical format before being used in models. \n",
      "One common technique for this is one-hot encoding (OHE), which creates dummy variables.\n"
     ]
    }
   ],
   "source": [
    "print('''We convert categorical data into dummy variables because most statistical\n",
    "and machine learning algorithms require numerical inputs, and dummy variables transform categorical data into a\n",
    "numerical format suitable for model analysis. ''')\n",
    "\n",
    "print('''Machine learning models work best with numerical data. Since categorical variables contain non-numeric values \n",
    "(e.g., \"Red,\" \"Blue,\" \"Green\"), they must be converted into a numerical format before being used in models. \n",
    "One common technique for this is one-hot encoding (OHE), which creates dummy variables.''')"
   ]
  },
  {
   "cell_type": "code",
   "execution_count": 165,
   "id": "49e12143-f4cd-4db2-b50b-e661e87346f4",
   "metadata": {},
   "outputs": [
    {
     "data": {
      "text/plain": [
       "Index(['Date', 'Day', 'SKU', 'City', 'BU', 'Brand', 'Model'], dtype='object')"
      ]
     },
     "execution_count": 165,
     "metadata": {},
     "output_type": "execute_result"
    }
   ],
   "source": [
    "df.select_dtypes(include=['object', 'category']).columns"
   ]
  },
  {
   "cell_type": "code",
   "execution_count": 176,
   "id": "30987f36-e8b5-4198-bb78-d1db95682c10",
   "metadata": {},
   "outputs": [
    {
     "name": "stdout",
     "output_type": "stream",
     "text": [
      "           Date       Day  SKU City  Volume         BU  Brand       Model  \\\n",
      "0    01-04-2021  Thursday  M01    C      15    Mobiles  RealU       RU-10   \n",
      "1    01-04-2021  Thursday  M02    C      10    Mobiles  RealU   RU-9 Plus   \n",
      "2    01-04-2021  Thursday  M03    C       7    Mobiles   YouM       YM-99   \n",
      "3    01-04-2021  Thursday  M04    C       6    Mobiles   YouM  YM-99 Plus   \n",
      "4    01-04-2021  Thursday  M05    C       3    Mobiles   YouM      YM-98    \n",
      "..          ...       ...  ...  ...     ...        ...    ...         ...   \n",
      "445  15-04-2021  Thursday  L06    C       2  Lifestyle  Jeera   M-Casuals   \n",
      "446  15-04-2021  Thursday  L07    C       6  Lifestyle   Viva   W-Western   \n",
      "447  15-04-2021  Thursday  L08    C       2  Lifestyle   Viva    W-Lounge   \n",
      "448  15-04-2021  Thursday  L09    C       3  Lifestyle  Jeera   M-Formals   \n",
      "449  15-04-2021  Thursday  L10    C       1  Lifestyle  Jeera     M-Shoes   \n",
      "\n",
      "     Avg Price  Total Sales Value  ...  Day_Friday  Day_Monday  Day_Saturday  \\\n",
      "0     0.091072             181500  ...       False       False         False   \n",
      "1    -0.019548             101000  ...       False       False         False   \n",
      "2     0.312312             112700  ...       False       False         False   \n",
      "3     0.533552             120600  ...       False       False         False   \n",
      "4    -0.130168              24300  ...       False       False         False   \n",
      "..         ...                ...  ...         ...         ...           ...   \n",
      "445  -0.506277               2600  ...       False       False         False   \n",
      "446  -0.434374              15600  ...       False       False         False   \n",
      "447  -0.489684               3200  ...       False       False         False   \n",
      "448  -0.473091               5700  ...       False       False         False   \n",
      "449  -0.406719               3100  ...       False       False         False   \n",
      "\n",
      "     Day_Sunday  Day_Thursday  Day_Tuesday  Day_Wednesday  BU_FMCG  \\\n",
      "0         False          True        False          False    False   \n",
      "1         False          True        False          False    False   \n",
      "2         False          True        False          False    False   \n",
      "3         False          True        False          False    False   \n",
      "4         False          True        False          False    False   \n",
      "..          ...           ...          ...            ...      ...   \n",
      "445       False          True        False          False    False   \n",
      "446       False          True        False          False    False   \n",
      "447       False          True        False          False    False   \n",
      "448       False          True        False          False    False   \n",
      "449       False          True        False          False    False   \n",
      "\n",
      "     BU_Lifestyle BU_Mobiles  \n",
      "0           False       True  \n",
      "1           False       True  \n",
      "2           False       True  \n",
      "3           False       True  \n",
      "4           False       True  \n",
      "..            ...        ...  \n",
      "445          True      False  \n",
      "446          True      False  \n",
      "447          True      False  \n",
      "448          True      False  \n",
      "449          True      False  \n",
      "\n",
      "[450 rows x 46 columns]\n"
     ]
    }
   ],
   "source": [
    "encoded_df = pd.get_dummies(df, columns=['Day', 'BU'])\n",
    "final_df = pd.concat([df, encoded_df], axis=1)\n",
    "# Print the result\n",
    "print(final_df)\n",
    "# we did only for two columns because other categorical values has more unique values which increases cardinallity"
   ]
  },
  {
   "cell_type": "markdown",
   "id": "8639f0e0-06b3-4837-ba6f-9331a9c5b2bf",
   "metadata": {},
   "source": [
    "# Conclusion"
   ]
  },
  {
   "cell_type": "markdown",
   "id": "641e64ff-ac01-4b32-a253-87cadff47dfd",
   "metadata": {},
   "source": [
    "##### Summarize the key findings from the descriptive analytics and data visualizations"
   ]
  },
  {
   "cell_type": "code",
   "execution_count": 180,
   "id": "821ed97e-749d-43fe-af0c-30ef3f55aa57",
   "metadata": {},
   "outputs": [
    {
     "name": "stdout",
     "output_type": "stream",
     "text": [
      "There are many outliers in the given dataset\n",
      "we can see on the day of friday there are more sales when compared to others days\n"
     ]
    }
   ],
   "source": [
    "print('''There are many outliers in the given dataset\n",
    "we can see on the day of friday there are more sales when compared to others days''')\n"
   ]
  },
  {
   "cell_type": "markdown",
   "id": "825cc21f-86b8-489b-a722-347073e6bb4e",
   "metadata": {},
   "source": [
    "##### \tReflect on the importance of data preprocessing steps like standardization and one-hot encoding in data analysis and machine learning."
   ]
  },
  {
   "cell_type": "code",
   "execution_count": 177,
   "id": "fc3e5a1b-ac90-43a7-b5f8-ce2bc9bb9843",
   "metadata": {},
   "outputs": [
    {
     "data": {
      "text/plain": [
       "\"Preprocessing data helps improve the quality of the dataset, making it more suitable for analysis and model building. \\nBy taking the time to preprocess data, we can significantly improve a model's accuracy, reduce training time, and ensure better results\""
      ]
     },
     "execution_count": 177,
     "metadata": {},
     "output_type": "execute_result"
    }
   ],
   "source": [
    "'''Preprocessing data helps improve the quality of the dataset, making it more suitable for analysis and model building. \n",
    "By taking the time to preprocess data, we can significantly improve a model's accuracy, reduce training time, and ensure better results'''\n"
   ]
  },
  {
   "cell_type": "code",
   "execution_count": 178,
   "id": "b1eb2af1-8552-401c-a921-f79111ce241a",
   "metadata": {},
   "outputs": [
    {
     "data": {
      "text/plain": [
       "'standardization and one-hot encoding are crucial data preprocessing steps in data analysis and machine learning,\\nensuring data is in a suitable format for model training and improving accuracy and efficiency.'"
      ]
     },
     "execution_count": 178,
     "metadata": {},
     "output_type": "execute_result"
    }
   ],
   "source": [
    "'''standardization and one-hot encoding are crucial data preprocessing steps in data analysis and machine learning,\n",
    "ensuring data is in a suitable format for model training and improving accuracy and efficiency.''' \n"
   ]
  },
  {
   "cell_type": "code",
   "execution_count": 179,
   "id": "dc5e6893-dd16-43cf-9315-a73efcba722a",
   "metadata": {},
   "outputs": [
    {
     "data": {
      "text/plain": [
       "'Data preprocessing is a crucial step in any machine learning pipeline because real-world data is\\noften messy, inconsistent, or in a format that models cannot directly process. \\nTechniques like standardization and one-hot encoding ensure that data is transformed into a suitable form for \\naccurate, efficient, and interpretable model training.'"
      ]
     },
     "execution_count": 179,
     "metadata": {},
     "output_type": "execute_result"
    }
   ],
   "source": [
    "'''Data preprocessing is a crucial step in any machine learning pipeline because real-world data is\n",
    "often messy, inconsistent, or in a format that models cannot directly process. \n",
    "Techniques like standardization and one-hot encoding ensure that data is transformed into a suitable form for \n",
    "accurate, efficient, and interpretable model training.'''"
   ]
  },
  {
   "cell_type": "code",
   "execution_count": null,
   "id": "e41d6777-baba-431a-ad14-1ea5eecf8d89",
   "metadata": {},
   "outputs": [],
   "source": []
  }
 ],
 "metadata": {
  "kernelspec": {
   "display_name": "Python 3 (ipykernel)",
   "language": "python",
   "name": "python3"
  },
  "language_info": {
   "codemirror_mode": {
    "name": "ipython",
    "version": 3
   },
   "file_extension": ".py",
   "mimetype": "text/x-python",
   "name": "python",
   "nbconvert_exporter": "python",
   "pygments_lexer": "ipython3",
   "version": "3.12.7"
  }
 },
 "nbformat": 4,
 "nbformat_minor": 5
}
